{
 "cells": [
  {
   "cell_type": "code",
   "execution_count": 384,
   "metadata": {},
   "outputs": [],
   "source": [
    "import numpy as np\n",
    "from tqdm import tqdm\n",
    "import multiprocessing as mp"
   ]
  },
  {
   "cell_type": "code",
   "execution_count": 195,
   "metadata": {},
   "outputs": [],
   "source": [
    "def generate_sequence(start, end_pos):\n",
    "    seq = [start]\n",
    "    pos = start\n",
    "    while pos!=0 and pos!=end_pos:\n",
    "        if np.random.rand()<0.5:\n",
    "            pos = pos-1\n",
    "        else:\n",
    "            pos = pos+1\n",
    "        seq.append(pos)\n",
    "    return seq"
   ]
  },
  {
   "cell_type": "code",
   "execution_count": 86,
   "metadata": {},
   "outputs": [],
   "source": [
    "class random_walk():\n",
    "    def __init__(self, pos_, n_state_=7):\n",
    "        self.end_pos = n_state_-1\n",
    "        self.pos = pos_\n",
    "    \n",
    "    def step(self):\n",
    "        if self.pos!=0 and self.pos!=self.end_pos:\n",
    "            if np.random.rand()<0.5:\n",
    "                self.pos = self.pos-1\n",
    "            else:\n",
    "                self.pos = self.pos+1\n",
    "            return None\n",
    "        else:\n",
    "            return 1 if self.pos==self.end_pos else 0"
   ]
  },
  {
   "cell_type": "code",
   "execution_count": 316,
   "metadata": {},
   "outputs": [],
   "source": [
    "n_state = 7\n",
    "\n",
    "def update(w, seq, alpha, lm):\n",
    "    dw = np.zeros([n_state])\n",
    "    et = np.zeros([n_state])\n",
    "    #walk = random_walk(4, n_state)\n",
    "    #t = 1\n",
    "    for t in range(len(seq)):\n",
    "        de = np.zeros([n_state])\n",
    "        de[seq[t]] = 1\n",
    "        et = de + lm * et\n",
    "        \n",
    "        P0 = w[seq[t]] \n",
    "        \n",
    "        if t < len(seq)-1:\n",
    "            P1 = w[seq[t+1]]\n",
    "        else:\n",
    "            P1 = 1 if seq[-1]==n_state-1 else 0\n",
    "            \n",
    "        #print(t, P1, P0, et)\n",
    "        #print(P1-P0, sum(abs(et)))\n",
    "        dw += alpha * (P1-P0) * et\n",
    "        \n",
    "    return dw\n",
    "        \n",
    "#     while True:\n",
    "#         de = np.zeros([n_state])\n",
    "#         de[walk.pos] = 1\n",
    "#         et = de + lm * et\n",
    "        \n",
    "#         r = walk.step()\n",
    "#         P1 = w[walk.pos] if r is None else r    \n",
    "#         dw += alpha*(P1-P0)*et\n",
    "#         #print(alpha*(P1-P0),sum(abs(et)),sum(abs(w)))\n",
    "#         P0 = P1\n",
    "#         if r==0 or r==1:\n",
    "#             break\n",
    "#         #t+=1\n",
    "#     return dw"
   ]
  },
  {
   "cell_type": "code",
   "execution_count": 373,
   "metadata": {},
   "outputs": [],
   "source": [
    "n_state = 7\n",
    "w_true = np.array([0, 1/6.0, 1/3.0, 0.5, 2/3.0, 5/6.0, 1])\n",
    "training_size = 10\n",
    "n_training_set = 100\n",
    "seqs = [[generate_sequence(3, n_state-1) for _ in range(training_size)] for _ in range(n_training_set)]"
   ]
  },
  {
   "cell_type": "code",
   "execution_count": 387,
   "metadata": {},
   "outputs": [],
   "source": [
    "def rmse(w, w_true):\n",
    "    return np.sqrt(np.mean((w-w_true)**2))\n",
    "\n",
    "def training_1(alpha, lm, training_set):\n",
    "    w = np.ones([n_state])*0.5\n",
    "    max_iteration = 10000\n",
    "\n",
    "    seqs = []\n",
    "\n",
    "    for n in range(max_iteration):\n",
    "        dw = np.zeros([n_state])\n",
    "        for seq in training_set:\n",
    "            dw += update(w, seq, alpha/len(training_set), lm)\n",
    "        w += dw\n",
    "        #print(sum(abs(dw)), w, \"\\n\")\n",
    "        if sum(abs(dw)) < 1e-4:\n",
    "            #print(f\"converge in {n} iteration\")\n",
    "            break\n",
    "    #w, sum(abs(dw))\n",
    "    error = rmse(w[1:-1], w_true[1:-1])\n",
    "    \n",
    "    return error\n",
    "\n",
    "def training_2(alpha, lm, training_set):\n",
    "    w = np.ones([n_state])*0.5\n",
    "    for seq in training_set:\n",
    "        w += update(w, seq, alpha, lm)\n",
    "    error = rmse(w[1:-1], w_true[1:-1])\n",
    "    \n",
    "    return error\n",
    "\n",
    "def experiment_1(alpha, lm):\n",
    "    return np.mean([training_1(alpha, lm, training_set) for training_set in tqdm(seqs)])\n",
    "\n",
    "def experiment_2(alpha, lm):\n",
    "    return np.mean([training_2(alpha, lm, training_set) for training_set in tqdm(seqs)])"
   ]
  },
  {
   "cell_type": "code",
   "execution_count": 426,
   "metadata": {},
   "outputs": [
    {
     "name": "stderr",
     "output_type": "stream",
     "text": [
      "100%|██████████| 100/100 [00:22<00:00,  4.41it/s]\n",
      "100%|██████████| 100/100 [00:23<00:00,  4.56it/s]\n",
      "100%|██████████| 100/100 [00:24<00:00,  4.70it/s]\n",
      " 96%|█████████▌| 96/100 [00:25<00:01,  3.61it/s]]\n",
      " 93%|█████████▎| 93/100 [00:26<00:01,  4.15it/s]]\n",
      "100%|██████████| 100/100 [00:26<00:00,  6.48it/s]\n",
      "100%|██████████| 100/100 [00:27<00:00,  6.70it/s]\n",
      "100%|██████████| 100/100 [00:27<00:00,  6.70it/s]\n",
      "100%|██████████| 100/100 [00:28<00:00,  7.06it/s]\n",
      "100%|██████████| 100/100 [00:28<00:00,  6.90it/s]\n",
      "100%|██████████| 100/100 [00:28<00:00,  6.57it/s]\n"
     ]
    }
   ],
   "source": [
    "pool = mp.Pool(mp.cpu_count())\n",
    "\n",
    "for lm in np.linspace(0,1,11):\n",
    "    errors = pool.apply_async(experiment_1, args=(0.1, lm))\n",
    "errors = [errors]\n",
    "\n",
    "# error = {}\n",
    "# for lm in tqdm(np.linspace(0,1,11)):\n",
    "#     error[lm] = np.mean([training_1(alpha=0.1, lm=lm, seqs[i]) for i in range(100)])"
   ]
  },
  {
   "cell_type": "code",
   "execution_count": 424,
   "metadata": {},
   "outputs": [
    {
     "name": "stderr",
     "output_type": "stream",
     "text": [
      "  0%|          | 0/100 [00:00<?, ?it/s]\n",
      "\n",
      "\n",
      "\n"
     ]
    }
   ],
   "source": [
    "pool = mp.Pool(mp.cpu_count())\n",
    "\n",
    "for alpha, lm in itertools.product(np.linspace(0,1,2), np.linspace(0.05,0.6,2)):\n",
    "    errors = pool.apply_async(experiment_2, args=(alpha, lm))\n",
    "errors = [errors]"
   ]
  },
  {
   "cell_type": "code",
   "execution_count": 427,
   "metadata": {},
   "outputs": [
    {
     "data": {
      "text/plain": [
       "[<multiprocessing.pool.ApplyResult at 0x1245bc5d0>]"
      ]
     },
     "execution_count": 427,
     "metadata": {},
     "output_type": "execute_result"
    }
   ],
   "source": []
  },
  {
   "cell_type": "code",
   "execution_count": null,
   "metadata": {},
   "outputs": [],
   "source": []
  }
 ],
 "metadata": {
  "kernelspec": {
   "display_name": "Python 3",
   "language": "python",
   "name": "python3"
  },
  "language_info": {
   "codemirror_mode": {
    "name": "ipython",
    "version": 3
   },
   "file_extension": ".py",
   "mimetype": "text/x-python",
   "name": "python",
   "nbconvert_exporter": "python",
   "pygments_lexer": "ipython3",
   "version": "3.7.4"
  }
 },
 "nbformat": 4,
 "nbformat_minor": 4
}
