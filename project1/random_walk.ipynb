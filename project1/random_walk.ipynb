{
 "cells": [
  {
   "cell_type": "code",
   "execution_count": 1,
   "metadata": {},
   "outputs": [],
   "source": [
    "import numpy as np\n",
    "from tqdm import tqdm\n",
    "import multiprocessing as mp\n",
    "import matplotlib.pyplot as plt"
   ]
  },
  {
   "cell_type": "code",
   "execution_count": 2,
   "metadata": {},
   "outputs": [],
   "source": [
    "def generate_sequence(start, end_pos):\n",
    "    \"\"\"Generate a random sequence\"\"\"\n",
    "    seq = [start]\n",
    "    pos = start\n",
    "    while pos!=0 and pos!=end_pos:\n",
    "        if np.random.rand()<0.5:\n",
    "            pos = pos-1\n",
    "        else:\n",
    "            pos = pos+1\n",
    "        seq.append(pos)\n",
    "    return seq\n",
    "\n",
    "def update(w, seq, alpha, lm):\n",
    "    \"\"\"compute dw for each sequence\"\"\"\n",
    "    n_state = len(w)\n",
    "    dw = np.zeros([n_state])\n",
    "    et = np.zeros([n_state])\n",
    "\n",
    "    for t in range(len(seq)-1):\n",
    "        de = np.zeros([n_state])\n",
    "        de[seq[t]] = 1\n",
    "        et = de + lm * et\n",
    "        \n",
    "        P0 = w[seq[t]] \n",
    "        P1 = w[seq[t+1]]\n",
    "#         if t < len(seq)-1:\n",
    "#             P1 = w[seq[t+1]]\n",
    "#         else:\n",
    "#             P1 = 1 if seq[-1]==n_state-1 else 0\n",
    "            \n",
    "        dw += alpha * (P1-P0) * et\n",
    "        \n",
    "    return dw\n",
    "\n",
    "def rmse(w, w_true):\n",
    "    return np.sqrt(np.mean((w-w_true)**2))"
   ]
  },
  {
   "cell_type": "markdown",
   "metadata": {},
   "source": [
    "### Sanity Check\n",
    "make sure $\\omega$ converge to theortical value"
   ]
  },
  {
   "cell_type": "code",
   "execution_count": 3,
   "metadata": {},
   "outputs": [
    {
     "data": {
      "text/plain": [
       "(array([0.        , 0.17228825, 0.33428855, 0.49998148, 0.66293232,\n",
       "        0.83066431, 1.        ]), 0.0032736516287002826)"
      ]
     },
     "execution_count": 3,
     "metadata": {},
     "output_type": "execute_result"
    }
   ],
   "source": [
    "n_state = 7\n",
    "w_true = np.array([1/6.0, 1/3.0, 0.5, 2/3.0, 5/6.0])\n",
    "w_mean = np.array([0]*7)\n",
    "N=1000\n",
    "for _ in range(N):\n",
    "    w = np.array([0,0.5,0.5,0.5,0.5,0.5,1])\n",
    "    for _ in range(100):\n",
    "        seq = generate_sequence(3, n_state-1)\n",
    "        w += update(w, seq, 0.2, 0.3)\n",
    "    w_mean = w_mean + w/N\n",
    "w_mean, rmse(w_mean[1:-1], w_true)"
   ]
  },
  {
   "cell_type": "code",
   "execution_count": 4,
   "metadata": {},
   "outputs": [
    {
     "data": {
      "text/plain": [
       "(array([0.        , 0.17282769, 0.34214764, 0.5095607 , 0.66586766,\n",
       "        0.83012005, 1.        ]), 0.00660334577588238)"
      ]
     },
     "execution_count": 4,
     "metadata": {},
     "output_type": "execute_result"
    }
   ],
   "source": [
    "w = np.array([0,0.5,0.5,0.5,0.5,0.5,1])\n",
    "for t in range(1,10000):\n",
    "    seq = generate_sequence(3, n_state-1)\n",
    "    w += update(w, seq, 0.3/t**0.6, 0.3)\n",
    "w, rmse(w[1:-1], w_true)"
   ]
  },
  {
   "cell_type": "markdown",
   "metadata": {},
   "source": [
    "### Experiment setup"
   ]
  },
  {
   "cell_type": "code",
   "execution_count": 5,
   "metadata": {},
   "outputs": [],
   "source": [
    "training_size = 10\n",
    "n_training_set = 100\n",
    "lms = [0,0.1,0.2,0.3,0.4,0.5,0.6,0.7,0.8,0.9,1]\n",
    "alphas = [0.05,0.1,0.15,0.2,0.25,0.3,0.35,0.4,0.45,0.5,0.55,0.6]\n",
    "seqs = [[generate_sequence(3, n_state-1) for _ in range(training_size)] for _ in range(n_training_set)]"
   ]
  },
  {
   "cell_type": "code",
   "execution_count": 6,
   "metadata": {},
   "outputs": [],
   "source": [
    "def training_1(alpha, lm, training_set):\n",
    "    \"\"\"\n",
    "    experiment 1 training for each training set\n",
    "    increment dw over seqs, update w once after every pass of training set\n",
    "    repeat until w is converged on the given training_set\n",
    "    \"\"\"\n",
    "    w = np.array([0,0.5,0.5,0.5,0.5,0.5,1])\n",
    "    max_iteration = 10000\n",
    "\n",
    "    for n in range(max_iteration):\n",
    "        dw = np.zeros([n_state])\n",
    "        for seq in training_set:\n",
    "            dw += update(w, seq, alpha/len(training_set), lm)\n",
    "        w += dw\n",
    "        if np.linalg.norm(dw, 2) < 1e-5:\n",
    "            break\n",
    "    else:\n",
    "        raise AssertionError(\"unconverged\")\n",
    "    error = rmse(w[1:-1], w_true)\n",
    "    \n",
    "    return error\n",
    "\n",
    "def training_2(alpha, lm, training_set):\n",
    "    \"\"\"\n",
    "    experiment 2 training for each training set\n",
    "    update w for each seq in the training set\n",
    "    only run a single pass for a given training set\n",
    "    \"\"\"\n",
    "    w = np.array([0,0.5,0.5,0.5,0.5,0.5,1])\n",
    "    for seq in training_set:\n",
    "        w += update(w, seq, alpha, lm)\n",
    "    error = rmse(w[1:-1], w_true)\n",
    "    \n",
    "    return error\n",
    "\n",
    "def experiment_1(alpha, lm):\n",
    "    \"\"\" compute the average and standard deviation of RMSE error for N training set\"\"\"\n",
    "    errors = [training_1(alpha, lm, training_set) for training_set in tqdm(seqs)]\n",
    "    return np.mean(errors), np.std(errors)\n",
    "\n",
    "def experiment_2(alpha, lm):\n",
    "    \"\"\" compute the average and standard deviation of RMSE error for N training set\"\"\"\n",
    "    errors = [training_2(alpha, lm, training_set) for training_set in seqs]\n",
    "    return np.mean(errors), np.std(errors)"
   ]
  },
  {
   "cell_type": "markdown",
   "metadata": {},
   "source": [
    "### Experiment 1"
   ]
  },
  {
   "cell_type": "code",
   "execution_count": 7,
   "metadata": {},
   "outputs": [
    {
     "name": "stderr",
     "output_type": "stream",
     "text": [
      "100%|██████████| 100/100 [00:10<00:00,  9.42it/s]\n",
      "100%|██████████| 100/100 [00:10<00:00,  9.30it/s]\n",
      "100%|██████████| 100/100 [00:11<00:00,  8.74it/s]\n",
      "100%|██████████| 100/100 [00:12<00:00,  8.04it/s]\n",
      "100%|██████████| 100/100 [00:13<00:00,  7.95it/s]\n",
      "100%|██████████| 100/100 [00:14<00:00,  8.60it/s]\n",
      "100%|██████████| 100/100 [00:15<00:00,  6.47it/s]\n",
      "100%|██████████| 100/100 [00:16<00:00,  6.15it/s]\n",
      "100%|██████████| 100/100 [00:16<00:00,  5.91it/s]\n",
      "100%|██████████| 100/100 [00:17<00:00,  5.70it/s]\n",
      "100%|██████████| 100/100 [00:18<00:00,  5.30it/s]\n"
     ]
    },
    {
     "name": "stdout",
     "output_type": "stream",
     "text": [
      "maximum standard error: 0.00923\n"
     ]
    }
   ],
   "source": [
    "pool = mp.Pool(mp.cpu_count())\n",
    "\n",
    "errors = [pool.apply_async(experiment_1, args=(0.1, lm)) for lm in lms]\n",
    "mean_error = [e.get()[0] for e in errors]\n",
    "std_error = [e.get()[1]/np.sqrt(n_training_set) for e in errors]\n",
    "print(\"maximum standard error:\", round(max(std_error),5))"
   ]
  },
  {
   "cell_type": "code",
   "execution_count": 9,
   "metadata": {},
   "outputs": [
    {
     "data": {
      "image/png": "[encoded data removed]",
      "text/plain": [
       "<Figure size 432x288 with 1 Axes>"
      ]
     },
     "metadata": {
      "needs_background": "light"
     },
     "output_type": "display_data"
    }
   ],
   "source": [
    "plt.errorbar(lms, mean_error, std_error, marker='.')\n",
    "plt.xlabel(\"$\\lambda$\")\n",
    "plt.ylabel(\"Experiment 1 RMSE\")\n",
    "plt.title(\"Figure 3\")\n",
    "plt.savefig(\"figure3.png\")\n",
    "plt.show()"
   ]
  },
  {
   "cell_type": "markdown",
   "metadata": {},
   "source": [
    "### Experiment 2"
   ]
  },
  {
   "cell_type": "code",
   "execution_count": 10,
   "metadata": {},
   "outputs": [],
   "source": [
    "initial_error = rmse(np.array([0.5]*5), w_true)\n",
    "\n",
    "results = {'mean_error':{}, 'std_error':{}}\n",
    "for lm in lms:\n",
    "    results['mean_error'][lm] = {0: initial_error}\n",
    "    results['std_error'][lm] = {0: 0}\n",
    "    for alpha in alphas:\n",
    "        mean, std = experiment_2(alpha, lm)\n",
    "        results['mean_error'][lm][alpha] = mean\n",
    "        results['std_error'][lm][alpha] = std/np.sqrt(n_training_set)"
   ]
  },
  {
   "cell_type": "code",
   "execution_count": 11,
   "metadata": {},
   "outputs": [
    {
     "data": {
      "image/png": "[encoded data removed]",
      "text/plain": [
       "<Figure size 432x288 with 1 Axes>"
      ]
     },
     "metadata": {
      "needs_background": "light"
     },
     "output_type": "display_data"
    }
   ],
   "source": [
    "for lm in [0,0.3,0.8,1]:\n",
    "    plt.errorbar(x = [0]+alphas, \n",
    "              y = results['mean_error'][lm].values(), \n",
    "              yerr = results['std_error'][lm].values(),\n",
    "              label=f'$\\lambda$={lm}', marker='.')\n",
    "plt.legend()\n",
    "plt.ylim(0,0.7)\n",
    "plt.xlabel(\"alpha\")\n",
    "plt.ylabel(\"Experiment 2 RMSE\")\n",
    "plt.title(\"Figure 4\")\n",
    "plt.savefig(\"figure4.png\")\n",
    "plt.show()"
   ]
  },
  {
   "cell_type": "code",
   "execution_count": 12,
   "metadata": {},
   "outputs": [
    {
     "data": {
      "image/png": "[encoded data removed]",
      "text/plain": [
       "<Figure size 432x288 with 1 Axes>"
      ]
     },
     "metadata": {
      "needs_background": "light"
     },
     "output_type": "display_data"
    }
   ],
   "source": [
    "best_error, best_std_error = [], []\n",
    "for lm in lms:\n",
    "    best_alpha = min(results['mean_error'][0.1].items(), key = lambda x: x[1])[0]\n",
    "    best_error.append(results['mean_error'][lm][best_alpha])\n",
    "    best_std_error.append(results['std_error'][lm][best_alpha])\n",
    "\n",
    "plt.errorbar(lms, best_error, best_std_error, marker='.')\n",
    "plt.xlabel(\"$\\lambda$\")\n",
    "plt.ylabel(\"Experiment 2 RMSE with best alpha\")\n",
    "plt.title(\"Figure 5\")\n",
    "plt.savefig(\"figure5.png\")\n",
    "plt.show()"
   ]
  },
  {
   "cell_type": "code",
   "execution_count": null,
   "metadata": {},
   "outputs": [],
   "source": []
  }
 ],
 "metadata": {
  "kernelspec": {
   "display_name": "Python 3",
   "language": "python",
   "name": "python3"
  },
  "language_info": {
   "codemirror_mode": {
    "name": "ipython",
    "version": 3
   },
   "file_extension": ".py",
   "mimetype": "text/x-python",
   "name": "python",
   "nbconvert_exporter": "python",
   "pygments_lexer": "ipython3",
   "version": "3.7.4"
  }
 },
 "nbformat": 4,
 "nbformat_minor": 4
}
