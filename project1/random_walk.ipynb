{
 "cells": [
  {
   "cell_type": "code",
   "execution_count": 369,
   "metadata": {},
   "outputs": [],
   "source": [
    "import numpy as np\n",
    "from tqdm import tqdm"
   ]
  },
  {
   "cell_type": "code",
   "execution_count": 195,
   "metadata": {},
   "outputs": [],
   "source": [
    "def generate_sequence(start, end_pos):\n",
    "    seq = [start]\n",
    "    pos = start\n",
    "    while pos!=0 and pos!=end_pos:\n",
    "        if np.random.rand()<0.5:\n",
    "            pos = pos-1\n",
    "        else:\n",
    "            pos = pos+1\n",
    "        seq.append(pos)\n",
    "    return seq"
   ]
  },
  {
   "cell_type": "code",
   "execution_count": 86,
   "metadata": {},
   "outputs": [],
   "source": [
    "class random_walk():\n",
    "    def __init__(self, pos_, n_state_=7):\n",
    "        self.end_pos = n_state_-1\n",
    "        self.pos = pos_\n",
    "    \n",
    "    def step(self):\n",
    "        if self.pos!=0 and self.pos!=self.end_pos:\n",
    "            if np.random.rand()<0.5:\n",
    "                self.pos = self.pos-1\n",
    "            else:\n",
    "                self.pos = self.pos+1\n",
    "            return None\n",
    "        else:\n",
    "            return 1 if self.pos==self.end_pos else 0"
   ]
  },
  {
   "cell_type": "code",
   "execution_count": 316,
   "metadata": {},
   "outputs": [],
   "source": [
    "n_state = 7\n",
    "\n",
    "def update(w, seq, alpha, lm):\n",
    "    dw = np.zeros([n_state])\n",
    "    et = np.zeros([n_state])\n",
    "    #walk = random_walk(4, n_state)\n",
    "    #t = 1\n",
    "    for t in range(len(seq)):\n",
    "        de = np.zeros([n_state])\n",
    "        de[seq[t]] = 1\n",
    "        et = de + lm * et\n",
    "        \n",
    "        P0 = w[seq[t]] \n",
    "        \n",
    "        if t < len(seq)-1:\n",
    "            P1 = w[seq[t+1]]\n",
    "        else:\n",
    "            P1 = 1 if seq[-1]==n_state-1 else 0\n",
    "            \n",
    "        #print(t, P1, P0, et)\n",
    "        #print(P1-P0, sum(abs(et)))\n",
    "        dw += alpha * (P1-P0) * et\n",
    "        \n",
    "    return dw\n",
    "        \n",
    "#     while True:\n",
    "#         de = np.zeros([n_state])\n",
    "#         de[walk.pos] = 1\n",
    "#         et = de + lm * et\n",
    "        \n",
    "#         r = walk.step()\n",
    "#         P1 = w[walk.pos] if r is None else r    \n",
    "#         dw += alpha*(P1-P0)*et\n",
    "#         #print(alpha*(P1-P0),sum(abs(et)),sum(abs(w)))\n",
    "#         P0 = P1\n",
    "#         if r==0 or r==1:\n",
    "#             break\n",
    "#         #t+=1\n",
    "#     return dw"
   ]
  },
  {
   "cell_type": "code",
   "execution_count": 373,
   "metadata": {},
   "outputs": [],
   "source": [
    "n_state = 7\n",
    "w_true = np.array([0, 1/6.0, 1/3.0, 0.5, 2/3.0, 5/6.0, 1])\n",
    "training_size = 10\n",
    "n_training_set = 100\n",
    "seqs = [[generate_sequence(3, n_state-1) for _ in range(training_size)] for _ in range(n_training_set)]"
   ]
  },
  {
   "cell_type": "code",
   "execution_count": 374,
   "metadata": {},
   "outputs": [],
   "source": [
    "def rmse(w, w_true):\n",
    "    return np.sqrt(np.mean((w-w_true)**2))\n",
    "\n",
    "def training(alpha, lm, training_set):\n",
    "    w = np.ones([n_state])*0.5\n",
    "    max_iteration = 10000\n",
    "\n",
    "    seqs = []\n",
    "\n",
    "    for n in range(max_iteration):\n",
    "        dw = np.zeros([n_state])\n",
    "        for seq in training_set:\n",
    "            dw += update(w, seq, alpha/len(training_set), lm)\n",
    "        w += dw\n",
    "        #print(sum(abs(dw)), w, \"\\n\")\n",
    "        if sum(abs(dw)) < 1e-4:\n",
    "            #print(f\"converge in {n} iteration\")\n",
    "            break\n",
    "    #w, sum(abs(dw))\n",
    "    error = rmse(w[1:-1], w_true[1:-1])\n",
    "    \n",
    "    return error"
   ]
  },
  {
   "cell_type": "code",
   "execution_count": 370,
   "metadata": {},
   "outputs": [
    {
     "name": "stderr",
     "output_type": "stream",
     "text": [
      "100%|██████████| 11/11 [01:49<00:00,  9.03s/it]\n"
     ]
    }
   ],
   "source": [
    "error = {}\n",
    "for lm in tqdm(np.linspace(0,1,11)):\n",
    "    error[lm] = np.mean([training(alpha=0.1, lm=lm, seqs[i]) for i in range(100)])"
   ]
  },
  {
   "cell_type": "code",
   "execution_count": 376,
   "metadata": {},
   "outputs": [
    {
     "data": {
      "text/plain": [
       "0.12934432575386917"
      ]
     },
     "execution_count": 376,
     "metadata": {},
     "output_type": "execute_result"
    }
   ],
   "source": [
    "np.mean([training(0.1, 0.2, training_set) for training_set in seqs])"
   ]
  },
  {
   "cell_type": "code",
   "execution_count": 334,
   "metadata": {},
   "outputs": [
    {
     "data": {
      "text/plain": [
       "array([0.2657205 , 0.43596674, 0.45811905, 0.4826912 , 0.51443704,\n",
       "       0.55374487, 0.67195   ])"
      ]
     },
     "execution_count": 334,
     "metadata": {},
     "output_type": "execute_result"
    }
   ],
   "source": [
    "w = np.ones([n_state])*0.5\n",
    "dw = np.zeros([n_state])\n",
    "for i in range(10):\n",
    "    seq = generate_sequence(3, n_state-1)\n",
    "    #print(i, seq)\n",
    "    w += update(w, seq, 0.1, 0.2)\n",
    "    #print(w, \"\\n\")\n",
    "w"
   ]
  },
  {
   "cell_type": "code",
   "execution_count": 305,
   "metadata": {},
   "outputs": [
    {
     "data": {
      "text/plain": [
       "0.04661968888041571"
      ]
     },
     "execution_count": 305,
     "metadata": {},
     "output_type": "execute_result"
    }
   ],
   "source": [
    "w_true = np.array([0, 1/6.0, 1/3.0, 0.5, 2/3.0, 5/6.0, 1])\n",
    "error = sum((w-w_true)**2)\n",
    "error"
   ]
  },
  {
   "cell_type": "code",
   "execution_count": 81,
   "metadata": {},
   "outputs": [
    {
     "data": {
      "text/plain": [
       "array([0.5, 0.5, 0.5, 0.5, 0.5, 0.5, 0.5])"
      ]
     },
     "execution_count": 81,
     "metadata": {},
     "output_type": "execute_result"
    }
   ],
   "source": [
    "w"
   ]
  },
  {
   "cell_type": "code",
   "execution_count": null,
   "metadata": {},
   "outputs": [],
   "source": []
  }
 ],
 "metadata": {
  "kernelspec": {
   "display_name": "Python 3",
   "language": "python",
   "name": "python3"
  },
  "language_info": {
   "codemirror_mode": {
    "name": "ipython",
    "version": 3
   },
   "file_extension": ".py",
   "mimetype": "text/x-python",
   "name": "python",
   "nbconvert_exporter": "python",
   "pygments_lexer": "ipython3",
   "version": "3.7.4"
  }
 },
 "nbformat": 4,
 "nbformat_minor": 4
}
