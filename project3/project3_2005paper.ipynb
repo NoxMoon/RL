{
 "cells": [
  {
   "cell_type": "code",
   "execution_count": 1,
   "metadata": {},
   "outputs": [],
   "source": [
    "import numpy as np\n",
    "import matplotlib.pyplot as plt\n",
    "from tqdm import tqdm\n",
    "from soccer import soccer_game\n",
    "from qlearner import QLearner\n",
    "from friendq import FriendQ\n",
    "from foeq import FoeQ\n",
    "from ceq import ceQ\n",
    "from training import *"
   ]
  },
  {
   "cell_type": "markdown",
   "metadata": {},
   "source": [
    "### Q-Learning"
   ]
  },
  {
   "cell_type": "code",
   "execution_count": 2,
   "metadata": {},
   "outputs": [
    {
     "name": "stderr",
     "output_type": "stream",
     "text": [
      "100%|██████████| 200000/200000 [00:09<00:00, 22177.41it/s]\n"
     ]
    }
   ],
   "source": [
    "env = soccer_game()\n",
    "learner_q = QLearner(env.nS, env.nA)\n",
    "\n",
    "hist_q = learning(learner_q, env, epsilon_decay=0.99995, alpha_decay=0.99995)"
   ]
  },
  {
   "cell_type": "code",
   "execution_count": 3,
   "metadata": {},
   "outputs": [
    {
     "data": {
      "image/png": "[encoded data removed]",
      "text/plain": [
       "<Figure size 504x360 with 1 Axes>"
      ]
     },
     "metadata": {
      "needs_background": "light"
     },
     "output_type": "display_data"
    }
   ],
   "source": [
    "plot_error(hist_q, \"figures/Q.png\")"
   ]
  },
  {
   "cell_type": "markdown",
   "metadata": {},
   "source": [
    "### Friend-Q"
   ]
  },
  {
   "cell_type": "code",
   "execution_count": 4,
   "metadata": {},
   "outputs": [
    {
     "name": "stderr",
     "output_type": "stream",
     "text": [
      "100%|██████████| 200000/200000 [00:10<00:00, 19403.39it/s]\n"
     ]
    }
   ],
   "source": [
    "env = soccer_game()\n",
    "learner_friendQ = FriendQ(env.nS, env.nA)\n",
    "\n",
    "hist_friendQ = learning_2005(learner_friendQ, env, epsilon=1)"
   ]
  },
  {
   "cell_type": "code",
   "execution_count": 5,
   "metadata": {},
   "outputs": [
    {
     "data": {
      "image/png": "[encoded data removed]",
      "text/plain": [
       "<Figure size 504x360 with 1 Axes>"
      ]
     },
     "metadata": {
      "needs_background": "light"
     },
     "output_type": "display_data"
    }
   ],
   "source": [
    "plot_error(hist_friendQ, \"figures/friendQ.png\")"
   ]
  },
  {
   "cell_type": "code",
   "execution_count": 6,
   "metadata": {},
   "outputs": [
    {
     "data": {
      "text/html": [
       "<div>\n",
       "<style scoped>\n",
       "    .dataframe tbody tr th:only-of-type {\n",
       "        vertical-align: middle;\n",
       "    }\n",
       "\n",
       "    .dataframe tbody tr th {\n",
       "        vertical-align: top;\n",
       "    }\n",
       "\n",
       "    .dataframe thead th {\n",
       "        text-align: right;\n",
       "    }\n",
       "</style>\n",
       "<table border=\"1\" class=\"dataframe\">\n",
       "  <thead>\n",
       "    <tr style=\"text-align: right;\">\n",
       "      <th>player B</th>\n",
       "      <th>stick</th>\n",
       "      <th>W</th>\n",
       "      <th>E</th>\n",
       "      <th>N</th>\n",
       "      <th>S</th>\n",
       "    </tr>\n",
       "    <tr>\n",
       "      <th>player A</th>\n",
       "      <th></th>\n",
       "      <th></th>\n",
       "      <th></th>\n",
       "      <th></th>\n",
       "      <th></th>\n",
       "    </tr>\n",
       "  </thead>\n",
       "  <tbody>\n",
       "    <tr>\n",
       "      <th>stick</th>\n",
       "      <td>9.0</td>\n",
       "      <td>10.0</td>\n",
       "      <td>8.551</td>\n",
       "      <td>9.000</td>\n",
       "      <td>8.999</td>\n",
       "    </tr>\n",
       "    <tr>\n",
       "      <th>W</th>\n",
       "      <td>9.0</td>\n",
       "      <td>10.0</td>\n",
       "      <td>8.776</td>\n",
       "      <td>9.000</td>\n",
       "      <td>8.992</td>\n",
       "    </tr>\n",
       "    <tr>\n",
       "      <th>E</th>\n",
       "      <td>9.0</td>\n",
       "      <td>10.0</td>\n",
       "      <td>-0.935</td>\n",
       "      <td>9.000</td>\n",
       "      <td>9.000</td>\n",
       "    </tr>\n",
       "    <tr>\n",
       "      <th>N</th>\n",
       "      <td>9.0</td>\n",
       "      <td>10.0</td>\n",
       "      <td>8.553</td>\n",
       "      <td>9.000</td>\n",
       "      <td>9.000</td>\n",
       "    </tr>\n",
       "    <tr>\n",
       "      <th>S</th>\n",
       "      <td>9.0</td>\n",
       "      <td>10.0</td>\n",
       "      <td>8.085</td>\n",
       "      <td>8.993</td>\n",
       "      <td>9.000</td>\n",
       "    </tr>\n",
       "  </tbody>\n",
       "</table>\n",
       "</div>"
      ],
      "text/plain": [
       "player B  stick     W      E      N      S\n",
       "player A                                  \n",
       "stick       9.0  10.0  8.551  9.000  8.999\n",
       "W           9.0  10.0  8.776  9.000  8.992\n",
       "E           9.0  10.0 -0.935  9.000  9.000\n",
       "N           9.0  10.0  8.553  9.000  9.000\n",
       "S           9.0  10.0  8.085  8.993  9.000"
      ]
     },
     "metadata": {},
     "output_type": "display_data"
    },
    {
     "data": {
      "text/html": [
       "<div>\n",
       "<style scoped>\n",
       "    .dataframe tbody tr th:only-of-type {\n",
       "        vertical-align: middle;\n",
       "    }\n",
       "\n",
       "    .dataframe tbody tr th {\n",
       "        vertical-align: top;\n",
       "    }\n",
       "\n",
       "    .dataframe thead th {\n",
       "        text-align: right;\n",
       "    }\n",
       "</style>\n",
       "<table border=\"1\" class=\"dataframe\">\n",
       "  <thead>\n",
       "    <tr style=\"text-align: right;\">\n",
       "      <th>player B</th>\n",
       "      <th>stick</th>\n",
       "      <th>W</th>\n",
       "      <th>E</th>\n",
       "      <th>N</th>\n",
       "      <th>S</th>\n",
       "    </tr>\n",
       "    <tr>\n",
       "      <th>player A</th>\n",
       "      <th></th>\n",
       "      <th></th>\n",
       "      <th></th>\n",
       "      <th></th>\n",
       "      <th></th>\n",
       "    </tr>\n",
       "  </thead>\n",
       "  <tbody>\n",
       "    <tr>\n",
       "      <th>stick</th>\n",
       "      <td>8.527</td>\n",
       "      <td>-10.0</td>\n",
       "      <td>9.000</td>\n",
       "      <td>8.525</td>\n",
       "      <td>8.087</td>\n",
       "    </tr>\n",
       "    <tr>\n",
       "      <th>W</th>\n",
       "      <td>8.517</td>\n",
       "      <td>-10.0</td>\n",
       "      <td>8.762</td>\n",
       "      <td>8.524</td>\n",
       "      <td>8.088</td>\n",
       "    </tr>\n",
       "    <tr>\n",
       "      <th>E</th>\n",
       "      <td>8.094</td>\n",
       "      <td>-10.0</td>\n",
       "      <td>9.495</td>\n",
       "      <td>8.096</td>\n",
       "      <td>8.100</td>\n",
       "    </tr>\n",
       "    <tr>\n",
       "      <th>N</th>\n",
       "      <td>8.526</td>\n",
       "      <td>-10.0</td>\n",
       "      <td>8.996</td>\n",
       "      <td>8.523</td>\n",
       "      <td>8.100</td>\n",
       "    </tr>\n",
       "    <tr>\n",
       "      <th>S</th>\n",
       "      <td>8.099</td>\n",
       "      <td>-10.0</td>\n",
       "      <td>9.000</td>\n",
       "      <td>8.092</td>\n",
       "      <td>8.487</td>\n",
       "    </tr>\n",
       "  </tbody>\n",
       "</table>\n",
       "</div>"
      ],
      "text/plain": [
       "player B  stick     W      E      N      S\n",
       "player A                                  \n",
       "stick     8.527 -10.0  9.000  8.525  8.087\n",
       "W         8.517 -10.0  8.762  8.524  8.088\n",
       "E         8.094 -10.0  9.495  8.096  8.100\n",
       "N         8.526 -10.0  8.996  8.523  8.100\n",
       "S         8.099 -10.0  9.000  8.092  8.487"
      ]
     },
     "metadata": {},
     "output_type": "display_data"
    }
   ],
   "source": [
    "# Q table for state 71\n",
    "show_table(learner_friendQ.agents[0].Q[71])\n",
    "show_table(learner_friendQ.agents[1].Q[71])"
   ]
  },
  {
   "cell_type": "code",
   "execution_count": 7,
   "metadata": {},
   "outputs": [
    {
     "data": {
      "text/plain": [
       "2"
      ]
     },
     "execution_count": 7,
     "metadata": {},
     "output_type": "execute_result"
    }
   ],
   "source": [
    "# Player 2's action\n",
    "learner_friendQ.agents[1].select_action(71)"
   ]
  },
  {
   "cell_type": "markdown",
   "metadata": {},
   "source": [
    "### Foe-Q"
   ]
  },
  {
   "cell_type": "code",
   "execution_count": 8,
   "metadata": {},
   "outputs": [
    {
     "name": "stderr",
     "output_type": "stream",
     "text": [
      "100%|██████████| 200000/200000 [01:52<00:00, 1777.33it/s]\n"
     ]
    }
   ],
   "source": [
    "env = soccer_game()\n",
    "learner_foeQ = FoeQ(env.nS, env.nA)\n",
    "\n",
    "hist_foeQ = learning_2005(learner_foeQ, env, epsilon=1)"
   ]
  },
  {
   "cell_type": "code",
   "execution_count": 9,
   "metadata": {},
   "outputs": [
    {
     "data": {
      "image/png": "[encoded data removed]",
      "text/plain": [
       "<Figure size 504x360 with 1 Axes>"
      ]
     },
     "metadata": {
      "needs_background": "light"
     },
     "output_type": "display_data"
    }
   ],
   "source": [
    "plot_error(hist_foeQ, \"figures/foeQ.png\")"
   ]
  },
  {
   "cell_type": "code",
   "execution_count": 10,
   "metadata": {},
   "outputs": [
    {
     "data": {
      "text/html": [
       "<div>\n",
       "<style scoped>\n",
       "    .dataframe tbody tr th:only-of-type {\n",
       "        vertical-align: middle;\n",
       "    }\n",
       "\n",
       "    .dataframe tbody tr th {\n",
       "        vertical-align: top;\n",
       "    }\n",
       "\n",
       "    .dataframe thead th {\n",
       "        text-align: right;\n",
       "    }\n",
       "</style>\n",
       "<table border=\"1\" class=\"dataframe\">\n",
       "  <thead>\n",
       "    <tr style=\"text-align: right;\">\n",
       "      <th>player B</th>\n",
       "      <th>stick</th>\n",
       "      <th>W</th>\n",
       "      <th>E</th>\n",
       "      <th>N</th>\n",
       "      <th>S</th>\n",
       "    </tr>\n",
       "    <tr>\n",
       "      <th>player A</th>\n",
       "      <th></th>\n",
       "      <th></th>\n",
       "      <th></th>\n",
       "      <th></th>\n",
       "      <th></th>\n",
       "    </tr>\n",
       "  </thead>\n",
       "  <tbody>\n",
       "    <tr>\n",
       "      <th>stick</th>\n",
       "      <td>-1.985</td>\n",
       "      <td>-1.930</td>\n",
       "      <td>-3.449</td>\n",
       "      <td>-1.960</td>\n",
       "      <td>-3.089</td>\n",
       "    </tr>\n",
       "    <tr>\n",
       "      <th>W</th>\n",
       "      <td>10.000</td>\n",
       "      <td>10.000</td>\n",
       "      <td>10.000</td>\n",
       "      <td>10.000</td>\n",
       "      <td>10.000</td>\n",
       "    </tr>\n",
       "    <tr>\n",
       "      <th>E</th>\n",
       "      <td>1.884</td>\n",
       "      <td>-0.038</td>\n",
       "      <td>-9.060</td>\n",
       "      <td>1.873</td>\n",
       "      <td>-2.941</td>\n",
       "    </tr>\n",
       "    <tr>\n",
       "      <th>N</th>\n",
       "      <td>-1.938</td>\n",
       "      <td>-1.931</td>\n",
       "      <td>-3.448</td>\n",
       "      <td>-1.962</td>\n",
       "      <td>-3.060</td>\n",
       "    </tr>\n",
       "    <tr>\n",
       "      <th>S</th>\n",
       "      <td>-3.639</td>\n",
       "      <td>-5.097</td>\n",
       "      <td>-6.582</td>\n",
       "      <td>-3.614</td>\n",
       "      <td>-1.878</td>\n",
       "    </tr>\n",
       "  </tbody>\n",
       "</table>\n",
       "</div>"
      ],
      "text/plain": [
       "player B   stick       W       E       N       S\n",
       "player A                                        \n",
       "stick     -1.985  -1.930  -3.449  -1.960  -3.089\n",
       "W         10.000  10.000  10.000  10.000  10.000\n",
       "E          1.884  -0.038  -9.060   1.873  -2.941\n",
       "N         -1.938  -1.931  -3.448  -1.962  -3.060\n",
       "S         -3.639  -5.097  -6.582  -3.614  -1.878"
      ]
     },
     "metadata": {},
     "output_type": "display_data"
    },
    {
     "data": {
      "text/html": [
       "<div>\n",
       "<style scoped>\n",
       "    .dataframe tbody tr th:only-of-type {\n",
       "        vertical-align: middle;\n",
       "    }\n",
       "\n",
       "    .dataframe tbody tr th {\n",
       "        vertical-align: top;\n",
       "    }\n",
       "\n",
       "    .dataframe thead th {\n",
       "        text-align: right;\n",
       "    }\n",
       "</style>\n",
       "<table border=\"1\" class=\"dataframe\">\n",
       "  <thead>\n",
       "    <tr style=\"text-align: right;\">\n",
       "      <th>player B</th>\n",
       "      <th>stick</th>\n",
       "      <th>W</th>\n",
       "      <th>E</th>\n",
       "      <th>N</th>\n",
       "      <th>S</th>\n",
       "    </tr>\n",
       "    <tr>\n",
       "      <th>player A</th>\n",
       "      <th></th>\n",
       "      <th></th>\n",
       "      <th></th>\n",
       "      <th></th>\n",
       "      <th></th>\n",
       "    </tr>\n",
       "  </thead>\n",
       "  <tbody>\n",
       "    <tr>\n",
       "      <th>stick</th>\n",
       "      <td>1.985</td>\n",
       "      <td>-10.0</td>\n",
       "      <td>-1.884</td>\n",
       "      <td>1.938</td>\n",
       "      <td>3.639</td>\n",
       "    </tr>\n",
       "    <tr>\n",
       "      <th>W</th>\n",
       "      <td>1.930</td>\n",
       "      <td>-10.0</td>\n",
       "      <td>0.038</td>\n",
       "      <td>1.931</td>\n",
       "      <td>5.097</td>\n",
       "    </tr>\n",
       "    <tr>\n",
       "      <th>E</th>\n",
       "      <td>3.449</td>\n",
       "      <td>-10.0</td>\n",
       "      <td>9.060</td>\n",
       "      <td>3.448</td>\n",
       "      <td>6.582</td>\n",
       "    </tr>\n",
       "    <tr>\n",
       "      <th>N</th>\n",
       "      <td>1.960</td>\n",
       "      <td>-10.0</td>\n",
       "      <td>-1.873</td>\n",
       "      <td>1.962</td>\n",
       "      <td>3.614</td>\n",
       "    </tr>\n",
       "    <tr>\n",
       "      <th>S</th>\n",
       "      <td>3.089</td>\n",
       "      <td>-10.0</td>\n",
       "      <td>2.941</td>\n",
       "      <td>3.060</td>\n",
       "      <td>1.878</td>\n",
       "    </tr>\n",
       "  </tbody>\n",
       "</table>\n",
       "</div>"
      ],
      "text/plain": [
       "player B  stick     W      E      N      S\n",
       "player A                                  \n",
       "stick     1.985 -10.0 -1.884  1.938  3.639\n",
       "W         1.930 -10.0  0.038  1.931  5.097\n",
       "E         3.449 -10.0  9.060  3.448  6.582\n",
       "N         1.960 -10.0 -1.873  1.962  3.614\n",
       "S         3.089 -10.0  2.941  3.060  1.878"
      ]
     },
     "metadata": {},
     "output_type": "display_data"
    }
   ],
   "source": [
    "# Q value for state(71)\n",
    "show_table(learner_foeQ.agent1.Q[71])\n",
    "show_table(learner_foeQ.agent2.Q[71])"
   ]
  },
  {
   "cell_type": "code",
   "execution_count": 11,
   "metadata": {},
   "outputs": [
    {
     "data": {
      "text/plain": [
       "(array([0.   , 0.   , 0.   , 0.423, 0.577]),\n",
       " array([0.606, 0.   , 0.   , 0.   , 0.394]))"
      ]
     },
     "execution_count": 11,
     "metadata": {},
     "output_type": "execute_result"
    }
   ],
   "source": [
    "# Policy -- probablity distribution\n",
    "# stick left right up down\n",
    "learner_foeQ.agent1.p[71].round(3),  learner_foeQ.agent2.p[71].round(3)"
   ]
  },
  {
   "cell_type": "markdown",
   "metadata": {},
   "source": [
    "### Correlated Q"
   ]
  },
  {
   "cell_type": "code",
   "execution_count": 12,
   "metadata": {},
   "outputs": [
    {
     "name": "stderr",
     "output_type": "stream",
     "text": [
      "100%|██████████| 200000/200000 [14:51<00:00, 224.45it/s]\n"
     ]
    }
   ],
   "source": [
    "env = soccer_game()\n",
    "learner_ceQ = ceQ(env.nS, env.nA)\n",
    "\n",
    "hist_ceQ = learning_2005(learner_ceQ, env, epsilon=1)"
   ]
  },
  {
   "cell_type": "code",
   "execution_count": 13,
   "metadata": {},
   "outputs": [
    {
     "data": {
      "image/png": "[encoded data removed]",
      "text/plain": [
       "<Figure size 504x360 with 1 Axes>"
      ]
     },
     "metadata": {
      "needs_background": "light"
     },
     "output_type": "display_data"
    }
   ],
   "source": [
    "plot_error(hist_ceQ, \"figures/ceQ.png\")"
   ]
  },
  {
   "cell_type": "code",
   "execution_count": 14,
   "metadata": {},
   "outputs": [
    {
     "data": {
      "text/html": [
       "<div>\n",
       "<style scoped>\n",
       "    .dataframe tbody tr th:only-of-type {\n",
       "        vertical-align: middle;\n",
       "    }\n",
       "\n",
       "    .dataframe tbody tr th {\n",
       "        vertical-align: top;\n",
       "    }\n",
       "\n",
       "    .dataframe thead th {\n",
       "        text-align: right;\n",
       "    }\n",
       "</style>\n",
       "<table border=\"1\" class=\"dataframe\">\n",
       "  <thead>\n",
       "    <tr style=\"text-align: right;\">\n",
       "      <th>player B</th>\n",
       "      <th>stick</th>\n",
       "      <th>W</th>\n",
       "      <th>E</th>\n",
       "      <th>N</th>\n",
       "      <th>S</th>\n",
       "    </tr>\n",
       "    <tr>\n",
       "      <th>player A</th>\n",
       "      <th></th>\n",
       "      <th></th>\n",
       "      <th></th>\n",
       "      <th></th>\n",
       "      <th></th>\n",
       "    </tr>\n",
       "  </thead>\n",
       "  <tbody>\n",
       "    <tr>\n",
       "      <th>stick</th>\n",
       "      <td>-1.985</td>\n",
       "      <td>10.0</td>\n",
       "      <td>1.884</td>\n",
       "      <td>-1.938</td>\n",
       "      <td>-3.639</td>\n",
       "    </tr>\n",
       "    <tr>\n",
       "      <th>W</th>\n",
       "      <td>-1.930</td>\n",
       "      <td>10.0</td>\n",
       "      <td>-0.038</td>\n",
       "      <td>-1.931</td>\n",
       "      <td>-5.097</td>\n",
       "    </tr>\n",
       "    <tr>\n",
       "      <th>E</th>\n",
       "      <td>-3.449</td>\n",
       "      <td>10.0</td>\n",
       "      <td>-9.060</td>\n",
       "      <td>-3.448</td>\n",
       "      <td>-6.582</td>\n",
       "    </tr>\n",
       "    <tr>\n",
       "      <th>N</th>\n",
       "      <td>-1.960</td>\n",
       "      <td>10.0</td>\n",
       "      <td>1.873</td>\n",
       "      <td>-1.962</td>\n",
       "      <td>-3.614</td>\n",
       "    </tr>\n",
       "    <tr>\n",
       "      <th>S</th>\n",
       "      <td>-3.089</td>\n",
       "      <td>10.0</td>\n",
       "      <td>-2.941</td>\n",
       "      <td>-3.060</td>\n",
       "      <td>-1.878</td>\n",
       "    </tr>\n",
       "  </tbody>\n",
       "</table>\n",
       "</div>"
      ],
      "text/plain": [
       "player B  stick     W      E      N      S\n",
       "player A                                  \n",
       "stick    -1.985  10.0  1.884 -1.938 -3.639\n",
       "W        -1.930  10.0 -0.038 -1.931 -5.097\n",
       "E        -3.449  10.0 -9.060 -3.448 -6.582\n",
       "N        -1.960  10.0  1.873 -1.962 -3.614\n",
       "S        -3.089  10.0 -2.941 -3.060 -1.878"
      ]
     },
     "metadata": {},
     "output_type": "display_data"
    },
    {
     "data": {
      "text/html": [
       "<div>\n",
       "<style scoped>\n",
       "    .dataframe tbody tr th:only-of-type {\n",
       "        vertical-align: middle;\n",
       "    }\n",
       "\n",
       "    .dataframe tbody tr th {\n",
       "        vertical-align: top;\n",
       "    }\n",
       "\n",
       "    .dataframe thead th {\n",
       "        text-align: right;\n",
       "    }\n",
       "</style>\n",
       "<table border=\"1\" class=\"dataframe\">\n",
       "  <thead>\n",
       "    <tr style=\"text-align: right;\">\n",
       "      <th>player B</th>\n",
       "      <th>stick</th>\n",
       "      <th>W</th>\n",
       "      <th>E</th>\n",
       "      <th>N</th>\n",
       "      <th>S</th>\n",
       "    </tr>\n",
       "    <tr>\n",
       "      <th>player A</th>\n",
       "      <th></th>\n",
       "      <th></th>\n",
       "      <th></th>\n",
       "      <th></th>\n",
       "      <th></th>\n",
       "    </tr>\n",
       "  </thead>\n",
       "  <tbody>\n",
       "    <tr>\n",
       "      <th>stick</th>\n",
       "      <td>1.985</td>\n",
       "      <td>-10.0</td>\n",
       "      <td>-1.884</td>\n",
       "      <td>1.938</td>\n",
       "      <td>3.639</td>\n",
       "    </tr>\n",
       "    <tr>\n",
       "      <th>W</th>\n",
       "      <td>1.930</td>\n",
       "      <td>-10.0</td>\n",
       "      <td>0.038</td>\n",
       "      <td>1.931</td>\n",
       "      <td>5.097</td>\n",
       "    </tr>\n",
       "    <tr>\n",
       "      <th>E</th>\n",
       "      <td>3.449</td>\n",
       "      <td>-10.0</td>\n",
       "      <td>9.060</td>\n",
       "      <td>3.448</td>\n",
       "      <td>6.582</td>\n",
       "    </tr>\n",
       "    <tr>\n",
       "      <th>N</th>\n",
       "      <td>1.960</td>\n",
       "      <td>-10.0</td>\n",
       "      <td>-1.873</td>\n",
       "      <td>1.962</td>\n",
       "      <td>3.614</td>\n",
       "    </tr>\n",
       "    <tr>\n",
       "      <th>S</th>\n",
       "      <td>3.089</td>\n",
       "      <td>-10.0</td>\n",
       "      <td>2.941</td>\n",
       "      <td>3.060</td>\n",
       "      <td>1.878</td>\n",
       "    </tr>\n",
       "  </tbody>\n",
       "</table>\n",
       "</div>"
      ],
      "text/plain": [
       "player B  stick     W      E      N      S\n",
       "player A                                  \n",
       "stick     1.985 -10.0 -1.884  1.938  3.639\n",
       "W         1.930 -10.0  0.038  1.931  5.097\n",
       "E         3.449 -10.0  9.060  3.448  6.582\n",
       "N         1.960 -10.0 -1.873  1.962  3.614\n",
       "S         3.089 -10.0  2.941  3.060  1.878"
      ]
     },
     "metadata": {},
     "output_type": "display_data"
    }
   ],
   "source": [
    "# Q value for state(71)\n",
    "show_table(learner_ceQ.agents[0].Q[71])\n",
    "show_table(learner_ceQ.agents[1].Q[71])"
   ]
  },
  {
   "cell_type": "code",
   "execution_count": 15,
   "metadata": {},
   "outputs": [
    {
     "data": {
      "text/plain": [
       "(array([0.   , 0.   , 0.   , 0.423, 0.577]),\n",
       " array([0.606, 0.   , 0.   , 0.   , 0.394]))"
      ]
     },
     "execution_count": 15,
     "metadata": {},
     "output_type": "execute_result"
    }
   ],
   "source": [
    "# Policy -- probablity distribution\n",
    "# stick left right up down\n",
    "p = learner_ceQ.p[71].reshape(5,5)\n",
    "p.sum(axis=1).round(3), p.sum(axis=0).round(3) #for each agent i's marginal probabiliby, we should sum up all axis!=i"
   ]
  },
  {
   "cell_type": "markdown",
   "metadata": {},
   "source": [
    "### Compare Foe-Q and Correlated-Q Q values\n",
    "\n",
    "* difference between Q values"
   ]
  },
  {
   "cell_type": "code",
   "execution_count": 16,
   "metadata": {},
   "outputs": [
    {
     "data": {
      "text/plain": [
       "array([[ 2.00e-08,  0.00e+00, -2.60e-08,  1.98e-08,  3.00e-10],\n",
       "       [ 1.94e-08,  0.00e+00, -3.50e-09,  1.94e-08,  6.50e-09],\n",
       "       [ 1.41e-08,  0.00e+00,  4.90e-09,  1.41e-08,  1.61e-08],\n",
       "       [ 1.94e-08,  0.00e+00, -2.61e-08,  1.97e-08,  3.00e-10],\n",
       "       [ 1.55e-08,  0.00e+00,  2.10e-09,  1.60e-08,  1.88e-08]])"
      ]
     },
     "execution_count": 16,
     "metadata": {},
     "output_type": "execute_result"
    }
   ],
   "source": [
    "np.round(learner_ceQ.agents[0].Q[71]-learner_foeQ.agent1.Q[71].T, 10)"
   ]
  },
  {
   "cell_type": "markdown",
   "metadata": {},
   "source": [
    "* Given a same Q table, foe-Q and ce-Q should give the same solution"
   ]
  },
  {
   "cell_type": "code",
   "execution_count": 17,
   "metadata": {},
   "outputs": [],
   "source": [
    "Q = np.array([[-25., -26., -29., -26., -36.],\n",
    "              [100., 100., 100., 100., 100.],\n",
    "              [ 10.,  -7., -91.,  10., -33.],\n",
    "              [-28., -28., -28., -27., -37.],\n",
    "              [-39., -38., -65., -39., -24.]])\n",
    "learner_foeQ.agent1.Q[71] = Q\n",
    "learner_foeQ.agent2.Q[71] = -Q.T"
   ]
  },
  {
   "cell_type": "code",
   "execution_count": 18,
   "metadata": {},
   "outputs": [
    {
     "name": "stdout",
     "output_type": "stream",
     "text": [
      "p1 [0.   0.   0.   0.52 0.48] V1 -31.800000000000004\n",
      "p1 [0.  0.  0.  0.6 0.4] V1 31.8\n"
     ]
    }
   ],
   "source": [
    "learner_foeQ.agent1.minmax(71)\n",
    "print(\"p1\", learner_foeQ.agent1.p[71].round(3), \"V1\", learner_foeQ.agent1.V[71])\n",
    "learner_foeQ.agent2.minmax(71)\n",
    "print(\"p1\", learner_foeQ.agent2.p[71].round(3), \"V1\", learner_foeQ.agent2.V[71])"
   ]
  },
  {
   "cell_type": "code",
   "execution_count": 19,
   "metadata": {},
   "outputs": [
    {
     "name": "stdout",
     "output_type": "stream",
     "text": [
      "p1 [0.   0.   0.   0.52 0.48] V1 -31.799999894036688\n",
      "p2 [0.  0.  0.  0.6 0.4] V2 31.799999894036688\n"
     ]
    }
   ],
   "source": [
    "learner_ceQ.agents[0].Q[71] = Q.T\n",
    "learner_ceQ.agents[1].Q[71] = -Q.T\n",
    "\n",
    "learner_ceQ.solve(71)\n",
    "p = learner_ceQ.p[71].reshape(5,5)\n",
    "print(\"p1\", p.sum(axis=1).round(3), \"V1\", learner_ceQ.agents[0].V[71])\n",
    "print(\"p2\", p.sum(axis=0).round(2), \"V2\", learner_ceQ.agents[1].V[71])"
   ]
  }
 ],
 "metadata": {
  "kernelspec": {
   "display_name": "RL",
   "language": "python",
   "name": "rl"
  },
  "language_info": {
   "codemirror_mode": {
    "name": "ipython",
    "version": 3
   },
   "file_extension": ".py",
   "mimetype": "text/x-python",
   "name": "python",
   "nbconvert_exporter": "python",
   "pygments_lexer": "ipython3",
   "version": "3.6.9"
  }
 },
 "nbformat": 4,
 "nbformat_minor": 4
}
