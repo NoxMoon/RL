{
 "cells": [
  {
   "cell_type": "code",
   "execution_count": 1,
   "metadata": {},
   "outputs": [],
   "source": [
    "import numpy as np\n",
    "import matplotlib.pyplot as plt\n",
    "from tqdm import tqdm\n",
    "from soccer import soccer_game\n",
    "from qlearner import QLearner\n",
    "from friendq import FriendQ\n",
    "from foeq import FoeQ\n",
    "from ceq import ceQ\n",
    "from training import *"
   ]
  },
  {
   "cell_type": "markdown",
   "metadata": {},
   "source": [
    "### Q-Learning"
   ]
  },
  {
   "cell_type": "code",
   "execution_count": 2,
   "metadata": {},
   "outputs": [
    {
     "name": "stderr",
     "output_type": "stream",
     "text": [
      "100%|██████████| 1000000/1000000 [01:29<00:00, 11156.46it/s]\n"
     ]
    }
   ],
   "source": [
    "env = soccer_game()\n",
    "learner_q = QLearner(env.nS, env.nA)\n",
    "\n",
    "hist_q = learning_2005(learner_q, env, epsilon=0.01, max_iteration=1000000)"
   ]
  },
  {
   "cell_type": "code",
   "execution_count": 3,
   "metadata": {},
   "outputs": [
    {
     "data": {
      "image/png": "[encoded data removed]",
      "text/plain": [
       "<Figure size 504x360 with 1 Axes>"
      ]
     },
     "metadata": {
      "needs_background": "light"
     },
     "output_type": "display_data"
    }
   ],
   "source": [
    "plot_error(hist_q, \"figures/Q_2005.png\")"
   ]
  },
  {
   "cell_type": "markdown",
   "metadata": {},
   "source": [
    "### Friend-Q"
   ]
  },
  {
   "cell_type": "code",
   "execution_count": 4,
   "metadata": {},
   "outputs": [
    {
     "name": "stderr",
     "output_type": "stream",
     "text": [
      "100%|██████████| 1000000/1000000 [00:57<00:00, 17487.40it/s]\n"
     ]
    }
   ],
   "source": [
    "env = soccer_game()\n",
    "learner_friendQ = FriendQ(env.nS, env.nA)\n",
    "\n",
    "hist_friendQ = learning_2005(learner_friendQ, env, epsilon=1, max_iteration=1000000)"
   ]
  },
  {
   "cell_type": "code",
   "execution_count": 5,
   "metadata": {},
   "outputs": [
    {
     "data": {
      "image/png": "[encoded data removed]",
      "text/plain": [
       "<Figure size 504x360 with 1 Axes>"
      ]
     },
     "metadata": {
      "needs_background": "light"
     },
     "output_type": "display_data"
    }
   ],
   "source": [
    "plot_error(hist_friendQ, \"figures/friendQ_2005.png\")"
   ]
  },
  {
   "cell_type": "code",
   "execution_count": 6,
   "metadata": {},
   "outputs": [
    {
     "data": {
      "text/html": [
       "<div>\n",
       "<style scoped>\n",
       "    .dataframe tbody tr th:only-of-type {\n",
       "        vertical-align: middle;\n",
       "    }\n",
       "\n",
       "    .dataframe tbody tr th {\n",
       "        vertical-align: top;\n",
       "    }\n",
       "\n",
       "    .dataframe thead th {\n",
       "        text-align: right;\n",
       "    }\n",
       "</style>\n",
       "<table border=\"1\" class=\"dataframe\">\n",
       "  <thead>\n",
       "    <tr style=\"text-align: right;\">\n",
       "      <th>player B</th>\n",
       "      <th>stick</th>\n",
       "      <th>W</th>\n",
       "      <th>E</th>\n",
       "      <th>N</th>\n",
       "      <th>S</th>\n",
       "    </tr>\n",
       "    <tr>\n",
       "      <th>player A</th>\n",
       "      <th></th>\n",
       "      <th></th>\n",
       "      <th></th>\n",
       "      <th></th>\n",
       "      <th></th>\n",
       "    </tr>\n",
       "  </thead>\n",
       "  <tbody>\n",
       "    <tr>\n",
       "      <th>stick</th>\n",
       "      <td>9.0</td>\n",
       "      <td>10.0</td>\n",
       "      <td>8.536</td>\n",
       "      <td>9.000</td>\n",
       "      <td>9.000</td>\n",
       "    </tr>\n",
       "    <tr>\n",
       "      <th>W</th>\n",
       "      <td>9.0</td>\n",
       "      <td>10.0</td>\n",
       "      <td>8.768</td>\n",
       "      <td>9.000</td>\n",
       "      <td>8.998</td>\n",
       "    </tr>\n",
       "    <tr>\n",
       "      <th>E</th>\n",
       "      <td>9.0</td>\n",
       "      <td>10.0</td>\n",
       "      <td>-0.796</td>\n",
       "      <td>9.000</td>\n",
       "      <td>9.000</td>\n",
       "    </tr>\n",
       "    <tr>\n",
       "      <th>N</th>\n",
       "      <td>9.0</td>\n",
       "      <td>10.0</td>\n",
       "      <td>8.537</td>\n",
       "      <td>9.000</td>\n",
       "      <td>9.000</td>\n",
       "    </tr>\n",
       "    <tr>\n",
       "      <th>S</th>\n",
       "      <td>9.0</td>\n",
       "      <td>10.0</td>\n",
       "      <td>8.097</td>\n",
       "      <td>8.999</td>\n",
       "      <td>9.000</td>\n",
       "    </tr>\n",
       "  </tbody>\n",
       "</table>\n",
       "</div>"
      ],
      "text/plain": [
       "player B  stick     W      E      N      S\n",
       "player A                                  \n",
       "stick       9.0  10.0  8.536  9.000  9.000\n",
       "W           9.0  10.0  8.768  9.000  8.998\n",
       "E           9.0  10.0 -0.796  9.000  9.000\n",
       "N           9.0  10.0  8.537  9.000  9.000\n",
       "S           9.0  10.0  8.097  8.999  9.000"
      ]
     },
     "metadata": {},
     "output_type": "display_data"
    },
    {
     "data": {
      "text/html": [
       "<div>\n",
       "<style scoped>\n",
       "    .dataframe tbody tr th:only-of-type {\n",
       "        vertical-align: middle;\n",
       "    }\n",
       "\n",
       "    .dataframe tbody tr th {\n",
       "        vertical-align: top;\n",
       "    }\n",
       "\n",
       "    .dataframe thead th {\n",
       "        text-align: right;\n",
       "    }\n",
       "</style>\n",
       "<table border=\"1\" class=\"dataframe\">\n",
       "  <thead>\n",
       "    <tr style=\"text-align: right;\">\n",
       "      <th>player B</th>\n",
       "      <th>stick</th>\n",
       "      <th>W</th>\n",
       "      <th>E</th>\n",
       "      <th>N</th>\n",
       "      <th>S</th>\n",
       "    </tr>\n",
       "    <tr>\n",
       "      <th>player A</th>\n",
       "      <th></th>\n",
       "      <th></th>\n",
       "      <th></th>\n",
       "      <th></th>\n",
       "      <th></th>\n",
       "    </tr>\n",
       "  </thead>\n",
       "  <tbody>\n",
       "    <tr>\n",
       "      <th>stick</th>\n",
       "      <td>8.540</td>\n",
       "      <td>-10.0</td>\n",
       "      <td>9.000</td>\n",
       "      <td>8.540</td>\n",
       "      <td>8.097</td>\n",
       "    </tr>\n",
       "    <tr>\n",
       "      <th>W</th>\n",
       "      <td>8.538</td>\n",
       "      <td>-10.0</td>\n",
       "      <td>8.770</td>\n",
       "      <td>8.540</td>\n",
       "      <td>8.097</td>\n",
       "    </tr>\n",
       "    <tr>\n",
       "      <th>E</th>\n",
       "      <td>8.099</td>\n",
       "      <td>-10.0</td>\n",
       "      <td>9.491</td>\n",
       "      <td>8.099</td>\n",
       "      <td>8.100</td>\n",
       "    </tr>\n",
       "    <tr>\n",
       "      <th>N</th>\n",
       "      <td>8.540</td>\n",
       "      <td>-10.0</td>\n",
       "      <td>8.999</td>\n",
       "      <td>8.539</td>\n",
       "      <td>8.100</td>\n",
       "    </tr>\n",
       "    <tr>\n",
       "      <th>S</th>\n",
       "      <td>8.100</td>\n",
       "      <td>-10.0</td>\n",
       "      <td>9.000</td>\n",
       "      <td>8.098</td>\n",
       "      <td>8.534</td>\n",
       "    </tr>\n",
       "  </tbody>\n",
       "</table>\n",
       "</div>"
      ],
      "text/plain": [
       "player B  stick     W      E      N      S\n",
       "player A                                  \n",
       "stick     8.540 -10.0  9.000  8.540  8.097\n",
       "W         8.538 -10.0  8.770  8.540  8.097\n",
       "E         8.099 -10.0  9.491  8.099  8.100\n",
       "N         8.540 -10.0  8.999  8.539  8.100\n",
       "S         8.100 -10.0  9.000  8.098  8.534"
      ]
     },
     "metadata": {},
     "output_type": "display_data"
    }
   ],
   "source": [
    "# Q table for state 71\n",
    "show_table(learner_friendQ.agents[0].Q[71])\n",
    "show_table(learner_friendQ.agents[1].Q[71])"
   ]
  },
  {
   "cell_type": "code",
   "execution_count": 7,
   "metadata": {},
   "outputs": [
    {
     "data": {
      "text/plain": [
       "2"
      ]
     },
     "execution_count": 7,
     "metadata": {},
     "output_type": "execute_result"
    }
   ],
   "source": [
    "# Player 2's action\n",
    "learner_friendQ.agents[1].select_action(71)"
   ]
  },
  {
   "cell_type": "markdown",
   "metadata": {},
   "source": [
    "### Foe-Q"
   ]
  },
  {
   "cell_type": "code",
   "execution_count": 8,
   "metadata": {},
   "outputs": [
    {
     "name": "stderr",
     "output_type": "stream",
     "text": [
      "100%|██████████| 1000000/1000000 [14:27<00:00, 1152.12it/s]\n"
     ]
    }
   ],
   "source": [
    "env = soccer_game()\n",
    "learner_foeQ = FoeQ(env.nS, env.nA)\n",
    "\n",
    "hist_foeQ = learning_2005(learner_foeQ, env, epsilon=1, max_iteration=1000000)"
   ]
  },
  {
   "cell_type": "code",
   "execution_count": 9,
   "metadata": {},
   "outputs": [
    {
     "data": {
      "image/png": "[encoded data removed]",
      "text/plain": [
       "<Figure size 504x360 with 1 Axes>"
      ]
     },
     "metadata": {
      "needs_background": "light"
     },
     "output_type": "display_data"
    }
   ],
   "source": [
    "plot_error(hist_foeQ, \"figures/foeQ_2005.png\")"
   ]
  },
  {
   "cell_type": "code",
   "execution_count": 10,
   "metadata": {},
   "outputs": [
    {
     "data": {
      "text/html": [
       "<div>\n",
       "<style scoped>\n",
       "    .dataframe tbody tr th:only-of-type {\n",
       "        vertical-align: middle;\n",
       "    }\n",
       "\n",
       "    .dataframe tbody tr th {\n",
       "        vertical-align: top;\n",
       "    }\n",
       "\n",
       "    .dataframe thead th {\n",
       "        text-align: right;\n",
       "    }\n",
       "</style>\n",
       "<table border=\"1\" class=\"dataframe\">\n",
       "  <thead>\n",
       "    <tr style=\"text-align: right;\">\n",
       "      <th>player B</th>\n",
       "      <th>stick</th>\n",
       "      <th>W</th>\n",
       "      <th>E</th>\n",
       "      <th>N</th>\n",
       "      <th>S</th>\n",
       "    </tr>\n",
       "    <tr>\n",
       "      <th>player A</th>\n",
       "      <th></th>\n",
       "      <th></th>\n",
       "      <th></th>\n",
       "      <th></th>\n",
       "      <th></th>\n",
       "    </tr>\n",
       "  </thead>\n",
       "  <tbody>\n",
       "    <tr>\n",
       "      <th>stick</th>\n",
       "      <td>-2.290</td>\n",
       "      <td>-2.279</td>\n",
       "      <td>-3.067</td>\n",
       "      <td>-2.283</td>\n",
       "      <td>-2.860</td>\n",
       "    </tr>\n",
       "    <tr>\n",
       "      <th>W</th>\n",
       "      <td>10.000</td>\n",
       "      <td>10.000</td>\n",
       "      <td>10.000</td>\n",
       "      <td>10.000</td>\n",
       "      <td>10.000</td>\n",
       "    </tr>\n",
       "    <tr>\n",
       "      <th>E</th>\n",
       "      <td>2.231</td>\n",
       "      <td>-0.023</td>\n",
       "      <td>-9.062</td>\n",
       "      <td>2.227</td>\n",
       "      <td>-3.026</td>\n",
       "    </tr>\n",
       "    <tr>\n",
       "      <th>N</th>\n",
       "      <td>-2.279</td>\n",
       "      <td>-2.279</td>\n",
       "      <td>-3.067</td>\n",
       "      <td>-2.284</td>\n",
       "      <td>-2.854</td>\n",
       "    </tr>\n",
       "    <tr>\n",
       "      <th>S</th>\n",
       "      <td>-3.188</td>\n",
       "      <td>-5.421</td>\n",
       "      <td>-7.114</td>\n",
       "      <td>-3.183</td>\n",
       "      <td>-2.260</td>\n",
       "    </tr>\n",
       "  </tbody>\n",
       "</table>\n",
       "</div>"
      ],
      "text/plain": [
       "player B   stick       W       E       N       S\n",
       "player A                                        \n",
       "stick     -2.290  -2.279  -3.067  -2.283  -2.860\n",
       "W         10.000  10.000  10.000  10.000  10.000\n",
       "E          2.231  -0.023  -9.062   2.227  -3.026\n",
       "N         -2.279  -2.279  -3.067  -2.284  -2.854\n",
       "S         -3.188  -5.421  -7.114  -3.183  -2.260"
      ]
     },
     "metadata": {},
     "output_type": "display_data"
    },
    {
     "data": {
      "text/html": [
       "<div>\n",
       "<style scoped>\n",
       "    .dataframe tbody tr th:only-of-type {\n",
       "        vertical-align: middle;\n",
       "    }\n",
       "\n",
       "    .dataframe tbody tr th {\n",
       "        vertical-align: top;\n",
       "    }\n",
       "\n",
       "    .dataframe thead th {\n",
       "        text-align: right;\n",
       "    }\n",
       "</style>\n",
       "<table border=\"1\" class=\"dataframe\">\n",
       "  <thead>\n",
       "    <tr style=\"text-align: right;\">\n",
       "      <th>player B</th>\n",
       "      <th>stick</th>\n",
       "      <th>W</th>\n",
       "      <th>E</th>\n",
       "      <th>N</th>\n",
       "      <th>S</th>\n",
       "    </tr>\n",
       "    <tr>\n",
       "      <th>player A</th>\n",
       "      <th></th>\n",
       "      <th></th>\n",
       "      <th></th>\n",
       "      <th></th>\n",
       "      <th></th>\n",
       "    </tr>\n",
       "  </thead>\n",
       "  <tbody>\n",
       "    <tr>\n",
       "      <th>stick</th>\n",
       "      <td>2.290</td>\n",
       "      <td>-10.0</td>\n",
       "      <td>-2.231</td>\n",
       "      <td>2.279</td>\n",
       "      <td>3.188</td>\n",
       "    </tr>\n",
       "    <tr>\n",
       "      <th>W</th>\n",
       "      <td>2.279</td>\n",
       "      <td>-10.0</td>\n",
       "      <td>0.023</td>\n",
       "      <td>2.279</td>\n",
       "      <td>5.421</td>\n",
       "    </tr>\n",
       "    <tr>\n",
       "      <th>E</th>\n",
       "      <td>3.067</td>\n",
       "      <td>-10.0</td>\n",
       "      <td>9.062</td>\n",
       "      <td>3.067</td>\n",
       "      <td>7.114</td>\n",
       "    </tr>\n",
       "    <tr>\n",
       "      <th>N</th>\n",
       "      <td>2.283</td>\n",
       "      <td>-10.0</td>\n",
       "      <td>-2.227</td>\n",
       "      <td>2.284</td>\n",
       "      <td>3.183</td>\n",
       "    </tr>\n",
       "    <tr>\n",
       "      <th>S</th>\n",
       "      <td>2.860</td>\n",
       "      <td>-10.0</td>\n",
       "      <td>3.026</td>\n",
       "      <td>2.854</td>\n",
       "      <td>2.260</td>\n",
       "    </tr>\n",
       "  </tbody>\n",
       "</table>\n",
       "</div>"
      ],
      "text/plain": [
       "player B  stick     W      E      N      S\n",
       "player A                                  \n",
       "stick     2.290 -10.0 -2.231  2.279  3.188\n",
       "W         2.279 -10.0  0.023  2.279  5.421\n",
       "E         3.067 -10.0  9.062  3.067  7.114\n",
       "N         2.283 -10.0 -2.227  2.284  3.183\n",
       "S         2.860 -10.0  3.026  2.854  2.260"
      ]
     },
     "metadata": {},
     "output_type": "display_data"
    }
   ],
   "source": [
    "# Q value for state(71)\n",
    "show_table(learner_foeQ.agent1.Q[71])\n",
    "show_table(learner_foeQ.agent2.Q[71])"
   ]
  },
  {
   "cell_type": "code",
   "execution_count": 11,
   "metadata": {},
   "outputs": [
    {
     "data": {
      "text/plain": [
       "(array([0. , 0. , 0. , 0.4, 0.6]), array([0.615, 0.   , 0.   , 0.   , 0.385]))"
      ]
     },
     "execution_count": 11,
     "metadata": {},
     "output_type": "execute_result"
    }
   ],
   "source": [
    "# Policy -- probablity distribution\n",
    "# stick left right up down\n",
    "learner_foeQ.agent1.p[71].round(3),  learner_foeQ.agent2.p[71].round(3)"
   ]
  },
  {
   "cell_type": "markdown",
   "metadata": {},
   "source": [
    "### Correlated Q"
   ]
  },
  {
   "cell_type": "code",
   "execution_count": 12,
   "metadata": {},
   "outputs": [
    {
     "name": "stderr",
     "output_type": "stream",
     "text": [
      "100%|██████████| 1000000/1000000 [1:24:22<00:00, 197.54it/s]\n"
     ]
    }
   ],
   "source": [
    "env = soccer_game()\n",
    "learner_ceQ = ceQ(env.nS, env.nA)\n",
    "\n",
    "hist_ceQ = learning_2005(learner_ceQ, env, epsilon=1, max_iteration=1000000)"
   ]
  },
  {
   "cell_type": "code",
   "execution_count": 13,
   "metadata": {},
   "outputs": [
    {
     "data": {
      "image/png": "[encoded data removed]",
      "text/plain": [
       "<Figure size 504x360 with 1 Axes>"
      ]
     },
     "metadata": {
      "needs_background": "light"
     },
     "output_type": "display_data"
    }
   ],
   "source": [
    "plot_error(hist_ceQ, \"figures/ceQ_2005.png\")"
   ]
  },
  {
   "cell_type": "code",
   "execution_count": 14,
   "metadata": {},
   "outputs": [
    {
     "data": {
      "text/html": [
       "<div>\n",
       "<style scoped>\n",
       "    .dataframe tbody tr th:only-of-type {\n",
       "        vertical-align: middle;\n",
       "    }\n",
       "\n",
       "    .dataframe tbody tr th {\n",
       "        vertical-align: top;\n",
       "    }\n",
       "\n",
       "    .dataframe thead th {\n",
       "        text-align: right;\n",
       "    }\n",
       "</style>\n",
       "<table border=\"1\" class=\"dataframe\">\n",
       "  <thead>\n",
       "    <tr style=\"text-align: right;\">\n",
       "      <th>player B</th>\n",
       "      <th>stick</th>\n",
       "      <th>W</th>\n",
       "      <th>E</th>\n",
       "      <th>N</th>\n",
       "      <th>S</th>\n",
       "    </tr>\n",
       "    <tr>\n",
       "      <th>player A</th>\n",
       "      <th></th>\n",
       "      <th></th>\n",
       "      <th></th>\n",
       "      <th></th>\n",
       "      <th></th>\n",
       "    </tr>\n",
       "  </thead>\n",
       "  <tbody>\n",
       "    <tr>\n",
       "      <th>stick</th>\n",
       "      <td>-2.290</td>\n",
       "      <td>10.0</td>\n",
       "      <td>2.231</td>\n",
       "      <td>-2.279</td>\n",
       "      <td>-3.188</td>\n",
       "    </tr>\n",
       "    <tr>\n",
       "      <th>W</th>\n",
       "      <td>-2.279</td>\n",
       "      <td>10.0</td>\n",
       "      <td>-0.023</td>\n",
       "      <td>-2.279</td>\n",
       "      <td>-5.421</td>\n",
       "    </tr>\n",
       "    <tr>\n",
       "      <th>E</th>\n",
       "      <td>-3.067</td>\n",
       "      <td>10.0</td>\n",
       "      <td>-9.062</td>\n",
       "      <td>-3.067</td>\n",
       "      <td>-7.114</td>\n",
       "    </tr>\n",
       "    <tr>\n",
       "      <th>N</th>\n",
       "      <td>-2.283</td>\n",
       "      <td>10.0</td>\n",
       "      <td>2.227</td>\n",
       "      <td>-2.284</td>\n",
       "      <td>-3.183</td>\n",
       "    </tr>\n",
       "    <tr>\n",
       "      <th>S</th>\n",
       "      <td>-2.860</td>\n",
       "      <td>10.0</td>\n",
       "      <td>-3.026</td>\n",
       "      <td>-2.854</td>\n",
       "      <td>-2.260</td>\n",
       "    </tr>\n",
       "  </tbody>\n",
       "</table>\n",
       "</div>"
      ],
      "text/plain": [
       "player B  stick     W      E      N      S\n",
       "player A                                  \n",
       "stick    -2.290  10.0  2.231 -2.279 -3.188\n",
       "W        -2.279  10.0 -0.023 -2.279 -5.421\n",
       "E        -3.067  10.0 -9.062 -3.067 -7.114\n",
       "N        -2.283  10.0  2.227 -2.284 -3.183\n",
       "S        -2.860  10.0 -3.026 -2.854 -2.260"
      ]
     },
     "metadata": {},
     "output_type": "display_data"
    },
    {
     "data": {
      "text/html": [
       "<div>\n",
       "<style scoped>\n",
       "    .dataframe tbody tr th:only-of-type {\n",
       "        vertical-align: middle;\n",
       "    }\n",
       "\n",
       "    .dataframe tbody tr th {\n",
       "        vertical-align: top;\n",
       "    }\n",
       "\n",
       "    .dataframe thead th {\n",
       "        text-align: right;\n",
       "    }\n",
       "</style>\n",
       "<table border=\"1\" class=\"dataframe\">\n",
       "  <thead>\n",
       "    <tr style=\"text-align: right;\">\n",
       "      <th>player B</th>\n",
       "      <th>stick</th>\n",
       "      <th>W</th>\n",
       "      <th>E</th>\n",
       "      <th>N</th>\n",
       "      <th>S</th>\n",
       "    </tr>\n",
       "    <tr>\n",
       "      <th>player A</th>\n",
       "      <th></th>\n",
       "      <th></th>\n",
       "      <th></th>\n",
       "      <th></th>\n",
       "      <th></th>\n",
       "    </tr>\n",
       "  </thead>\n",
       "  <tbody>\n",
       "    <tr>\n",
       "      <th>stick</th>\n",
       "      <td>2.290</td>\n",
       "      <td>-10.0</td>\n",
       "      <td>-2.231</td>\n",
       "      <td>2.279</td>\n",
       "      <td>3.188</td>\n",
       "    </tr>\n",
       "    <tr>\n",
       "      <th>W</th>\n",
       "      <td>2.279</td>\n",
       "      <td>-10.0</td>\n",
       "      <td>0.023</td>\n",
       "      <td>2.279</td>\n",
       "      <td>5.421</td>\n",
       "    </tr>\n",
       "    <tr>\n",
       "      <th>E</th>\n",
       "      <td>3.067</td>\n",
       "      <td>-10.0</td>\n",
       "      <td>9.062</td>\n",
       "      <td>3.067</td>\n",
       "      <td>7.114</td>\n",
       "    </tr>\n",
       "    <tr>\n",
       "      <th>N</th>\n",
       "      <td>2.283</td>\n",
       "      <td>-10.0</td>\n",
       "      <td>-2.227</td>\n",
       "      <td>2.284</td>\n",
       "      <td>3.183</td>\n",
       "    </tr>\n",
       "    <tr>\n",
       "      <th>S</th>\n",
       "      <td>2.860</td>\n",
       "      <td>-10.0</td>\n",
       "      <td>3.026</td>\n",
       "      <td>2.854</td>\n",
       "      <td>2.260</td>\n",
       "    </tr>\n",
       "  </tbody>\n",
       "</table>\n",
       "</div>"
      ],
      "text/plain": [
       "player B  stick     W      E      N      S\n",
       "player A                                  \n",
       "stick     2.290 -10.0 -2.231  2.279  3.188\n",
       "W         2.279 -10.0  0.023  2.279  5.421\n",
       "E         3.067 -10.0  9.062  3.067  7.114\n",
       "N         2.283 -10.0 -2.227  2.284  3.183\n",
       "S         2.860 -10.0  3.026  2.854  2.260"
      ]
     },
     "metadata": {},
     "output_type": "display_data"
    }
   ],
   "source": [
    "# Q value for state(71)\n",
    "show_table(learner_ceQ.agents[0].Q[71])\n",
    "show_table(learner_ceQ.agents[1].Q[71])"
   ]
  },
  {
   "cell_type": "code",
   "execution_count": 15,
   "metadata": {},
   "outputs": [
    {
     "data": {
      "text/plain": [
       "(array([0. , 0. , 0. , 0.4, 0.6]), array([0.615, 0.   , 0.   , 0.   , 0.385]))"
      ]
     },
     "execution_count": 15,
     "metadata": {},
     "output_type": "execute_result"
    }
   ],
   "source": [
    "# Policy -- probablity distribution\n",
    "# stick left right up down\n",
    "p = learner_ceQ.p[71].reshape(5,5)\n",
    "p.sum(axis=1).round(3), p.sum(axis=0).round(3) #for each agent i's marginal probabiliby, we should sum up all axis!=i"
   ]
  },
  {
   "cell_type": "markdown",
   "metadata": {},
   "source": [
    "### Compare Foe-Q and Correlated-Q Q values\n",
    "\n",
    "* difference between Q values"
   ]
  },
  {
   "cell_type": "code",
   "execution_count": 16,
   "metadata": {},
   "outputs": [
    {
     "data": {
      "text/plain": [
       "array([[ 1.88e-08,  0.00e+00, -1.75e-08,  1.88e-08, -0.00e+00],\n",
       "       [ 1.87e-08,  0.00e+00,  5.00e-10,  1.87e-08,  6.50e-09],\n",
       "       [ 9.80e-09,  0.00e+00,  2.70e-09,  9.80e-09,  1.24e-08],\n",
       "       [ 1.87e-08,  0.00e+00, -1.75e-08,  1.86e-08, -0.00e+00],\n",
       "       [ 5.10e-09,  0.00e+00, -9.00e-10,  5.10e-09,  1.96e-08]])"
      ]
     },
     "execution_count": 16,
     "metadata": {},
     "output_type": "execute_result"
    }
   ],
   "source": [
    "np.round(learner_ceQ.agents[0].Q[71]-learner_foeQ.agent1.Q[71].T, 10)"
   ]
  },
  {
   "cell_type": "markdown",
   "metadata": {},
   "source": [
    "* Given a same Q table, foe-Q and ce-Q should give the same solution"
   ]
  },
  {
   "cell_type": "code",
   "execution_count": 17,
   "metadata": {},
   "outputs": [],
   "source": [
    "Q = np.array([[-25., -26., -29., -26., -36.],\n",
    "              [100., 100., 100., 100., 100.],\n",
    "              [ 10.,  -7., -91.,  10., -33.],\n",
    "              [-28., -28., -28., -27., -37.],\n",
    "              [-39., -38., -65., -39., -24.]])\n",
    "learner_foeQ.agent1.Q[71] = Q\n",
    "learner_foeQ.agent2.Q[71] = -Q.T"
   ]
  },
  {
   "cell_type": "code",
   "execution_count": 18,
   "metadata": {},
   "outputs": [
    {
     "name": "stdout",
     "output_type": "stream",
     "text": [
      "p1 [0.   0.   0.   0.52 0.48] V1 -31.800000000000004\n",
      "p1 [0.  0.  0.  0.6 0.4] V1 31.8\n"
     ]
    }
   ],
   "source": [
    "learner_foeQ.agent1.minmax(71)\n",
    "print(\"p1\", learner_foeQ.agent1.p[71].round(3), \"V1\", learner_foeQ.agent1.V[71])\n",
    "learner_foeQ.agent2.minmax(71)\n",
    "print(\"p1\", learner_foeQ.agent2.p[71].round(3), \"V1\", learner_foeQ.agent2.V[71])"
   ]
  },
  {
   "cell_type": "code",
   "execution_count": 19,
   "metadata": {},
   "outputs": [
    {
     "name": "stdout",
     "output_type": "stream",
     "text": [
      "p1 [0.   0.   0.   0.52 0.48] V1 -31.799999894036688\n",
      "p2 [0.  0.  0.  0.6 0.4] V2 31.799999894036688\n"
     ]
    }
   ],
   "source": [
    "learner_ceQ.agents[0].Q[71] = Q.T\n",
    "learner_ceQ.agents[1].Q[71] = -Q.T\n",
    "\n",
    "learner_ceQ.solve(71)\n",
    "p = learner_ceQ.p[71].reshape(5,5)\n",
    "print(\"p1\", p.sum(axis=1).round(3), \"V1\", learner_ceQ.agents[0].V[71])\n",
    "print(\"p2\", p.sum(axis=0).round(2), \"V2\", learner_ceQ.agents[1].V[71])"
   ]
  }
 ],
 "metadata": {
  "kernelspec": {
   "display_name": "RL",
   "language": "python",
   "name": "rl"
  },
  "language_info": {
   "codemirror_mode": {
    "name": "ipython",
    "version": 3
   },
   "file_extension": ".py",
   "mimetype": "text/x-python",
   "name": "python",
   "nbconvert_exporter": "python",
   "pygments_lexer": "ipython3",
   "version": "3.6.9"
  }
 },
 "nbformat": 4,
 "nbformat_minor": 4
}
