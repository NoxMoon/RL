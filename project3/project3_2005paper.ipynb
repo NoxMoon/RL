{
 "cells": [
  {
   "cell_type": "code",
   "execution_count": 1,
   "metadata": {},
   "outputs": [],
   "source": [
    "import numpy as np\n",
    "import matplotlib.pyplot as plt\n",
    "from tqdm import tqdm\n",
    "from soccer import soccer_game\n",
    "from qlearner import QLearner\n",
    "from friendq import FriendQ\n",
    "from foeq import FoeQ\n",
    "from ceq import ceQ\n",
    "from training import learning_2005"
   ]
  },
  {
   "cell_type": "markdown",
   "metadata": {},
   "source": [
    "### Q-Learning"
   ]
  },
  {
   "cell_type": "code",
   "execution_count": 3,
   "metadata": {},
   "outputs": [
    {
     "name": "stderr",
     "output_type": "stream",
     "text": [
      "100%|██████████| 20000/20000 [00:04<00:00, 4414.34it/s]\n"
     ]
    }
   ],
   "source": [
    "env = soccer_game()\n",
    "learner_q = QLearner(env.nS, env.nA)\n",
    "\n",
    "hist_q = learning_2005(learner_q, env, epsilon=1, max_episode=20000)"
   ]
  },
  {
   "cell_type": "code",
   "execution_count": 4,
   "metadata": {},
   "outputs": [
    {
     "data": {
      "image/png": "[encoded data removed]",
      "text/plain": [
       "<Figure size 504x360 with 1 Axes>"
      ]
     },
     "metadata": {
      "needs_background": "light"
     },
     "output_type": "display_data"
    }
   ],
   "source": [
    "plot_error(hist_q, \"figures/Q.png\")"
   ]
  },
  {
   "cell_type": "markdown",
   "metadata": {},
   "source": [
    "### Friend-Q"
   ]
  },
  {
   "cell_type": "code",
   "execution_count": 5,
   "metadata": {},
   "outputs": [
    {
     "name": "stderr",
     "output_type": "stream",
     "text": [
      "100%|██████████| 20000/20000 [00:04<00:00, 4328.14it/s]\n"
     ]
    }
   ],
   "source": [
    "env = soccer_game()\n",
    "learner_friendQ = FriendQ(env.nS, env.nA)\n",
    "\n",
    "hist_friendQ = learning_2005(learner_friendQ, env, epsilon=1, max_episode=20000)"
   ]
  },
  {
   "cell_type": "code",
   "execution_count": 6,
   "metadata": {},
   "outputs": [
    {
     "data": {
      "image/png": "[encoded data removed]",
      "text/plain": [
       "<Figure size 504x360 with 1 Axes>"
      ]
     },
     "metadata": {
      "needs_background": "light"
     },
     "output_type": "display_data"
    }
   ],
   "source": [
    "plot_error(hist_friendQ, \"figures/friendQ.png\")"
   ]
  },
  {
   "cell_type": "code",
   "execution_count": 7,
   "metadata": {},
   "outputs": [
    {
     "data": {
      "text/plain": [
       "(array([[ 9., 10.,  9.,  9.,  9.],\n",
       "        [ 9., 10.,  9.,  9.,  9.],\n",
       "        [ 9., 10., -1.,  9.,  9.],\n",
       "        [ 9., 10.,  9.,  9.,  9.],\n",
       "        [ 9., 10.,  8.,  9.,  9.]]),\n",
       " array([[  9., -10.,   9.,   9.,   8.],\n",
       "        [  8., -10.,   9.,   9.,   8.],\n",
       "        [  8., -10.,   9.,   8.,   8.],\n",
       "        [  9., -10.,   9.,   8.,   8.],\n",
       "        [  8., -10.,   9.,   8.,   8.]]))"
      ]
     },
     "execution_count": 7,
     "metadata": {},
     "output_type": "execute_result"
    }
   ],
   "source": [
    "# Q table for state 71\n",
    "learner_friendQ.agents[0].Q[71].round(), learner_friendQ.agents[1].Q[71].round()"
   ]
  },
  {
   "cell_type": "code",
   "execution_count": 8,
   "metadata": {},
   "outputs": [
    {
     "data": {
      "text/plain": [
       "2"
      ]
     },
     "execution_count": 8,
     "metadata": {},
     "output_type": "execute_result"
    }
   ],
   "source": [
    "# Player 2's action\n",
    "learner_friendQ.agents[1].select_action(71)"
   ]
  },
  {
   "cell_type": "markdown",
   "metadata": {},
   "source": [
    "### Foe-Q"
   ]
  },
  {
   "cell_type": "code",
   "execution_count": 9,
   "metadata": {},
   "outputs": [
    {
     "name": "stderr",
     "output_type": "stream",
     "text": [
      "100%|██████████| 20000/20000 [00:48<00:00, 409.23it/s]\n"
     ]
    }
   ],
   "source": [
    "env = soccer_game()\n",
    "learner_foeQ = FoeQ(env.nS, env.nA)\n",
    "\n",
    "hist_foeQ = learning_2005(learner_foeQ, env, epsilon=1, max_episode=20000)"
   ]
  },
  {
   "cell_type": "code",
   "execution_count": 10,
   "metadata": {},
   "outputs": [
    {
     "data": {
      "image/png": "[encoded data removed]",
      "text/plain": [
       "<Figure size 504x360 with 1 Axes>"
      ]
     },
     "metadata": {
      "needs_background": "light"
     },
     "output_type": "display_data"
    }
   ],
   "source": [
    "plot_error(hist_foeQ, \"figures/foeQ.png\")"
   ]
  },
  {
   "cell_type": "code",
   "execution_count": 11,
   "metadata": {},
   "outputs": [
    {
     "data": {
      "text/plain": [
       "(array([[-1.61, -1.52, -3.52, -1.56, -3.15],\n",
       "        [10.  , 10.  , 10.  , 10.  , 10.  ],\n",
       "        [ 1.55,  0.04, -9.06,  1.54, -2.72],\n",
       "        [-1.52, -1.52, -3.53, -1.55, -3.09],\n",
       "        [-3.99, -4.78, -6.05, -3.96, -1.46]]),\n",
       " array([[  1.61, -10.  ,  -1.55,   1.52,   3.99],\n",
       "        [  1.52, -10.  ,  -0.04,   1.52,   4.78],\n",
       "        [  3.52, -10.  ,   9.06,   3.53,   6.05],\n",
       "        [  1.56, -10.  ,  -1.54,   1.55,   3.96],\n",
       "        [  3.15, -10.  ,   2.72,   3.09,   1.46]]))"
      ]
     },
     "execution_count": 11,
     "metadata": {},
     "output_type": "execute_result"
    }
   ],
   "source": [
    "# Q value for state(71)\n",
    "learner_foeQ.agent1.Q[71].round(2), learner_foeQ.agent2.Q[71].round(2)"
   ]
  },
  {
   "cell_type": "code",
   "execution_count": 12,
   "metadata": {},
   "outputs": [
    {
     "data": {
      "text/plain": [
       "(array([0.   , 0.   , 0.   , 0.413, 0.587]),\n",
       " array([0.612, 0.   , 0.   , 0.   , 0.388]))"
      ]
     },
     "execution_count": 12,
     "metadata": {},
     "output_type": "execute_result"
    }
   ],
   "source": [
    "# Policy -- probablity distribution\n",
    "# stick left right up down\n",
    "learner_foeQ.agent1.p[71].round(3),  learner_foeQ.agent2.p[71].round(3)"
   ]
  },
  {
   "cell_type": "markdown",
   "metadata": {},
   "source": [
    "### Correlated Q"
   ]
  },
  {
   "cell_type": "code",
   "execution_count": 13,
   "metadata": {},
   "outputs": [
    {
     "name": "stderr",
     "output_type": "stream",
     "text": [
      "100%|██████████| 20000/20000 [07:45<00:00, 43.00it/s]\n"
     ]
    }
   ],
   "source": [
    "env = soccer_game()\n",
    "learner_ceQ = ceQ(env.nS, env.nA)\n",
    "\n",
    "hist_ceQ = learning_2005(learner_ceQ, env, epsilon=1, max_episode=20000)"
   ]
  },
  {
   "cell_type": "code",
   "execution_count": 14,
   "metadata": {},
   "outputs": [
    {
     "data": {
      "image/png": "[encoded data removed]",
      "text/plain": [
       "<Figure size 504x360 with 1 Axes>"
      ]
     },
     "metadata": {
      "needs_background": "light"
     },
     "output_type": "display_data"
    }
   ],
   "source": [
    "plot_error(hist_ceQ, \"figures/ceQ.png\")"
   ]
  },
  {
   "cell_type": "code",
   "execution_count": 15,
   "metadata": {},
   "outputs": [
    {
     "data": {
      "text/plain": [
       "(array([[-1.61, 10.  ,  1.55, -1.52, -3.99],\n",
       "        [-1.52, 10.  ,  0.04, -1.52, -4.78],\n",
       "        [-3.52, 10.  , -9.06, -3.53, -6.05],\n",
       "        [-1.56, 10.  ,  1.54, -1.55, -3.96],\n",
       "        [-3.15, 10.  , -2.72, -3.09, -1.46]]),\n",
       " array([[  1.61, -10.  ,  -1.55,   1.52,   3.99],\n",
       "        [  1.52, -10.  ,  -0.04,   1.52,   4.78],\n",
       "        [  3.52, -10.  ,   9.06,   3.53,   6.05],\n",
       "        [  1.56, -10.  ,  -1.54,   1.55,   3.96],\n",
       "        [  3.15, -10.  ,   2.72,   3.09,   1.46]]))"
      ]
     },
     "execution_count": 15,
     "metadata": {},
     "output_type": "execute_result"
    }
   ],
   "source": [
    "# Q value for state(71)\n",
    "learner_ceQ.agents[0].Q[71].round(2), learner_ceQ.agents[1].Q[71].round(2)"
   ]
  },
  {
   "cell_type": "code",
   "execution_count": 16,
   "metadata": {},
   "outputs": [
    {
     "data": {
      "text/plain": [
       "(array([0.   , 0.   , 0.   , 0.413, 0.587]),\n",
       " array([0.612, 0.   , 0.   , 0.   , 0.388]))"
      ]
     },
     "execution_count": 16,
     "metadata": {},
     "output_type": "execute_result"
    }
   ],
   "source": [
    "# Policy -- probablity distribution\n",
    "# stick left right up down\n",
    "p = learner_ceQ.p[71].reshape(5,5)\n",
    "p.sum(axis=1).round(3), p.sum(axis=0).round(3) #for each agent i's marginal probabiliby, we should sum up all axis!=i"
   ]
  },
  {
   "cell_type": "markdown",
   "metadata": {},
   "source": [
    "### Compare Foe-Q and Correlated-Q Q values\n",
    "\n",
    "* difference between Q values"
   ]
  },
  {
   "cell_type": "code",
   "execution_count": 17,
   "metadata": {},
   "outputs": [
    {
     "data": {
      "text/plain": [
       "array([[ 2.53e-08,  0.00e+00, -2.18e-08,  2.47e-08,  2.50e-09],\n",
       "       [ 2.33e-08,  0.00e+00,  7.00e-10,  2.37e-08,  8.50e-09],\n",
       "       [ 1.69e-08,  0.00e+00,  6.50e-09,  1.70e-08,  1.76e-08],\n",
       "       [ 2.38e-08,  0.00e+00, -2.16e-08,  2.49e-08,  2.60e-09],\n",
       "       [ 8.60e-09,  0.00e+00,  2.30e-09,  9.20e-09,  1.88e-08]])"
      ]
     },
     "execution_count": 17,
     "metadata": {},
     "output_type": "execute_result"
    }
   ],
   "source": [
    "np.round(learner_ceQ.agents[0].Q[71]-learner_foeQ.agent1.Q[71].T, 10)"
   ]
  },
  {
   "cell_type": "markdown",
   "metadata": {},
   "source": [
    "* Given a same Q table, foe-Q and ce-Q should give the same solution"
   ]
  },
  {
   "cell_type": "code",
   "execution_count": 18,
   "metadata": {},
   "outputs": [],
   "source": [
    "Q = np.array([[-25., -26., -29., -26., -36.],\n",
    "              [100., 100., 100., 100., 100.],\n",
    "              [ 10.,  -7., -91.,  10., -33.],\n",
    "              [-28., -28., -28., -27., -37.],\n",
    "              [-39., -38., -65., -39., -24.]])\n",
    "learner_foeQ.agent1.Q[71] = Q\n",
    "learner_foeQ.agent2.Q[71] = -Q.T"
   ]
  },
  {
   "cell_type": "code",
   "execution_count": 19,
   "metadata": {},
   "outputs": [
    {
     "name": "stdout",
     "output_type": "stream",
     "text": [
      "p1 [0.   0.   0.   0.52 0.48] V1 -31.800000000000004\n",
      "p1 [0.  0.  0.  0.6 0.4] V1 31.8\n"
     ]
    }
   ],
   "source": [
    "learner_foeQ.agent1.minmax(71)\n",
    "print(\"p1\", learner_foeQ.agent1.p[71].round(3), \"V1\", learner_foeQ.agent1.V[71])\n",
    "learner_foeQ.agent2.minmax(71)\n",
    "print(\"p1\", learner_foeQ.agent2.p[71].round(3), \"V1\", learner_foeQ.agent2.V[71])"
   ]
  },
  {
   "cell_type": "code",
   "execution_count": 20,
   "metadata": {},
   "outputs": [
    {
     "name": "stdout",
     "output_type": "stream",
     "text": [
      "p1 [0.   0.   0.   0.52 0.48] V1 -31.799999894036688\n",
      "p2 [0.  0.  0.  0.6 0.4] V2 31.799999894036688\n"
     ]
    }
   ],
   "source": [
    "learner_ceQ.agents[0].Q[71] = Q.T\n",
    "learner_ceQ.agents[1].Q[71] = -Q.T\n",
    "\n",
    "learner_ceQ.solve(71)\n",
    "p = learner_ceQ.p[71].reshape(5,5)\n",
    "print(\"p1\", p.sum(axis=1).round(3), \"V1\", learner_ceQ.agents[0].V[71])\n",
    "print(\"p2\", p.sum(axis=0).round(2), \"V2\", learner_ceQ.agents[1].V[71])"
   ]
  },
  {
   "cell_type": "code",
   "execution_count": null,
   "metadata": {},
   "outputs": [],
   "source": []
  }
 ],
 "metadata": {
  "kernelspec": {
   "display_name": "RL",
   "language": "python",
   "name": "rl"
  },
  "language_info": {
   "codemirror_mode": {
    "name": "ipython",
    "version": 3
   },
   "file_extension": ".py",
   "mimetype": "text/x-python",
   "name": "python",
   "nbconvert_exporter": "python",
   "pygments_lexer": "ipython3",
   "version": "3.6.9"
  }
 },
 "nbformat": 4,
 "nbformat_minor": 4
}
