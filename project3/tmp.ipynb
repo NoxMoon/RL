{
 "cells": [
  {
   "cell_type": "code",
   "execution_count": 1,
   "metadata": {},
   "outputs": [],
   "source": [
    "import numpy as np\n",
    "import matplotlib.pyplot as plt\n",
    "from tqdm import tqdm\n",
    "from soccer import soccer_game\n",
    "from qlearner import QLearner\n",
    "from friendq import FriendQ\n",
    "from foeq import FoeQ\n",
    "from ceq import ceQ\n",
    "from training import *"
   ]
  },
  {
   "cell_type": "code",
   "execution_count": 2,
   "metadata": {},
   "outputs": [],
   "source": [
    "def learning_2005(learner, env, \n",
    "             epsilon=1, \n",
    "             gamma = 0.9,\n",
    "             max_iteration=200000):\n",
    "# following Greenwald 2005 paper LR decaying schedule: \n",
    "# decay by 1/n(s,a) n(s,a) is # of visit to state-action pair\n",
    "\n",
    "    np.random.seed(10)\n",
    "    \n",
    "    a = np.ones([env.nS]+list(env.nA))\n",
    "    c = np.zeros([env.nS]+list(env.nA))\n",
    "    \n",
    "    hist = []\n",
    "    s = env.reset()\n",
    "    done = False\n",
    "    for i in tqdm(range(max_iteration)):\n",
    "        if done:\n",
    "            s = env.reset()\n",
    "\n",
    "        action = epsilon_greedy(learner, env, s, epsilon)\n",
    "        next_s, r, done, info = env.step(action)\n",
    "        learner.update(s, next_s, action, r, done, a[s][action], gamma)\n",
    "            \n",
    "        c[s][action] += 1\n",
    "        a[s][action] = 1/c[s][action]\n",
    "         \n",
    "        s = next_s\n",
    "        \n",
    "        hist.append(learner.log_value())\n",
    "        \n",
    "    return hist, a, c"
   ]
  },
  {
   "cell_type": "markdown",
   "metadata": {},
   "source": [
    "### Q-Learning"
   ]
  },
  {
   "cell_type": "code",
   "execution_count": 2,
   "metadata": {},
   "outputs": [
    {
     "name": "stderr",
     "output_type": "stream",
     "text": [
      "100%|██████████| 200000/200000 [00:09<00:00, 21174.06it/s]\n"
     ]
    }
   ],
   "source": [
    "env = soccer_game()\n",
    "learner_q = QLearner(env.nS, env.nA)\n",
    "\n",
    "hist_q = learning_2005(learner_q, env, epsilon=0.01)"
   ]
  },
  {
   "cell_type": "code",
   "execution_count": 3,
   "metadata": {},
   "outputs": [
    {
     "data": {
      "image/png": "[encoded data removed]",
      "text/plain": [
       "<Figure size 504x360 with 1 Axes>"
      ]
     },
     "metadata": {
      "needs_background": "light"
     },
     "output_type": "display_data"
    }
   ],
   "source": [
    "plot_error(hist_q, \"figures/Q.png\")"
   ]
  },
  {
   "cell_type": "markdown",
   "metadata": {},
   "source": [
    "### Friend-Q"
   ]
  },
  {
   "cell_type": "code",
   "execution_count": 8,
   "metadata": {},
   "outputs": [
    {
     "name": "stderr",
     "output_type": "stream",
     "text": [
      "100%|██████████| 200000/200000 [00:11<00:00, 17761.93it/s]\n"
     ]
    }
   ],
   "source": [
    "env = soccer_game()\n",
    "learner_friendQ = FriendQ(env.nS, env.nA)\n",
    "\n",
    "hist_friendQ = learning_2005(learner_friendQ, env, epsilon=0.8)"
   ]
  },
  {
   "cell_type": "code",
   "execution_count": 7,
   "metadata": {},
   "outputs": [
    {
     "name": "stdout",
     "output_type": "stream",
     "text": [
      "0.0\n",
      "517.0\n",
      "0.0\n",
      "490.0\n",
      "0.0\n",
      "0.0\n",
      "0.0\n",
      "0.0\n",
      "0.0\n",
      "772.0\n",
      "0.0\n",
      "772.0\n",
      "0.0\n",
      "0.0\n",
      "1322.0\n",
      "0.0\n",
      "585.0\n",
      "748.0\n",
      "308.0\n",
      "0.0\n",
      "956.0\n",
      "0.0\n",
      "1829.0\n",
      "3836.0\n",
      "717.0\n",
      "1747.0\n",
      "343.0\n",
      "0.0\n",
      "2062.0\n",
      "0.0\n",
      "10445.0\n",
      "63058.0\n",
      "294.0\n",
      "0.0\n",
      "1160.0\n",
      "0.0\n",
      "2313.0\n",
      "11290.0\n",
      "1180.0\n",
      "3291.0\n",
      "340.0\n",
      "0.0\n",
      "0.0\n",
      "0.0\n",
      "0.0\n",
      "10493.0\n",
      "0.0\n",
      "6056.0\n",
      "0.0\n",
      "0.0\n",
      "0.0\n",
      "7976.0\n",
      "0.0\n",
      "4064.0\n",
      "0.0\n",
      "0.0\n",
      "0.0\n",
      "0.0\n",
      "0.0\n",
      "587.0\n",
      "0.0\n",
      "617.0\n",
      "0.0\n",
      "0.0\n",
      "0.0\n",
      "451.0\n",
      "0.0\n",
      "465.0\n",
      "0.0\n",
      "0.0\n",
      "1098.0\n",
      "0.0\n",
      "1624.0\n",
      "2053.0\n",
      "840.0\n",
      "1367.0\n",
      "427.0\n",
      "0.0\n",
      "968.0\n",
      "0.0\n",
      "554.0\n",
      "811.0\n",
      "258.0\n",
      "0.0\n",
      "1826.0\n",
      "0.0\n",
      "3855.0\n",
      "8973.0\n",
      "1725.0\n",
      "4153.0\n",
      "410.0\n",
      "0.0\n",
      "1172.0\n",
      "0.0\n",
      "3039.0\n",
      "7443.0\n",
      "274.0\n",
      "0.0\n",
      "0.0\n",
      "0.0\n",
      "0.0\n",
      "4679.0\n",
      "0.0\n",
      "3704.0\n",
      "0.0\n",
      "0.0\n",
      "0.0\n",
      "0.0\n",
      "0.0\n",
      "4187.0\n",
      "0.0\n",
      "3476.0\n"
     ]
    },
    {
     "data": {
      "text/plain": [
       "(112, 5, 5)"
      ]
     },
     "execution_count": 7,
     "metadata": {},
     "output_type": "execute_result"
    }
   ],
   "source": [
    "for i in range(8):\n",
    "    for j in range(8):\n",
    "        if i==j:\n",
    "            continue\n",
    "        for k in [True, False]:\n",
    "            idx = env.state_idx[(i,j,k)]\n",
    "            print(c[idx].sum())\n",
    "c.shape"
   ]
  },
  {
   "cell_type": "code",
   "execution_count": 5,
   "metadata": {},
   "outputs": [
    {
     "data": {
      "image/png": "[encoded data removed]",
      "text/plain": [
       "<Figure size 504x360 with 1 Axes>"
      ]
     },
     "metadata": {
      "needs_background": "light"
     },
     "output_type": "display_data"
    }
   ],
   "source": [
    "plot_error(hist_friendQ, \"figures/friendQ.png\")"
   ]
  },
  {
   "cell_type": "code",
   "execution_count": 9,
   "metadata": {},
   "outputs": [
    {
     "data": {
      "text/html": [
       "<div>\n",
       "<style scoped>\n",
       "    .dataframe tbody tr th:only-of-type {\n",
       "        vertical-align: middle;\n",
       "    }\n",
       "\n",
       "    .dataframe tbody tr th {\n",
       "        vertical-align: top;\n",
       "    }\n",
       "\n",
       "    .dataframe thead th {\n",
       "        text-align: right;\n",
       "    }\n",
       "</style>\n",
       "<table border=\"1\" class=\"dataframe\">\n",
       "  <thead>\n",
       "    <tr style=\"text-align: right;\">\n",
       "      <th>player B</th>\n",
       "      <th>stick</th>\n",
       "      <th>W</th>\n",
       "      <th>E</th>\n",
       "      <th>N</th>\n",
       "      <th>S</th>\n",
       "    </tr>\n",
       "    <tr>\n",
       "      <th>player A</th>\n",
       "      <th></th>\n",
       "      <th></th>\n",
       "      <th></th>\n",
       "      <th></th>\n",
       "      <th></th>\n",
       "    </tr>\n",
       "  </thead>\n",
       "  <tbody>\n",
       "    <tr>\n",
       "      <th>stick</th>\n",
       "      <td>9.000</td>\n",
       "      <td>10.0</td>\n",
       "      <td>8.548</td>\n",
       "      <td>9.000</td>\n",
       "      <td>8.992</td>\n",
       "    </tr>\n",
       "    <tr>\n",
       "      <th>W</th>\n",
       "      <td>8.996</td>\n",
       "      <td>10.0</td>\n",
       "      <td>8.778</td>\n",
       "      <td>9.000</td>\n",
       "      <td>8.987</td>\n",
       "    </tr>\n",
       "    <tr>\n",
       "      <th>E</th>\n",
       "      <td>9.000</td>\n",
       "      <td>10.0</td>\n",
       "      <td>-0.831</td>\n",
       "      <td>9.000</td>\n",
       "      <td>8.992</td>\n",
       "    </tr>\n",
       "    <tr>\n",
       "      <th>N</th>\n",
       "      <td>9.000</td>\n",
       "      <td>10.0</td>\n",
       "      <td>8.549</td>\n",
       "      <td>9.000</td>\n",
       "      <td>8.992</td>\n",
       "    </tr>\n",
       "    <tr>\n",
       "      <th>S</th>\n",
       "      <td>9.000</td>\n",
       "      <td>10.0</td>\n",
       "      <td>8.094</td>\n",
       "      <td>8.987</td>\n",
       "      <td>9.000</td>\n",
       "    </tr>\n",
       "  </tbody>\n",
       "</table>\n",
       "</div>"
      ],
      "text/plain": [
       "player B  stick     W      E      N      S\n",
       "player A                                  \n",
       "stick     9.000  10.0  8.548  9.000  8.992\n",
       "W         8.996  10.0  8.778  9.000  8.987\n",
       "E         9.000  10.0 -0.831  9.000  8.992\n",
       "N         9.000  10.0  8.549  9.000  8.992\n",
       "S         9.000  10.0  8.094  8.987  9.000"
      ]
     },
     "metadata": {},
     "output_type": "display_data"
    },
    {
     "data": {
      "text/html": [
       "<div>\n",
       "<style scoped>\n",
       "    .dataframe tbody tr th:only-of-type {\n",
       "        vertical-align: middle;\n",
       "    }\n",
       "\n",
       "    .dataframe tbody tr th {\n",
       "        vertical-align: top;\n",
       "    }\n",
       "\n",
       "    .dataframe thead th {\n",
       "        text-align: right;\n",
       "    }\n",
       "</style>\n",
       "<table border=\"1\" class=\"dataframe\">\n",
       "  <thead>\n",
       "    <tr style=\"text-align: right;\">\n",
       "      <th>player B</th>\n",
       "      <th>stick</th>\n",
       "      <th>W</th>\n",
       "      <th>E</th>\n",
       "      <th>N</th>\n",
       "      <th>S</th>\n",
       "    </tr>\n",
       "    <tr>\n",
       "      <th>player A</th>\n",
       "      <th></th>\n",
       "      <th></th>\n",
       "      <th></th>\n",
       "      <th></th>\n",
       "      <th></th>\n",
       "    </tr>\n",
       "  </thead>\n",
       "  <tbody>\n",
       "    <tr>\n",
       "      <th>stick</th>\n",
       "      <td>8.520</td>\n",
       "      <td>-10.0</td>\n",
       "      <td>8.999</td>\n",
       "      <td>8.518</td>\n",
       "      <td>8.094</td>\n",
       "    </tr>\n",
       "    <tr>\n",
       "      <th>W</th>\n",
       "      <td>8.511</td>\n",
       "      <td>-10.0</td>\n",
       "      <td>8.760</td>\n",
       "      <td>8.522</td>\n",
       "      <td>8.092</td>\n",
       "    </tr>\n",
       "    <tr>\n",
       "      <th>E</th>\n",
       "      <td>8.092</td>\n",
       "      <td>-10.0</td>\n",
       "      <td>9.493</td>\n",
       "      <td>8.100</td>\n",
       "      <td>8.085</td>\n",
       "    </tr>\n",
       "    <tr>\n",
       "      <th>N</th>\n",
       "      <td>8.523</td>\n",
       "      <td>-10.0</td>\n",
       "      <td>9.000</td>\n",
       "      <td>8.521</td>\n",
       "      <td>8.091</td>\n",
       "    </tr>\n",
       "    <tr>\n",
       "      <th>S</th>\n",
       "      <td>8.100</td>\n",
       "      <td>-10.0</td>\n",
       "      <td>9.000</td>\n",
       "      <td>8.096</td>\n",
       "      <td>8.488</td>\n",
       "    </tr>\n",
       "  </tbody>\n",
       "</table>\n",
       "</div>"
      ],
      "text/plain": [
       "player B  stick     W      E      N      S\n",
       "player A                                  \n",
       "stick     8.520 -10.0  8.999  8.518  8.094\n",
       "W         8.511 -10.0  8.760  8.522  8.092\n",
       "E         8.092 -10.0  9.493  8.100  8.085\n",
       "N         8.523 -10.0  9.000  8.521  8.091\n",
       "S         8.100 -10.0  9.000  8.096  8.488"
      ]
     },
     "metadata": {},
     "output_type": "display_data"
    }
   ],
   "source": [
    "# Q table for state 71\n",
    "show_table(learner_friendQ.agents[0].Q[71])\n",
    "show_table(learner_friendQ.agents[1].Q[71])"
   ]
  },
  {
   "cell_type": "code",
   "execution_count": 7,
   "metadata": {},
   "outputs": [
    {
     "data": {
      "text/plain": [
       "2"
      ]
     },
     "execution_count": 7,
     "metadata": {},
     "output_type": "execute_result"
    }
   ],
   "source": [
    "# Player 2's action\n",
    "learner_friendQ.agents[1].select_action(71)"
   ]
  },
  {
   "cell_type": "markdown",
   "metadata": {},
   "source": [
    "### Foe-Q"
   ]
  },
  {
   "cell_type": "code",
   "execution_count": 13,
   "metadata": {},
   "outputs": [
    {
     "name": "stderr",
     "output_type": "stream",
     "text": [
      "100%|██████████| 1000000/1000000 [09:26<00:00, 1764.21it/s]\n"
     ]
    }
   ],
   "source": [
    "env = soccer_game()\n",
    "learner_foeQ = FoeQ(env.nS, env.nA)\n",
    "#learner_foeQ.agent1.Q = np.random.rand(112,5,5)\n",
    "#learner_foeQ.agent2.Q = np.random.rand(112,5,5)\n",
    "\n",
    "hist_foeQ = learning_2005(learner_foeQ, env, epsilon=1, max_iteration=1000000)"
   ]
  },
  {
   "cell_type": "code",
   "execution_count": 9,
   "metadata": {},
   "outputs": [
    {
     "data": {
      "image/png": "[encoded data removed]",
      "text/plain": [
       "<Figure size 504x360 with 1 Axes>"
      ]
     },
     "metadata": {
      "needs_background": "light"
     },
     "output_type": "display_data"
    }
   ],
   "source": [
    "#plot_error(hist_foeQ, \"figures/foeQ.png\")"
   ]
  },
  {
   "cell_type": "code",
   "execution_count": 14,
   "metadata": {},
   "outputs": [
    {
     "data": {
      "text/html": [
       "<div>\n",
       "<style scoped>\n",
       "    .dataframe tbody tr th:only-of-type {\n",
       "        vertical-align: middle;\n",
       "    }\n",
       "\n",
       "    .dataframe tbody tr th {\n",
       "        vertical-align: top;\n",
       "    }\n",
       "\n",
       "    .dataframe thead th {\n",
       "        text-align: right;\n",
       "    }\n",
       "</style>\n",
       "<table border=\"1\" class=\"dataframe\">\n",
       "  <thead>\n",
       "    <tr style=\"text-align: right;\">\n",
       "      <th>player B</th>\n",
       "      <th>stick</th>\n",
       "      <th>W</th>\n",
       "      <th>E</th>\n",
       "      <th>N</th>\n",
       "      <th>S</th>\n",
       "    </tr>\n",
       "    <tr>\n",
       "      <th>player A</th>\n",
       "      <th></th>\n",
       "      <th></th>\n",
       "      <th></th>\n",
       "      <th></th>\n",
       "      <th></th>\n",
       "    </tr>\n",
       "  </thead>\n",
       "  <tbody>\n",
       "    <tr>\n",
       "      <th>stick</th>\n",
       "      <td>-2.290</td>\n",
       "      <td>-2.279</td>\n",
       "      <td>-3.067</td>\n",
       "      <td>-2.283</td>\n",
       "      <td>-2.860</td>\n",
       "    </tr>\n",
       "    <tr>\n",
       "      <th>W</th>\n",
       "      <td>10.000</td>\n",
       "      <td>10.000</td>\n",
       "      <td>10.000</td>\n",
       "      <td>10.000</td>\n",
       "      <td>10.000</td>\n",
       "    </tr>\n",
       "    <tr>\n",
       "      <th>E</th>\n",
       "      <td>2.231</td>\n",
       "      <td>-0.023</td>\n",
       "      <td>-9.062</td>\n",
       "      <td>2.227</td>\n",
       "      <td>-3.026</td>\n",
       "    </tr>\n",
       "    <tr>\n",
       "      <th>N</th>\n",
       "      <td>-2.279</td>\n",
       "      <td>-2.279</td>\n",
       "      <td>-3.067</td>\n",
       "      <td>-2.284</td>\n",
       "      <td>-2.854</td>\n",
       "    </tr>\n",
       "    <tr>\n",
       "      <th>S</th>\n",
       "      <td>-3.188</td>\n",
       "      <td>-5.421</td>\n",
       "      <td>-7.114</td>\n",
       "      <td>-3.183</td>\n",
       "      <td>-2.260</td>\n",
       "    </tr>\n",
       "  </tbody>\n",
       "</table>\n",
       "</div>"
      ],
      "text/plain": [
       "player B   stick       W       E       N       S\n",
       "player A                                        \n",
       "stick     -2.290  -2.279  -3.067  -2.283  -2.860\n",
       "W         10.000  10.000  10.000  10.000  10.000\n",
       "E          2.231  -0.023  -9.062   2.227  -3.026\n",
       "N         -2.279  -2.279  -3.067  -2.284  -2.854\n",
       "S         -3.188  -5.421  -7.114  -3.183  -2.260"
      ]
     },
     "metadata": {},
     "output_type": "display_data"
    },
    {
     "data": {
      "text/html": [
       "<div>\n",
       "<style scoped>\n",
       "    .dataframe tbody tr th:only-of-type {\n",
       "        vertical-align: middle;\n",
       "    }\n",
       "\n",
       "    .dataframe tbody tr th {\n",
       "        vertical-align: top;\n",
       "    }\n",
       "\n",
       "    .dataframe thead th {\n",
       "        text-align: right;\n",
       "    }\n",
       "</style>\n",
       "<table border=\"1\" class=\"dataframe\">\n",
       "  <thead>\n",
       "    <tr style=\"text-align: right;\">\n",
       "      <th>player B</th>\n",
       "      <th>stick</th>\n",
       "      <th>W</th>\n",
       "      <th>E</th>\n",
       "      <th>N</th>\n",
       "      <th>S</th>\n",
       "    </tr>\n",
       "    <tr>\n",
       "      <th>player A</th>\n",
       "      <th></th>\n",
       "      <th></th>\n",
       "      <th></th>\n",
       "      <th></th>\n",
       "      <th></th>\n",
       "    </tr>\n",
       "  </thead>\n",
       "  <tbody>\n",
       "    <tr>\n",
       "      <th>stick</th>\n",
       "      <td>2.290</td>\n",
       "      <td>-10.0</td>\n",
       "      <td>-2.231</td>\n",
       "      <td>2.279</td>\n",
       "      <td>3.188</td>\n",
       "    </tr>\n",
       "    <tr>\n",
       "      <th>W</th>\n",
       "      <td>2.279</td>\n",
       "      <td>-10.0</td>\n",
       "      <td>0.023</td>\n",
       "      <td>2.279</td>\n",
       "      <td>5.421</td>\n",
       "    </tr>\n",
       "    <tr>\n",
       "      <th>E</th>\n",
       "      <td>3.067</td>\n",
       "      <td>-10.0</td>\n",
       "      <td>9.062</td>\n",
       "      <td>3.067</td>\n",
       "      <td>7.114</td>\n",
       "    </tr>\n",
       "    <tr>\n",
       "      <th>N</th>\n",
       "      <td>2.283</td>\n",
       "      <td>-10.0</td>\n",
       "      <td>-2.227</td>\n",
       "      <td>2.284</td>\n",
       "      <td>3.183</td>\n",
       "    </tr>\n",
       "    <tr>\n",
       "      <th>S</th>\n",
       "      <td>2.860</td>\n",
       "      <td>-10.0</td>\n",
       "      <td>3.026</td>\n",
       "      <td>2.854</td>\n",
       "      <td>2.260</td>\n",
       "    </tr>\n",
       "  </tbody>\n",
       "</table>\n",
       "</div>"
      ],
      "text/plain": [
       "player B  stick     W      E      N      S\n",
       "player A                                  \n",
       "stick     2.290 -10.0 -2.231  2.279  3.188\n",
       "W         2.279 -10.0  0.023  2.279  5.421\n",
       "E         3.067 -10.0  9.062  3.067  7.114\n",
       "N         2.283 -10.0 -2.227  2.284  3.183\n",
       "S         2.860 -10.0  3.026  2.854  2.260"
      ]
     },
     "metadata": {},
     "output_type": "display_data"
    }
   ],
   "source": [
    "# Q value for state(71)\n",
    "show_table(learner_foeQ.agent1.Q[71])\n",
    "show_table(learner_foeQ.agent2.Q[71])"
   ]
  },
  {
   "cell_type": "code",
   "execution_count": 15,
   "metadata": {},
   "outputs": [
    {
     "data": {
      "text/plain": [
       "(array([0. , 0. , 0. , 0.4, 0.6]), array([0.615, 0.   , 0.   , 0.   , 0.385]))"
      ]
     },
     "execution_count": 15,
     "metadata": {},
     "output_type": "execute_result"
    }
   ],
   "source": [
    "# Policy -- probablity distribution\n",
    "# stick left right up down\n",
    "learner_foeQ.agent1.p[71].round(3),  learner_foeQ.agent2.p[71].round(3)"
   ]
  },
  {
   "cell_type": "markdown",
   "metadata": {},
   "source": [
    "### Correlated Q"
   ]
  },
  {
   "cell_type": "code",
   "execution_count": 12,
   "metadata": {},
   "outputs": [
    {
     "name": "stderr",
     "output_type": "stream",
     "text": [
      "100%|██████████| 200000/200000 [14:51<00:00, 224.45it/s]\n"
     ]
    }
   ],
   "source": [
    "env = soccer_game()\n",
    "learner_ceQ = ceQ(env.nS, env.nA)\n",
    "\n",
    "hist_ceQ = learning_2005(learner_ceQ, env, epsilon=1)"
   ]
  },
  {
   "cell_type": "code",
   "execution_count": 13,
   "metadata": {},
   "outputs": [
    {
     "data": {
      "image/png": "[encoded data removed]",
      "text/plain": [
       "<Figure size 504x360 with 1 Axes>"
      ]
     },
     "metadata": {
      "needs_background": "light"
     },
     "output_type": "display_data"
    }
   ],
   "source": [
    "plot_error(hist_ceQ, \"figures/ceQ.png\")"
   ]
  },
  {
   "cell_type": "code",
   "execution_count": 14,
   "metadata": {},
   "outputs": [
    {
     "data": {
      "text/html": [
       "<div>\n",
       "<style scoped>\n",
       "    .dataframe tbody tr th:only-of-type {\n",
       "        vertical-align: middle;\n",
       "    }\n",
       "\n",
       "    .dataframe tbody tr th {\n",
       "        vertical-align: top;\n",
       "    }\n",
       "\n",
       "    .dataframe thead th {\n",
       "        text-align: right;\n",
       "    }\n",
       "</style>\n",
       "<table border=\"1\" class=\"dataframe\">\n",
       "  <thead>\n",
       "    <tr style=\"text-align: right;\">\n",
       "      <th>player B</th>\n",
       "      <th>stick</th>\n",
       "      <th>W</th>\n",
       "      <th>E</th>\n",
       "      <th>N</th>\n",
       "      <th>S</th>\n",
       "    </tr>\n",
       "    <tr>\n",
       "      <th>player A</th>\n",
       "      <th></th>\n",
       "      <th></th>\n",
       "      <th></th>\n",
       "      <th></th>\n",
       "      <th></th>\n",
       "    </tr>\n",
       "  </thead>\n",
       "  <tbody>\n",
       "    <tr>\n",
       "      <th>stick</th>\n",
       "      <td>-1.985</td>\n",
       "      <td>10.0</td>\n",
       "      <td>1.884</td>\n",
       "      <td>-1.938</td>\n",
       "      <td>-3.639</td>\n",
       "    </tr>\n",
       "    <tr>\n",
       "      <th>W</th>\n",
       "      <td>-1.930</td>\n",
       "      <td>10.0</td>\n",
       "      <td>-0.038</td>\n",
       "      <td>-1.931</td>\n",
       "      <td>-5.097</td>\n",
       "    </tr>\n",
       "    <tr>\n",
       "      <th>E</th>\n",
       "      <td>-3.449</td>\n",
       "      <td>10.0</td>\n",
       "      <td>-9.060</td>\n",
       "      <td>-3.448</td>\n",
       "      <td>-6.582</td>\n",
       "    </tr>\n",
       "    <tr>\n",
       "      <th>N</th>\n",
       "      <td>-1.960</td>\n",
       "      <td>10.0</td>\n",
       "      <td>1.873</td>\n",
       "      <td>-1.962</td>\n",
       "      <td>-3.614</td>\n",
       "    </tr>\n",
       "    <tr>\n",
       "      <th>S</th>\n",
       "      <td>-3.089</td>\n",
       "      <td>10.0</td>\n",
       "      <td>-2.941</td>\n",
       "      <td>-3.060</td>\n",
       "      <td>-1.878</td>\n",
       "    </tr>\n",
       "  </tbody>\n",
       "</table>\n",
       "</div>"
      ],
      "text/plain": [
       "player B  stick     W      E      N      S\n",
       "player A                                  \n",
       "stick    -1.985  10.0  1.884 -1.938 -3.639\n",
       "W        -1.930  10.0 -0.038 -1.931 -5.097\n",
       "E        -3.449  10.0 -9.060 -3.448 -6.582\n",
       "N        -1.960  10.0  1.873 -1.962 -3.614\n",
       "S        -3.089  10.0 -2.941 -3.060 -1.878"
      ]
     },
     "metadata": {},
     "output_type": "display_data"
    },
    {
     "data": {
      "text/html": [
       "<div>\n",
       "<style scoped>\n",
       "    .dataframe tbody tr th:only-of-type {\n",
       "        vertical-align: middle;\n",
       "    }\n",
       "\n",
       "    .dataframe tbody tr th {\n",
       "        vertical-align: top;\n",
       "    }\n",
       "\n",
       "    .dataframe thead th {\n",
       "        text-align: right;\n",
       "    }\n",
       "</style>\n",
       "<table border=\"1\" class=\"dataframe\">\n",
       "  <thead>\n",
       "    <tr style=\"text-align: right;\">\n",
       "      <th>player B</th>\n",
       "      <th>stick</th>\n",
       "      <th>W</th>\n",
       "      <th>E</th>\n",
       "      <th>N</th>\n",
       "      <th>S</th>\n",
       "    </tr>\n",
       "    <tr>\n",
       "      <th>player A</th>\n",
       "      <th></th>\n",
       "      <th></th>\n",
       "      <th></th>\n",
       "      <th></th>\n",
       "      <th></th>\n",
       "    </tr>\n",
       "  </thead>\n",
       "  <tbody>\n",
       "    <tr>\n",
       "      <th>stick</th>\n",
       "      <td>1.985</td>\n",
       "      <td>-10.0</td>\n",
       "      <td>-1.884</td>\n",
       "      <td>1.938</td>\n",
       "      <td>3.639</td>\n",
       "    </tr>\n",
       "    <tr>\n",
       "      <th>W</th>\n",
       "      <td>1.930</td>\n",
       "      <td>-10.0</td>\n",
       "      <td>0.038</td>\n",
       "      <td>1.931</td>\n",
       "      <td>5.097</td>\n",
       "    </tr>\n",
       "    <tr>\n",
       "      <th>E</th>\n",
       "      <td>3.449</td>\n",
       "      <td>-10.0</td>\n",
       "      <td>9.060</td>\n",
       "      <td>3.448</td>\n",
       "      <td>6.582</td>\n",
       "    </tr>\n",
       "    <tr>\n",
       "      <th>N</th>\n",
       "      <td>1.960</td>\n",
       "      <td>-10.0</td>\n",
       "      <td>-1.873</td>\n",
       "      <td>1.962</td>\n",
       "      <td>3.614</td>\n",
       "    </tr>\n",
       "    <tr>\n",
       "      <th>S</th>\n",
       "      <td>3.089</td>\n",
       "      <td>-10.0</td>\n",
       "      <td>2.941</td>\n",
       "      <td>3.060</td>\n",
       "      <td>1.878</td>\n",
       "    </tr>\n",
       "  </tbody>\n",
       "</table>\n",
       "</div>"
      ],
      "text/plain": [
       "player B  stick     W      E      N      S\n",
       "player A                                  \n",
       "stick     1.985 -10.0 -1.884  1.938  3.639\n",
       "W         1.930 -10.0  0.038  1.931  5.097\n",
       "E         3.449 -10.0  9.060  3.448  6.582\n",
       "N         1.960 -10.0 -1.873  1.962  3.614\n",
       "S         3.089 -10.0  2.941  3.060  1.878"
      ]
     },
     "metadata": {},
     "output_type": "display_data"
    }
   ],
   "source": [
    "# Q value for state(71)\n",
    "show_table(learner_ceQ.agents[0].Q[71])\n",
    "show_table(learner_ceQ.agents[1].Q[71])"
   ]
  },
  {
   "cell_type": "code",
   "execution_count": 15,
   "metadata": {},
   "outputs": [
    {
     "data": {
      "text/plain": [
       "(array([0.   , 0.   , 0.   , 0.423, 0.577]),\n",
       " array([0.606, 0.   , 0.   , 0.   , 0.394]))"
      ]
     },
     "execution_count": 15,
     "metadata": {},
     "output_type": "execute_result"
    }
   ],
   "source": [
    "# Policy -- probablity distribution\n",
    "# stick left right up down\n",
    "p = learner_ceQ.p[71].reshape(5,5)\n",
    "p.sum(axis=1).round(3), p.sum(axis=0).round(3) #for each agent i's marginal probabiliby, we should sum up all axis!=i"
   ]
  },
  {
   "cell_type": "markdown",
   "metadata": {},
   "source": [
    "### Compare Foe-Q and Correlated-Q Q values\n",
    "\n",
    "* difference between Q values"
   ]
  },
  {
   "cell_type": "code",
   "execution_count": 16,
   "metadata": {},
   "outputs": [
    {
     "data": {
      "text/plain": [
       "array([[ 2.00e-08,  0.00e+00, -2.60e-08,  1.98e-08,  3.00e-10],\n",
       "       [ 1.94e-08,  0.00e+00, -3.50e-09,  1.94e-08,  6.50e-09],\n",
       "       [ 1.41e-08,  0.00e+00,  4.90e-09,  1.41e-08,  1.61e-08],\n",
       "       [ 1.94e-08,  0.00e+00, -2.61e-08,  1.97e-08,  3.00e-10],\n",
       "       [ 1.55e-08,  0.00e+00,  2.10e-09,  1.60e-08,  1.88e-08]])"
      ]
     },
     "execution_count": 16,
     "metadata": {},
     "output_type": "execute_result"
    }
   ],
   "source": [
    "np.round(learner_ceQ.agents[0].Q[71]-learner_foeQ.agent1.Q[71].T, 10)"
   ]
  },
  {
   "cell_type": "markdown",
   "metadata": {},
   "source": [
    "* Given a same Q table, foe-Q and ce-Q should give the same solution"
   ]
  },
  {
   "cell_type": "code",
   "execution_count": 17,
   "metadata": {},
   "outputs": [],
   "source": [
    "Q = np.array([[-25., -26., -29., -26., -36.],\n",
    "              [100., 100., 100., 100., 100.],\n",
    "              [ 10.,  -7., -91.,  10., -33.],\n",
    "              [-28., -28., -28., -27., -37.],\n",
    "              [-39., -38., -65., -39., -24.]])\n",
    "learner_foeQ.agent1.Q[71] = Q\n",
    "learner_foeQ.agent2.Q[71] = -Q.T"
   ]
  },
  {
   "cell_type": "code",
   "execution_count": 18,
   "metadata": {},
   "outputs": [
    {
     "name": "stdout",
     "output_type": "stream",
     "text": [
      "p1 [0.   0.   0.   0.52 0.48] V1 -31.800000000000004\n",
      "p1 [0.  0.  0.  0.6 0.4] V1 31.8\n"
     ]
    }
   ],
   "source": [
    "learner_foeQ.agent1.minmax(71)\n",
    "print(\"p1\", learner_foeQ.agent1.p[71].round(3), \"V1\", learner_foeQ.agent1.V[71])\n",
    "learner_foeQ.agent2.minmax(71)\n",
    "print(\"p1\", learner_foeQ.agent2.p[71].round(3), \"V1\", learner_foeQ.agent2.V[71])"
   ]
  },
  {
   "cell_type": "code",
   "execution_count": 19,
   "metadata": {},
   "outputs": [
    {
     "name": "stdout",
     "output_type": "stream",
     "text": [
      "p1 [0.   0.   0.   0.52 0.48] V1 -31.799999894036688\n",
      "p2 [0.  0.  0.  0.6 0.4] V2 31.799999894036688\n"
     ]
    }
   ],
   "source": [
    "learner_ceQ.agents[0].Q[71] = Q.T\n",
    "learner_ceQ.agents[1].Q[71] = -Q.T\n",
    "\n",
    "learner_ceQ.solve(71)\n",
    "p = learner_ceQ.p[71].reshape(5,5)\n",
    "print(\"p1\", p.sum(axis=1).round(3), \"V1\", learner_ceQ.agents[0].V[71])\n",
    "print(\"p2\", p.sum(axis=0).round(2), \"V2\", learner_ceQ.agents[1].V[71])"
   ]
  }
 ],
 "metadata": {
  "kernelspec": {
   "display_name": "RL",
   "language": "python",
   "name": "rl"
  },
  "language_info": {
   "codemirror_mode": {
    "name": "ipython",
    "version": 3
   },
   "file_extension": ".py",
   "mimetype": "text/x-python",
   "name": "python",
   "nbconvert_exporter": "python",
   "pygments_lexer": "ipython3",
   "version": "3.6.9"
  }
 },
 "nbformat": 4,
 "nbformat_minor": 4
}
