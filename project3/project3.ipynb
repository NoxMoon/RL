{
 "cells": [
  {
   "cell_type": "code",
   "execution_count": 6,
   "metadata": {},
   "outputs": [],
   "source": [
    "import numpy as np\n",
    "import matplotlib.pyplot as plt\n",
    "from tqdm import tqdm\n",
    "from cvxopt import matrix, solvers\n",
    "from soccer import soccer_game\n",
    "from qlearner import QLearner\n",
    "from friendq import FriendQ\n",
    "from foeq import FoeQ"
   ]
  },
  {
   "cell_type": "code",
   "execution_count": 7,
   "metadata": {},
   "outputs": [],
   "source": [
    "#Q_1[71][4][0]\n",
    "#and (c) re- flect player A’s Q-values corresponding to state s, with player A taking action S and player B sticking.\n",
    "\n",
    "from scipy.linalg import block_diag"
   ]
  },
  {
   "cell_type": "code",
   "execution_count": 10,
   "metadata": {},
   "outputs": [],
   "source": [
    "def epsilon_greedy(learner, env, s, epsilon):\n",
    "    if np.random.rand()<epsilon:\n",
    "        return env.random_action()\n",
    "    else:\n",
    "        return learner.select_action(s)\n",
    "    \n",
    "def learning(learner, env, \n",
    "             epsilon=1, epsilon_decay=0.9995, epsilon_min=0.001, \n",
    "             alpha=1, alpha_decay=0.9995, alpha_min=0.001, \n",
    "             gamma = 0.9,\n",
    "             max_episode=10000):\n",
    "    \n",
    "    hist = [0]\n",
    "    errors = []\n",
    "    for i in tqdm(range(max_episode)):\n",
    "        s = env.reset()\n",
    "        done = False\n",
    "        while not done:\n",
    "            action = epsilon_greedy(learner, env, s, epsilon)\n",
    "            next_s, r, done, info = env.step(action)\n",
    "            learner.update(s, next_s, action, r, done, alpha, gamma)\n",
    "            #if s==71 and action==(0,4):\n",
    "            #    print(i,env.total_step,learner.log_value())\n",
    "            s = next_s\n",
    "            \n",
    "        epsilon = max(epsilon*epsilon_decay, epsilon_min)\n",
    "        alpha = max(alpha*alpha_decay, alpha_min)\n",
    "        \n",
    "        errors.append(np.abs(learner.log_value()-hist[-1]))\n",
    "        hist.append(learner.log_value())\n",
    "#         #print(learner.log_value())\n",
    "#         if i%1000 == 0:\n",
    "#              print(i, alpha, errors[-1])\n",
    "        \n",
    "    return hist, errors"
   ]
  },
  {
   "cell_type": "code",
   "execution_count": 186,
   "metadata": {},
   "outputs": [],
   "source": [
    "        Q_states = Q2[0]\n",
    "        s = block_diag(Q_states - Q_states[0, :], Q_states - Q_states[1, :], Q_states - Q_states[2, :], Q_states - Q_states[3, :], Q_states - Q_states[4, :])\n",
    "        row_index = [1, 2, 3, 4, 5, 7, 8, 9, 10, 11, 13, 14, 15, 16, 17, 19, 20, 21, 22, 23]\n",
    "        parameters_1 = s[row_index, :]\n",
    "\n",
    "        # subset the condition for player B\n",
    "        Q_states = Q2[1].T\n",
    "        s = block_diag(Q_states - Q_states[0, :], Q_states - Q_states[1, :], Q_states - Q_states[2, :], Q_states - Q_states[3, :], Q_states - Q_states[4, :])\n",
    "        col_index = [0, 5, 10, 15, 20, 1, 6, 11, 16, 21, 2, 7, 12, 17, 22, 3, 8, 13, 18, 23, 4, 9, 14, 19, 24]\n",
    "        parameters_2 = s[row_index, :][:, col_index]\n",
    "\n",
    "        c = matrix((Q2[0] + Q2[1]).reshape(25))\n",
    "        # construct rationality constraints\n",
    "        G = matrix(np.append(np.append(parameters_1, parameters_2, axis=0), -np.eye(25), axis=0))\n",
    "        h = matrix(np.zeros(65) * 0.0)\n",
    "        # construct probability constraints\n",
    "        A = matrix(np.ones((1, 25)))\n",
    "        b = matrix(1.0)"
   ]
  },
  {
   "cell_type": "code",
   "execution_count": 199,
   "metadata": {},
   "outputs": [
    {
     "data": {
      "text/plain": [
       "54.024415016392666"
      ]
     },
     "execution_count": 199,
     "metadata": {},
     "output_type": "execute_result"
    }
   ],
   "source": [
    "np.sum(np.abs(learner.c-np.array(c)))"
   ]
  },
  {
   "cell_type": "code",
   "execution_count": 193,
   "metadata": {},
   "outputs": [
    {
     "data": {
      "text/plain": [
       "array([-0.04732391,  0.        ,  0.        ,  0.        ,  0.        ,\n",
       "        0.67126039,  0.        ,  0.        ,  0.        ,  0.        ,\n",
       "       -0.38969246,  0.        ,  0.        ,  0.        ,  0.        ,\n",
       "       -0.11383188,  0.        ,  0.        ,  0.        ,  0.        ,\n",
       "        0.37181858,  0.        ,  0.        ,  0.        ,  0.        ])"
      ]
     },
     "execution_count": 193,
     "metadata": {},
     "output_type": "execute_result"
    }
   ],
   "source": [
    "np.array(G)[23]"
   ]
  },
  {
   "cell_type": "code",
   "execution_count": 254,
   "metadata": {},
   "outputs": [],
   "source": [
    "#s = block_diag(Q_states - Q_states[0, :], Q_states - Q_states[1, :], Q_states - Q_states[2, :], Q_states - Q_states[3, :], Q_states - Q_states[4, :])\n",
    "s = block_diag(Q_states - Q_states[0,:], Q_states - Q_states[:,1], Q_states - Q_states[:,2], Q_states - Q_states[:,3], Q_states - Q_states[:,4])\n",
    "col_index = [0, 5, 10, 15, 20, 1, 6, 11, 16, 21, 2, 7, 12, 17, 22, 3, 8, 13, 18, 23, 4, 9, 14, 19, 24]\n",
    "parameters_2 = s[row_index, :][:, col_index]"
   ]
  },
  {
   "cell_type": "code",
   "execution_count": 49,
   "metadata": {},
   "outputs": [
    {
     "name": "stdout",
     "output_type": "stream",
     "text": [
      "(20, 25)\n"
     ]
    }
   ],
   "source": [
    "def simple_slice(arr, val, inds, axis):\n",
    "    # this does the same as np.take() except only supports simple slicing, not\n",
    "    # advanced indexing, and thus is much faster\n",
    "    sl = [slice(None)] * arr.ndim\n",
    "    sl[axis] = inds\n",
    "    #print(tuple(sl))\n",
    "    arr[tuple(sl)] = val\n",
    "    \n",
    "Q = q_table_b_at_state\n",
    "\n",
    "i = 1\n",
    "nA = (5,5)\n",
    "nc = nA[i]*(nA[i]-1)\n",
    "nprob = np.product(nA)\n",
    "#Q = np.random.random(nA)\n",
    "\n",
    "rational_c = np.zeros([nc]+list(nA))\n",
    "\n",
    "for a in range(nA[i]):\n",
    "    Q0 = np.take(Q, a, axis=i)\n",
    "    Q0 = np.expand_dims(Q0, axis=i)\n",
    "    constraint = np.delete(Q - Q0, a, axis=i)\n",
    "    #print(constraint)\n",
    "    constraint = np.moveaxis(constraint, i, 0)\n",
    "    #print(constraint.shape)\n",
    "    #print(G[(nA[i]-1)*a:(nA[i]-1)*(a+1)].shape)\n",
    "    simple_slice(rational_c[(nA[i]-1)*a:(nA[i]-1)*(a+1)], constraint, a, axis=i+1)\n",
    "rational_c = rational_c.reshape(nc, -1)\n",
    "print(rational_c.shape)"
   ]
  },
  {
   "cell_type": "code",
   "execution_count": 105,
   "metadata": {},
   "outputs": [],
   "source": [
    "Q2 = [np.random.rand(5,5),np.random.rand(5,5)]"
   ]
  },
  {
   "cell_type": "code",
   "execution_count": 176,
   "metadata": {},
   "outputs": [],
   "source": [
    "            goal=0\n",
    "            q_table_a_at_state = Q2[0]\n",
    "            q_table_b_at_state = Q2[1]\n",
    "\n",
    "            # probabilities must be >=0 25 variables for actions x actions\n",
    "            probability_constraints = np.eye(25)\n",
    "            # constraints for picking one action over another in q_table_a\n",
    "            q_a_constraints = []\n",
    "            # constraints for picking one action over another in q_table_b\n",
    "            q_b_constraints = []\n",
    "\n",
    "            for i in range(5):\n",
    "                q_temp = []\n",
    "                for j in range(5):\n",
    "                    if i != j:\n",
    "                        # constraints of picking one action over another\n",
    "                        q_temp.append(q_table_a_at_state[i, :] - q_table_a_at_state[j, :])\n",
    "                q_a_constraints.append(q_temp)\n",
    "\n",
    "            row1 = np.hstack((np.vstack(q_a_constraints[0]), np.zeros((4, 20))))\n",
    "            row2 = np.hstack((np.zeros((4, 5)), np.vstack(q_a_constraints[1]), np.zeros((4, 15))))\n",
    "            row3 = np.hstack((np.zeros((4, 10)), np.vstack(q_a_constraints[2]), np.zeros((4, 10))))\n",
    "            row4 = np.hstack((np.zeros((4, 15)), np.vstack(q_a_constraints[3]), np.zeros((4, 5))))\n",
    "            row5 = np.hstack((np.zeros((4, 20)), np.vstack(q_a_constraints[4])))\n",
    "            player_a_constraint_matrix = np.vstack((row1, row2, row3, row4, row5))\n",
    "\n",
    "            for j in range(5):\n",
    "                q_temp = []\n",
    "                for i in range(5):\n",
    "                    if i != j:\n",
    "                        temp = q_table_b_at_state[:, j] - q_table_b_at_state[:, i]\n",
    "                        q_temp.append(temp.T)\n",
    "                q_b_constraints.append(q_temp)\n",
    "\n",
    "            row1 = np.hstack((np.vstack(q_b_constraints[0]), np.zeros((4, 20))))\n",
    "            row2 = np.hstack((np.zeros((4, 5)), np.vstack(q_b_constraints[1]), np.zeros((4, 15))))\n",
    "            row3 = np.hstack((np.zeros((4, 10)), np.vstack(q_b_constraints[2]), np.zeros((4, 10))))\n",
    "            row4 = np.hstack((np.zeros((4, 15)), np.vstack(q_b_constraints[3]), np.zeros((4, 5))))\n",
    "            row5 = np.hstack((np.zeros((4, 20)), np.vstack(q_b_constraints[4])))\n",
    "            player_b_constraint_matrix = np.vstack((row1, row2, row3, row4, row5))\n",
    "            \n",
    "            player_b_constraint_matrix = player_b_constraint_matrix.reshape(20,5,5)\n",
    "            player_b_constraint_matrix = np.moveaxis(player_b_constraint_matrix, 1, -1)\n",
    "            player_b_constraint_matrix = player_b_constraint_matrix.reshape(20,25)\n",
    "\n",
    "            player_constraints = np.vstack((player_a_constraint_matrix, player_b_constraint_matrix,probability_constraints))\n",
    "\n",
    "            # Gx = h\n",
    "            G = matrix(player_constraints * -1)\n",
    "            h = matrix(np.zeros(player_constraints.shape[0]))\n",
    "\n",
    "            # C = np.zeros(25)\n",
    "            # minimize Cx\n",
    "            C = np.add(q_table_a_at_state, q_table_b_at_state).reshape(1, 25)\n",
    "            C *= -1\n",
    "            C = matrix(C[0])\n",
    "\n",
    "            # Ax = b\n",
    "            A = matrix(np.ones((1, 25)))\n",
    "            b = matrix([1.])\n",
    "\n",
    "            result = solvers.lp(C, G, h, A, b)['x']\n",
    "            if result is not None:\n",
    "                result_array = np.array(result)\n",
    "                q_a_table_flatten = q_table_a_at_state.flatten().reshape(25, 1)\n",
    "                q_b_table_flatten = q_table_b_at_state.flatten().reshape(25, 1)\n",
    "\n",
    "                # Utilitarian CE maximizes sum of player's rewards\n",
    "                max_a = 0 if goal else sum(result_array * q_b_table_flatten)\n",
    "                max_b = 0 if goal else sum(result_array * q_a_table_flatten)"
   ]
  },
  {
   "cell_type": "code",
   "execution_count": 182,
   "metadata": {},
   "outputs": [
    {
     "data": {
      "text/plain": [
       "0.9665042818182211"
      ]
     },
     "execution_count": 182,
     "metadata": {},
     "output_type": "execute_result"
    }
   ],
   "source": [
    "learner.agents[1].V[71]"
   ]
  },
  {
   "cell_type": "code",
   "execution_count": 153,
   "metadata": {},
   "outputs": [
    {
     "data": {
      "text/plain": [
       "(53.35309363313347,\n",
       " array([0., 0., 1., 0., 0., 0., 0., 0., 0., 0., 0., 0., 0., 0., 0., 0., 0.,\n",
       "        0., 0., 0., 0., 0., 0., 0., 0.]))"
      ]
     },
     "execution_count": 153,
     "metadata": {},
     "output_type": "execute_result"
    }
   ],
   "source": [
    "np.sum(np.abs(learner.G-np.array(G))), learner.p[71]"
   ]
  },
  {
   "cell_type": "code",
   "execution_count": 180,
   "metadata": {},
   "outputs": [
    {
     "data": {
      "text/plain": [
       "(array([0.96650428]), array([0.88605528]))"
      ]
     },
     "execution_count": 180,
     "metadata": {},
     "output_type": "execute_result"
    }
   ],
   "source": [
    "max_a, max_b"
   ]
  },
  {
   "cell_type": "code",
   "execution_count": 130,
   "metadata": {},
   "outputs": [
    {
     "data": {
      "text/plain": [
       "array([[-5.32998844e-09],\n",
       "       [-1.84407809e-09],\n",
       "       [ 2.30875692e-08],\n",
       "       [-4.57771753e-09],\n",
       "       [-1.14418105e-09],\n",
       "       [ 1.07563969e-09],\n",
       "       [-2.13040105e-09],\n",
       "       [-1.23596630e-09],\n",
       "       [ 8.85648557e-01],\n",
       "       [ 1.14351386e-01],\n",
       "       [-4.91650471e-09],\n",
       "       [ 1.43366515e-08],\n",
       "       [ 1.44542018e-08],\n",
       "       [ 1.61598230e-08],\n",
       "       [-2.45918088e-09],\n",
       "       [ 4.69357981e-09],\n",
       "       [ 9.00539782e-09],\n",
       "       [ 4.68236114e-10],\n",
       "       [-1.51075817e-09],\n",
       "       [-9.26501159e-10],\n",
       "       [ 2.51948669e-10],\n",
       "       [ 3.09930666e-09],\n",
       "       [ 2.68986006e-10],\n",
       "       [-4.49153936e-09],\n",
       "       [ 5.50331405e-10]])"
      ]
     },
     "execution_count": 130,
     "metadata": {},
     "output_type": "execute_result"
    }
   ],
   "source": [
    "result_array"
   ]
  },
  {
   "cell_type": "code",
   "execution_count": 109,
   "metadata": {},
   "outputs": [
    {
     "data": {
      "text/plain": [
       "0.9408623206797078"
      ]
     },
     "execution_count": 109,
     "metadata": {},
     "output_type": "execute_result"
    }
   ],
   "source": [
    "learner.agents[1].V[71]"
   ]
  },
  {
   "cell_type": "code",
   "execution_count": 110,
   "metadata": {},
   "outputs": [
    {
     "data": {
      "text/plain": [
       "(array([0.6432136]), array([0.77634618]))"
      ]
     },
     "execution_count": 110,
     "metadata": {},
     "output_type": "execute_result"
    }
   ],
   "source": [
    "max_a, max_b"
   ]
  },
  {
   "cell_type": "code",
   "execution_count": 121,
   "metadata": {},
   "outputs": [
    {
     "data": {
      "text/plain": [
       "array([[-0.12169573, -0.47598534, -0.83475025, ..., -0.        ,\n",
       "        -0.        , -0.        ],\n",
       "       [-0.88550414, -0.34133711, -0.56735439, ..., -0.        ,\n",
       "        -0.        , -0.        ],\n",
       "       [ 0.07845559, -0.46103916, -0.05416609, ..., -0.        ,\n",
       "        -0.        , -0.        ],\n",
       "       ...,\n",
       "       [-0.        , -0.        , -0.        , ..., -1.        ,\n",
       "        -0.        , -0.        ],\n",
       "       [-0.        , -0.        , -0.        , ..., -0.        ,\n",
       "        -1.        , -0.        ],\n",
       "       [-0.        , -0.        , -0.        , ..., -0.        ,\n",
       "        -0.        , -1.        ]])"
      ]
     },
     "execution_count": 121,
     "metadata": {},
     "output_type": "execute_result"
    }
   ],
   "source": [
    "np.array(G)"
   ]
  },
  {
   "cell_type": "code",
   "execution_count": null,
   "metadata": {},
   "outputs": [],
   "source": [
    "from scipy.linalg import block_diag\n",
    "\n",
    "Q_states = np.random.rand(5,5)\n",
    "s = block_diag(Q_states - Q_states[0, :], Q_states - Q_states[1, :], Q_states - Q_states[2, :], Q_states - Q_states[3, :], Q_states - Q_states[4, :])\n",
    "row_index = [1, 2, 3, 4, 5, 7, 8, 9, 10, 11, 13, 14, 15, 16, 17, 19, 20, 21, 22, 23]\n",
    "parameters_1 = s[row_index, :]\n",
    "\n",
    "# subset the condition for player B\n",
    "Q_states = Q_2[state[0]][state[1]][state[2]]\n",
    "s = block_diag(Q_states - Q_states[0, :], Q_states - Q_states[1, :], Q_states - Q_states[2, :], Q_states - Q_states[3, :], Q_states - Q_states[4, :])\n",
    "col_index = [0, 5, 10, 15, 20, 1, 6, 11, 16, 21, 2, 7, 12, 17, 22, 3, 8, 13, 18, 23, 4, 9, 14, 19, 24]\n",
    "parameters_2 = s[row_index, :][:, col_index]\n",
    "\n",
    "c = matrix((Q_1[state[0]][state[1]][state[2]] + Q_2[state[0]][state[1]][state[2]].T).reshape(25))\n",
    "# construct rationality constraints\n",
    "G = matrix(np.append(np.append(parameters_1, parameters_2, axis=0), -np.eye(25), axis=0))\n",
    "h = matrix(np.zeros(65) * 0.0)\n",
    "# construct probability constraints\n",
    "A = matrix(np.ones((1, 25)))\n",
    "b = matrix(1.0)"
   ]
  },
  {
   "cell_type": "code",
   "execution_count": 326,
   "metadata": {},
   "outputs": [
    {
     "data": {
      "text/plain": [
       "(20, 3)"
      ]
     },
     "execution_count": 326,
     "metadata": {},
     "output_type": "execute_result"
    }
   ],
   "source": [
    "a,b = np.zeros([10,3]), np.zeros([10,3])\n",
    "np.vstack([a,b]).shape"
   ]
  },
  {
   "cell_type": "code",
   "execution_count": 355,
   "metadata": {},
   "outputs": [
    {
     "data": {
      "text/plain": [
       "<65x1 matrix, tc='d'>"
      ]
     },
     "execution_count": 355,
     "metadata": {},
     "output_type": "execute_result"
    }
   ],
   "source": [
    "matrix(np.array([0.0]*65))"
   ]
  },
  {
   "cell_type": "code",
   "execution_count": 354,
   "metadata": {},
   "outputs": [
    {
     "data": {
      "text/plain": [
       "<65x1 matrix, tc='d'>"
      ]
     },
     "execution_count": 354,
     "metadata": {},
     "output_type": "execute_result"
    }
   ],
   "source": [
    "matrix(np.zeros(65) * 0.0)"
   ]
  },
  {
   "cell_type": "code",
   "execution_count": 8,
   "metadata": {},
   "outputs": [],
   "source": [
    "def put_by_axis(arr, val, inds, axis):\n",
    "    \"\"\"\n",
    "        Assign value to arr at inds, axis=axis\n",
    "        for example arr = array(3,4,5), val = array(3,5)\n",
    "        put_by_axis(arr, val, ind=2, axis=1) will do arr[:,2,:] = val\n",
    "    \"\"\" \n",
    "    sl = [slice(None)] * arr.ndim\n",
    "    sl[axis] = inds\n",
    "    #print(tuple(sl))\n",
    "    arr[tuple(sl)] = val\n",
    "\n",
    "class ceQ():\n",
    "    class agent():\n",
    "        def __init__(self, nS, nA, i):\n",
    "            self.i = i\n",
    "            self.nA = nA\n",
    "            self.na = nA[i]\n",
    "            #self.Q = np.ones([nS]+list(nA)) # nstate, player1 action, player2 action ...\n",
    "            self.Q = np.random.sample([nS]+list(nA))\n",
    "            self.V = np.zeros([nS])\n",
    "            \n",
    "        def get_rational_constraint(self, s):\n",
    "            #print(\"agent\",self.i)\n",
    "            #self.Q[s] = Q2[self.i]\n",
    "\n",
    "            nc = self.na*(self.na-1)\n",
    "\n",
    "            rational_c = np.zeros([nc]+list(self.nA))\n",
    "\n",
    "            for a in range(self.na):\n",
    "                #print(\"a\",a)\n",
    "                #print(self.Q[s].shape, a, self.i)\n",
    "                Q0 = np.take(self.Q[s], a, axis=self.i)\n",
    "                Q0 = np.expand_dims(Q0, axis=self.i)\n",
    "                constraint = np.delete(self.Q[s] - Q0, a, axis=self.i)\n",
    "                #print(constraint)\n",
    "                constraint = np.moveaxis(constraint, self.i, 0)\n",
    "                #print(\"constraint shape\",constraint.shape)\n",
    "                #print(\"rational_c shape\", rational_c[(nA[i]-1)*a:(nA[i]-1)*(a+1)].shape)\n",
    "                put_by_axis(rational_c[(self.na-1)*a:(self.na-1)*(a+1)], constraint, a, axis=self.i+1)\n",
    "            \n",
    "            rational_c = rational_c.reshape(nc, -1)\n",
    "            #self.c = rational_c\n",
    "            return rational_c\n",
    "        \n",
    "        def update_Q(self, s, next_s, a, r, done, alpha, gamma):\n",
    "            self.Q[s][a] = (1-alpha)*self.Q[s][a] + alpha*(r+gamma*self.V[next_s])\n",
    "            \n",
    "    def __init__(self, nS, nA):\n",
    "        self.nA = nA\n",
    "        self.NA = np.prod(self.nA)\n",
    "        self.agents = [self.agent(nS, nA, i) for i in range(len(nA))]\n",
    "        self.p = np.ones([nS, self.NA])/self.NA\n",
    "        \n",
    "    def solve(self, s, solver=\"glpk\"):\n",
    "        G = np.vstack([agent.get_rational_constraint(s) for agent in self.agents])\n",
    "        G = np.vstack([G, -np.eye(self.NA)])\n",
    "        h = np.array([0.0]*G.shape[0])\n",
    "        c = -sum(agent.Q[s] for agent in self.agents).flatten()\n",
    "        G, h, c = matrix(G), matrix(h), matrix(c)\n",
    "        A = matrix(np.ones((1, self.NA)))\n",
    "        b = matrix(1.0)\n",
    "        \n",
    "        #sol = solvers.lp(c=c, G=G, h=h, A=A, b=b, solver=solver)\n",
    "        sol = solvers.lp(c=c, G=G, h=h, A=A, b=b)\n",
    "        if not sol[\"x\"]:\n",
    "            print(\"fail in LP\")\n",
    "            return\n",
    "            \n",
    "        self.p[s] = np.abs(np.array(sol[\"x\"])).flatten()\n",
    "        self.p[s] = self.p[s]/sum(self.p[s])\n",
    "            \n",
    "        for agent in self.agents:\n",
    "            agent.V[s] = np.dot(agent.Q[s].flatten(), self.p[s])\n",
    "            \n",
    "#         print(s)\n",
    "#         self.G = np.array(G)\n",
    "#         self.h = np.array(h)\n",
    "#         self.A = np.array(A)\n",
    "#         self.b = np.array(b)\n",
    "#         self.c = np.array(c)\n",
    "#         raise ValueError()\n",
    "            \n",
    "    def select_action(self, s):\n",
    "        idx = np.random.choice(range(len(self.p[s])), p=self.p[s])\n",
    "        return np.unravel_index(idx, self.nA)\n",
    "    \n",
    "    def update(self, s, next_s, action, reward, done, alpha, gamma):\n",
    "        for r, agent in zip(reward, self.agents):\n",
    "            agent.update_Q(s, next_s, action, r, done, alpha, gamma)\n",
    "            \n",
    "        self.solve(s)\n",
    "        \n",
    "    def log_value(self):\n",
    "        # player A taking action S(4) and player B stick(0)\n",
    "        # agent1.Q[s][4][0] or agent2.Q[s][4][0]\n",
    "        return self.agents[0].Q[71][4][0]+self.agents[0].Q[71][4][3]"
   ]
  },
  {
   "cell_type": "code",
   "execution_count": 87,
   "metadata": {},
   "outputs": [
    {
     "name": "stderr",
     "output_type": "stream",
     "text": [
      "100%|██████████| 10000/10000 [07:58<00:00, 20.92it/s]\n"
     ]
    }
   ],
   "source": [
    "env = soccer_game()\n",
    "learner_ceQ = ceQ(env.nS, env.nA)\n",
    "\n",
    "hist_ceQ, errors_ceQ = learning(learner_ceQ, env, epsilon_decay=0.999, alpha_decay=0.999, max_episode=10000)"
   ]
  },
  {
   "cell_type": "code",
   "execution_count": 100,
   "metadata": {},
   "outputs": [
    {
     "data": {
      "text/plain": [
       "(0, 0.5)"
      ]
     },
     "execution_count": 100,
     "metadata": {},
     "output_type": "execute_result"
    },
    {
     "data": {
      "image/png": "[encoded data removed]",
      "text/plain": [
       "<Figure size 432x288 with 1 Axes>"
      ]
     },
     "metadata": {
      "needs_background": "light"
     },
     "output_type": "display_data"
    }
   ],
   "source": [
    "plt.plot(errors_ceQ)\n",
    "plt.ylim(0,0.5)"
   ]
  },
  {
   "cell_type": "code",
   "execution_count": 101,
   "metadata": {},
   "outputs": [],
   "source": [
    "Qtabel_ceQ = [learner_ceQ.agents[0].Q, learner_ceQ.agents[1].Q]"
   ]
  },
  {
   "cell_type": "code",
   "execution_count": 102,
   "metadata": {},
   "outputs": [
    {
     "data": {
      "text/plain": [
       "(array([0.  , 0.  , 0.  , 0.52, 0.48]), array([0.  , 0.  , 0.  , 0.63, 0.37]))"
      ]
     },
     "execution_count": 102,
     "metadata": {},
     "output_type": "execute_result"
    }
   ],
   "source": [
    "p = learner_ceQ.p[71].reshape(5,5)\n",
    "p.sum(axis=0).round(2), p.sum(axis=1).round(2)"
   ]
  },
  {
   "cell_type": "code",
   "execution_count": 52,
   "metadata": {},
   "outputs": [
    {
     "name": "stderr",
     "output_type": "stream",
     "text": [
      "100%|██████████| 50000/50000 [00:21<00:00, 2348.20it/s]\n"
     ]
    }
   ],
   "source": [
    "env = soccer_game()\n",
    "learner_q = QLearner(env.nS, env.nA)\n",
    "\n",
    "hist_q, errors_q = learning(learner_q, env, epsilon_decay=0.9995, alpha_decay=0.9995, max_episode=50000)"
   ]
  },
  {
   "cell_type": "code",
   "execution_count": 89,
   "metadata": {},
   "outputs": [
    {
     "data": {
      "text/plain": [
       "(0, 0.5)"
      ]
     },
     "execution_count": 89,
     "metadata": {},
     "output_type": "execute_result"
    },
    {
     "data": {
      "image/png": "[encoded data removed]",
      "text/plain": [
       "<Figure size 432x288 with 1 Axes>"
      ]
     },
     "metadata": {
      "needs_background": "light"
     },
     "output_type": "display_data"
    }
   ],
   "source": [
    "plt.plot(errors_q)\n",
    "plt.ylim(0,0.5)"
   ]
  },
  {
   "cell_type": "code",
   "execution_count": 25,
   "metadata": {},
   "outputs": [
    {
     "name": "stderr",
     "output_type": "stream",
     "text": [
      "100%|██████████| 1000/1000 [00:00<00:00, 3295.52it/s]\n"
     ]
    }
   ],
   "source": [
    "env = soccer_game()\n",
    "learner_friendQ = FriendQ(env.nS, env.nA)\n",
    "\n",
    "hist_friendQ, errors_friendQ = learning(learner_friendQ, env, epsilon_decay=0.999, alpha_decay=0.999, max_episode=1000)"
   ]
  },
  {
   "cell_type": "code",
   "execution_count": 90,
   "metadata": {},
   "outputs": [
    {
     "data": {
      "text/plain": [
       "(0, 0.5)"
      ]
     },
     "execution_count": 90,
     "metadata": {},
     "output_type": "execute_result"
    },
    {
     "data": {
      "image/png": "[encoded data removed]",
      "text/plain": [
       "<Figure size 432x288 with 1 Axes>"
      ]
     },
     "metadata": {
      "needs_background": "light"
     },
     "output_type": "display_data"
    }
   ],
   "source": [
    "plt.plot(errors_friendQ)\n",
    "plt.ylim(0,0.5)"
   ]
  },
  {
   "cell_type": "code",
   "execution_count": 34,
   "metadata": {},
   "outputs": [
    {
     "data": {
      "text/plain": [
       "(array([[ 90., 100.,  81.,  90.,  90.],\n",
       "        [ 90., 100.,  87.,  90.,  90.],\n",
       "        [ 90., 100., -49.,  90.,  90.],\n",
       "        [ 90., 100.,  81.,  90.,  90.],\n",
       "        [ 90., 100.,  81.,  90.,  90.]]),\n",
       " array([[  85., -100.,   90.,   86.,   81.],\n",
       "        [  85., -100.,   87.,   84.,   81.],\n",
       "        [  81., -100.,   97.,   81.,   81.],\n",
       "        [  84., -100.,   90.,   86.,   81.],\n",
       "        [  81., -100.,   89.,   81.,   85.]]))"
      ]
     },
     "execution_count": 34,
     "metadata": {},
     "output_type": "execute_result"
    }
   ],
   "source": [
    "learner_friendQ.agents[0].Q[71].round(), learner_friendQ.agents[1].Q[71].round()"
   ]
  },
  {
   "cell_type": "code",
   "execution_count": 30,
   "metadata": {},
   "outputs": [
    {
     "data": {
      "text/plain": [
       "2"
      ]
     },
     "execution_count": 30,
     "metadata": {},
     "output_type": "execute_result"
    }
   ],
   "source": [
    "learner_friendQ.agents[1].select_action(71)"
   ]
  },
  {
   "cell_type": "code",
   "execution_count": 103,
   "metadata": {},
   "outputs": [
    {
     "name": "stderr",
     "output_type": "stream",
     "text": [
      "100%|██████████| 10000/10000 [00:26<00:00, 373.29it/s]\n"
     ]
    }
   ],
   "source": [
    "env = soccer_game()\n",
    "learner_foeQ = FoeQ(env.nS, env.nA)\n",
    "\n",
    "hist_foeQ, errors_foeQ = learning(learner_foeQ, env, epsilon_decay=0.999, alpha_decay=0.999, max_episode=10000)"
   ]
  },
  {
   "cell_type": "code",
   "execution_count": 104,
   "metadata": {},
   "outputs": [
    {
     "data": {
      "text/plain": [
       "(0, 0.5)"
      ]
     },
     "execution_count": 104,
     "metadata": {},
     "output_type": "execute_result"
    },
    {
     "data": {
      "image/png": "[encoded data removed]",
      "text/plain": [
       "<Figure size 432x288 with 1 Axes>"
      ]
     },
     "metadata": {
      "needs_background": "light"
     },
     "output_type": "display_data"
    }
   ],
   "source": [
    "plt.plot(errors_foeQ)\n",
    "plt.ylim(0,0.5)"
   ]
  },
  {
   "cell_type": "code",
   "execution_count": 107,
   "metadata": {},
   "outputs": [
    {
     "data": {
      "text/plain": [
       "array([[-15., -15., -31., -15., -39.],\n",
       "       [100., 100., 100., 100., 100.],\n",
       "       [  1.,  -7., -91.,   1., -44.],\n",
       "       [-14., -14., -31., -15., -39.],\n",
       "       [-35., -19., -33., -35.,  -8.]])"
      ]
     },
     "execution_count": 107,
     "metadata": {},
     "output_type": "execute_result"
    }
   ],
   "source": [
    "# stick left right up down\n",
    "learner_foeQ.agent1.Q[71].round()"
   ]
  },
  {
   "cell_type": "code",
   "execution_count": 108,
   "metadata": {},
   "outputs": [
    {
     "data": {
      "text/plain": [
       "(array([0.  , 0.88, 0.  , 0.  , 0.12]), array([0.3, 0. , 0. , 0. , 0.7]))"
      ]
     },
     "execution_count": 108,
     "metadata": {},
     "output_type": "execute_result"
    }
   ],
   "source": [
    "learner_foeQ.agent1.p[71].round(2),  learner_foeQ.agent2.p[71].round(2)"
   ]
  },
  {
   "cell_type": "code",
   "execution_count": 94,
   "metadata": {},
   "outputs": [],
   "source": [
    "Qtable_foeQ = [learner_foeQ.agent1.Q, learner_foeQ.agent2.Q]"
   ]
  },
  {
   "cell_type": "code",
   "execution_count": 97,
   "metadata": {},
   "outputs": [
    {
     "data": {
      "text/plain": [
       "array([[ 10.05,  -0.  ,   0.76,   3.9 ,   3.9 ],\n",
       "       [  4.7 ,   0.  ,  -4.9 ,   7.39,   2.06],\n",
       "       [ -7.44,   0.  ,  -2.85,  -2.83,   0.49],\n",
       "       [  6.87,   0.  ,   0.22,  -0.64,   0.88],\n",
       "       [  3.1 ,  -0.  , -29.12,  -2.15,  -0.73]])"
      ]
     },
     "execution_count": 97,
     "metadata": {},
     "output_type": "execute_result"
    }
   ],
   "source": [
    "np.round(Qtabel_ceQ[0][71]-Qtable_foeQ[0][71].T, 2)"
   ]
  },
  {
   "cell_type": "code",
   "execution_count": null,
   "metadata": {},
   "outputs": [],
   "source": []
  }
 ],
 "metadata": {
  "kernelspec": {
   "display_name": "RL",
   "language": "python",
   "name": "rl"
  },
  "language_info": {
   "codemirror_mode": {
    "name": "ipython",
    "version": 3
   },
   "file_extension": ".py",
   "mimetype": "text/x-python",
   "name": "python",
   "nbconvert_exporter": "python",
   "pygments_lexer": "ipython3",
   "version": "3.6.9"
  }
 },
 "nbformat": 4,
 "nbformat_minor": 4
}
