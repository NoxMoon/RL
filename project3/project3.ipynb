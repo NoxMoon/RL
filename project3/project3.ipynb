{
 "cells": [
  {
   "cell_type": "code",
   "execution_count": 1,
   "metadata": {},
   "outputs": [],
   "source": [
    "import numpy as np"
   ]
  },
  {
   "cell_type": "code",
   "execution_count": 15,
   "metadata": {},
   "outputs": [],
   "source": [
    "class player():\n",
    "    def __init__(self, pos, hasball):\n",
    "        self.pos = pos\n",
    "        self.hasball = hasball\n",
    "\n",
    "class soccer_game():\n",
    "    def __init__(self):\n",
    "        # 0 1 2 3\n",
    "        # 4 5 6 7\n",
    "        self.reset()\n",
    "        \n",
    "    def reset(self):\n",
    "        self.player1 = player(2, False)\n",
    "        self.player2 = player(1, True)\n",
    "        \n",
    "    def getstate(self):\n",
    "        return (self.player1.pos, self.player2.pos, self.player1.hasball)\n",
    "        \n",
    "    def move(self, pos, a):\n",
    "        if a==1 and pos not in (0,4): # Left\n",
    "            return pos-1\n",
    "        elif a==2 and pos not in (3,7): # right\n",
    "            return pos+1\n",
    "        elif a==3 and pos>=4: #up\n",
    "            return pos-4\n",
    "        elif a==4 and pos<=3: #down\n",
    "            return pos+4\n",
    "        else: # stick or hit the boundry\n",
    "            return pos\n",
    "        \n",
    "    def execute_action(self, player1, player2, a1, a2):\n",
    "        \n",
    "        new_pos1 = self.move(player1.pos, a1)\n",
    "        \n",
    "        if new_pos1 != player2.pos:\n",
    "            player1.pos = new_pos1\n",
    "        elif player1.hasball:\n",
    "            player1.hasball = False\n",
    "            player2.hasball = True\n",
    "            \n",
    "        new_pos2 = self.move(player2.pos, a2)\n",
    "        \n",
    "        if new_pos2 != player1.pos:\n",
    "            player2.pos = new_pos2\n",
    "        elif player2.hasball:\n",
    "            player2.hasball = False\n",
    "            player1.hasball = True      \n",
    "        \n",
    "    def step(self, action):\n",
    "        \n",
    "        if np.random.randint(2)<=1:\n",
    "            self.execute_action(self.player1, self.player2, action[0], action[1])\n",
    "        else:\n",
    "            self.execute_action(self.player2, self.player1, action[1], action[0])\n",
    "            \n",
    "        reward, done = (0,0), False\n",
    "        \n",
    "        if self.player1.hasball and self.player1.pos in (0,4):\n",
    "            reward = (100, -100)\n",
    "            done = True\n",
    "        if self.player1.hasball and self.player1.pos in (3,7):\n",
    "            reward = (-100, 100)\n",
    "            down = True\n",
    "        if self.player2.hasball and self.player2.pos in (0,4):\n",
    "            reward = (100, -100)\n",
    "            done = True\n",
    "        if self.player2.hasball and self.player2.pos in (3,7):\n",
    "            reward = (-100, 100)\n",
    "            done = True\n",
    "            \n",
    "        return self.getstate(), reward, done"
   ]
  },
  {
   "cell_type": "code",
   "execution_count": 21,
   "metadata": {},
   "outputs": [
    {
     "data": {
      "text/plain": [
       "(2, 1, False)"
      ]
     },
     "execution_count": 21,
     "metadata": {},
     "output_type": "execute_result"
    }
   ],
   "source": [
    "env = soccer_game()\n",
    "env.getstate()"
   ]
  },
  {
   "cell_type": "code",
   "execution_count": 23,
   "metadata": {},
   "outputs": [],
   "source": [
    "Q = np.zeros([8,8,2,5])"
   ]
  },
  {
   "cell_type": "code",
   "execution_count": null,
   "metadata": {},
   "outputs": [],
   "source": []
  }
 ],
 "metadata": {
  "kernelspec": {
   "display_name": "Python 3",
   "language": "python",
   "name": "python3"
  },
  "language_info": {
   "codemirror_mode": {
    "name": "ipython",
    "version": 3
   },
   "file_extension": ".py",
   "mimetype": "text/x-python",
   "name": "python",
   "nbconvert_exporter": "python",
   "pygments_lexer": "ipython3",
   "version": "3.6.5"
  }
 },
 "nbformat": 4,
 "nbformat_minor": 4
}
