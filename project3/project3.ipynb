{
 "cells": [
  {
   "cell_type": "code",
   "execution_count": 5,
   "metadata": {},
   "outputs": [],
   "source": [
    "import numpy as np\n",
    "from soccer import soccer_game\n",
    "from qlearner import QLearner\n",
    "from friendq import FriendQ\n",
    "from foeq import FoeQ\n",
    "from ceq import ceQ\n",
    "from training import learning, plot_error"
   ]
  },
  {
   "cell_type": "markdown",
   "metadata": {},
   "source": [
    "### Q-Learning"
   ]
  },
  {
   "cell_type": "code",
   "execution_count": 6,
   "metadata": {},
   "outputs": [
    {
     "name": "stderr",
     "output_type": "stream",
     "text": [
      "100%|██████████| 20000/20000 [00:05<00:00, 3762.09it/s]\n"
     ]
    }
   ],
   "source": [
    "env = soccer_game()\n",
    "learner_q = QLearner(env.nS, env.nA)\n",
    "\n",
    "hist_q = learning(learner_q, env, epsilon_decay=0.999, alpha_decay=0.999, max_episode=20000)"
   ]
  },
  {
   "cell_type": "code",
   "execution_count": 7,
   "metadata": {},
   "outputs": [
    {
     "data": {
      "image/png": "[encoded data removed]",
      "text/plain": [
       "<Figure size 504x360 with 1 Axes>"
      ]
     },
     "metadata": {
      "needs_background": "light"
     },
     "output_type": "display_data"
    }
   ],
   "source": [
    "plot_error(hist_q, \"figures/Q-2.png\")"
   ]
  },
  {
   "cell_type": "markdown",
   "metadata": {},
   "source": [
    "### Friend-Q"
   ]
  },
  {
   "cell_type": "code",
   "execution_count": 5,
   "metadata": {},
   "outputs": [
    {
     "name": "stderr",
     "output_type": "stream",
     "text": [
      "100%|██████████| 20000/20000 [00:02<00:00, 7068.86it/s] \n"
     ]
    }
   ],
   "source": [
    "env = soccer_game()\n",
    "learner_friendQ = FriendQ(env.nS, env.nA)\n",
    "\n",
    "hist_friendQ = learning(learner_friendQ, env, epsilon_decay=0.999, alpha_decay=0.999, max_episode=20000)"
   ]
  },
  {
   "cell_type": "code",
   "execution_count": 6,
   "metadata": {},
   "outputs": [
    {
     "data": {
      "image/png": "[encoded data removed]",
      "text/plain": [
       "<Figure size 504x360 with 1 Axes>"
      ]
     },
     "metadata": {
      "needs_background": "light"
     },
     "output_type": "display_data"
    }
   ],
   "source": [
    "plot_error(hist_friendQ, \"figures/friendQ-2.png\")"
   ]
  },
  {
   "cell_type": "code",
   "execution_count": 7,
   "metadata": {},
   "outputs": [
    {
     "data": {
      "text/plain": [
       "(array([[ 9., 10.,  8.,  9.,  9.],\n",
       "        [ 9., 10.,  9.,  9.,  9.],\n",
       "        [ 9., 10., -1.,  9.,  9.],\n",
       "        [ 9., 10.,  8.,  9.,  9.],\n",
       "        [ 9., 10.,  8.,  9.,  9.]]),\n",
       " array([[  9., -10.,   9.,   9.,   8.],\n",
       "        [  9., -10.,   9.,   9.,   8.],\n",
       "        [  8., -10.,   9.,   8.,   8.],\n",
       "        [  9., -10.,   9.,   9.,   8.],\n",
       "        [  8., -10.,   9.,   8.,   9.]]))"
      ]
     },
     "execution_count": 7,
     "metadata": {},
     "output_type": "execute_result"
    }
   ],
   "source": [
    "# Q table for state 71\n",
    "learner_friendQ.agents[0].Q[71].round(), learner_friendQ.agents[1].Q[71].round()"
   ]
  },
  {
   "cell_type": "code",
   "execution_count": 8,
   "metadata": {},
   "outputs": [
    {
     "data": {
      "text/plain": [
       "2"
      ]
     },
     "execution_count": 8,
     "metadata": {},
     "output_type": "execute_result"
    }
   ],
   "source": [
    "# Player 2's action\n",
    "learner_friendQ.agents[1].select_action(71)"
   ]
  },
  {
   "cell_type": "markdown",
   "metadata": {},
   "source": [
    "### Foe-Q"
   ]
  },
  {
   "cell_type": "code",
   "execution_count": 9,
   "metadata": {},
   "outputs": [
    {
     "name": "stderr",
     "output_type": "stream",
     "text": [
      "100%|██████████| 20000/20000 [01:14<00:00, 267.81it/s]\n"
     ]
    }
   ],
   "source": [
    "env = soccer_game()\n",
    "learner_foeQ = FoeQ(env.nS, env.nA)\n",
    "\n",
    "hist_foeQ = learning(learner_foeQ, env, epsilon_decay=0.999, alpha_decay=0.999, max_episode=20000)"
   ]
  },
  {
   "cell_type": "code",
   "execution_count": 10,
   "metadata": {},
   "outputs": [
    {
     "data": {
      "image/png": "[encoded data removed]",
      "text/plain": [
       "<Figure size 504x360 with 1 Axes>"
      ]
     },
     "metadata": {
      "needs_background": "light"
     },
     "output_type": "display_data"
    }
   ],
   "source": [
    "plot_error(hist_foeQ, \"figures/foeQ-2.png\")"
   ]
  },
  {
   "cell_type": "code",
   "execution_count": 11,
   "metadata": {},
   "outputs": [
    {
     "data": {
      "text/plain": [
       "(array([[-1.7 , -2.07, -1.94, -1.99, -1.74],\n",
       "        [10.  , 10.  , 10.  , 10.  , 10.  ],\n",
       "        [ 2.68,  0.27, -8.75,  2.7 , -2.08],\n",
       "        [-2.45, -2.17, -2.29, -2.38, -3.03],\n",
       "        [-3.22, -4.61, -4.08, -2.83, -2.34]]),\n",
       " array([[  1.7 , -10.  ,  -2.68,   2.45,   3.22],\n",
       "        [  2.07, -10.  ,  -0.27,   2.17,   4.61],\n",
       "        [  1.94, -10.  ,   8.75,   2.29,   4.08],\n",
       "        [  1.99, -10.  ,  -2.7 ,   2.38,   2.83],\n",
       "        [  1.74, -10.  ,   2.08,   3.03,   2.34]]))"
      ]
     },
     "execution_count": 11,
     "metadata": {},
     "output_type": "execute_result"
    }
   ],
   "source": [
    "# Q value for state(71)\n",
    "learner_foeQ.agent1.Q[71].round(2), learner_foeQ.agent2.Q[71].round(2)"
   ]
  },
  {
   "cell_type": "code",
   "execution_count": 12,
   "metadata": {},
   "outputs": [
    {
     "data": {
      "text/plain": [
       "(array([0.   , 0.   , 0.   , 0.602, 0.398]),\n",
       " array([0.   , 0.   , 0.   , 0.429, 0.571]))"
      ]
     },
     "execution_count": 12,
     "metadata": {},
     "output_type": "execute_result"
    }
   ],
   "source": [
    "# Policy -- probablity distribution\n",
    "# stick left right up down\n",
    "learner_foeQ.agent1.p[71].round(3),  learner_foeQ.agent2.p[71].round(3)"
   ]
  },
  {
   "cell_type": "markdown",
   "metadata": {},
   "source": [
    "### Correlated Q"
   ]
  },
  {
   "cell_type": "code",
   "execution_count": 17,
   "metadata": {},
   "outputs": [
    {
     "name": "stderr",
     "output_type": "stream",
     "text": [
      "100%|██████████| 10000/10000 [04:01<00:00, 41.35it/s]\n"
     ]
    }
   ],
   "source": [
    "env = soccer_game()\n",
    "learner_ceQ = ceQ(env.nS, env.nA)\n",
    "\n",
    "hist_ceQ = learning(learner_ceQ, env, epsilon_decay=1, alpha_decay=0.999, max_episode=10000)"
   ]
  },
  {
   "cell_type": "code",
   "execution_count": 18,
   "metadata": {},
   "outputs": [
    {
     "data": {
      "image/png": "[encoded data removed]",
      "text/plain": [
       "<Figure size 504x360 with 1 Axes>"
      ]
     },
     "metadata": {
      "needs_background": "light"
     },
     "output_type": "display_data"
    }
   ],
   "source": [
    "plot_error(hist_ceQ, \"figures/ceQ-2.png\")"
   ]
  },
  {
   "cell_type": "code",
   "execution_count": 19,
   "metadata": {},
   "outputs": [
    {
     "data": {
      "text/plain": [
       "(array([[-1.37, 10.  ,  0.69, -1.38, -4.21],\n",
       "        [-1.38, 10.  , -0.37, -1.38, -2.65],\n",
       "        [-3.83, 10.  , -8.94, -3.85, -5.79],\n",
       "        [-1.37, 10.  ,  0.69, -1.37, -4.21],\n",
       "        [-1.73, 10.  , -3.32, -1.73,  0.04]]),\n",
       " array([[  1.37, -10.  ,  -0.69,   1.38,   4.21],\n",
       "        [  1.38, -10.  ,   0.37,   1.38,   2.65],\n",
       "        [  3.83, -10.  ,   8.94,   3.85,   5.79],\n",
       "        [  1.37, -10.  ,  -0.69,   1.37,   4.21],\n",
       "        [  1.73, -10.  ,   3.32,   1.73,  -0.04]]))"
      ]
     },
     "execution_count": 19,
     "metadata": {},
     "output_type": "execute_result"
    }
   ],
   "source": [
    "# Q value for state(71)\n",
    "learner_ceQ.agents[0].Q[71].round(2), learner_ceQ.agents[1].Q[71].round(2)"
   ]
  },
  {
   "cell_type": "code",
   "execution_count": 20,
   "metadata": {},
   "outputs": [
    {
     "data": {
      "text/plain": [
       "(array([0.   , 0.596, 0.   , 0.   , 0.404]),\n",
       " array([0.   , 0.   , 0.478, 0.   , 0.522]))"
      ]
     },
     "execution_count": 20,
     "metadata": {},
     "output_type": "execute_result"
    }
   ],
   "source": [
    "# Policy -- probablity distribution\n",
    "# stick left right up down\n",
    "p = learner_ceQ.p[71].reshape(5,5)\n",
    "p.sum(axis=1).round(3), p.sum(axis=0).round(3) #for each agent i's marginal probabiliby, we should sum up all axis!=i"
   ]
  },
  {
   "cell_type": "markdown",
   "metadata": {},
   "source": [
    "### Compare Foe-Q and Correlated-Q Q values\n",
    "\n",
    "* difference between Q values"
   ]
  },
  {
   "cell_type": "code",
   "execution_count": 17,
   "metadata": {},
   "outputs": [
    {
     "data": {
      "text/plain": [
       "array([[ 0.34522, -0.     , -0.41065,  0.10033,  0.13426],\n",
       "       [ 0.46356, -0.     , -0.95666, -0.01732,  0.25292],\n",
       "       [-0.12949,  0.     , -0.48235, -0.37104,  1.9493 ],\n",
       "       [ 0.30479,  0.     , -0.56535,  0.39861, -1.59177],\n",
       "       [-0.52222,  0.     , -0.66034,  0.03958, -0.20671]])"
      ]
     },
     "execution_count": 17,
     "metadata": {},
     "output_type": "execute_result"
    }
   ],
   "source": [
    "np.round(learner_ceQ.agents[0].Q[71]-learner_foeQ.agent1.Q[71].T, 5)"
   ]
  },
  {
   "cell_type": "markdown",
   "metadata": {},
   "source": [
    "* Given a same Q table, foe-Q and ce-Q should give the same solution"
   ]
  },
  {
   "cell_type": "code",
   "execution_count": 18,
   "metadata": {},
   "outputs": [],
   "source": [
    "Q = np.array([[-25., -26., -29., -26., -36.],\n",
    "              [100., 100., 100., 100., 100.],\n",
    "              [ 10.,  -7., -91.,  10., -33.],\n",
    "              [-28., -28., -28., -27., -37.],\n",
    "              [-39., -38., -65., -39., -24.]])\n",
    "learner_foeQ.agent1.Q[71] = Q\n",
    "learner_foeQ.agent2.Q[71] = -Q.T"
   ]
  },
  {
   "cell_type": "code",
   "execution_count": 19,
   "metadata": {},
   "outputs": [
    {
     "name": "stdout",
     "output_type": "stream",
     "text": [
      "p1 [0.   0.   0.   0.52 0.48] V1 -31.800000000000004\n",
      "p1 [0.  0.  0.  0.6 0.4] V1 31.8\n"
     ]
    }
   ],
   "source": [
    "learner_foeQ.agent1.minmax(71)\n",
    "print(\"p1\", learner_foeQ.agent1.p[71].round(3), \"V1\", learner_foeQ.agent1.V[71])\n",
    "learner_foeQ.agent2.minmax(71)\n",
    "print(\"p1\", learner_foeQ.agent2.p[71].round(3), \"V1\", learner_foeQ.agent2.V[71])"
   ]
  },
  {
   "cell_type": "code",
   "execution_count": 20,
   "metadata": {},
   "outputs": [
    {
     "name": "stdout",
     "output_type": "stream",
     "text": [
      "p1 [0.   0.   0.   0.52 0.48] V1 -31.799999894036688\n",
      "p2 [0.  0.  0.  0.6 0.4] V2 31.799999894036688\n"
     ]
    }
   ],
   "source": [
    "learner_ceQ.agents[0].Q[71] = Q.T\n",
    "learner_ceQ.agents[1].Q[71] = -Q.T\n",
    "\n",
    "learner_ceQ.solve(71)\n",
    "p = learner_ceQ.p[71].reshape(5,5)\n",
    "print(\"p1\", p.sum(axis=1).round(3), \"V1\", learner_ceQ.agents[0].V[71])\n",
    "print(\"p2\", p.sum(axis=0).round(2), \"V2\", learner_ceQ.agents[1].V[71])"
   ]
  },
  {
   "cell_type": "code",
   "execution_count": null,
   "metadata": {},
   "outputs": [],
   "source": []
  }
 ],
 "metadata": {
  "kernelspec": {
   "display_name": "RL",
   "language": "python",
   "name": "rl"
  },
  "language_info": {
   "codemirror_mode": {
    "name": "ipython",
    "version": 3
   },
   "file_extension": ".py",
   "mimetype": "text/x-python",
   "name": "python",
   "nbconvert_exporter": "python",
   "pygments_lexer": "ipython3",
   "version": "3.6.9"
  }
 },
 "nbformat": 4,
 "nbformat_minor": 4
}
