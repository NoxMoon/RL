{
 "cells": [
  {
   "cell_type": "code",
   "execution_count": 1,
   "metadata": {},
   "outputs": [
    {
     "name": "stderr",
     "output_type": "stream",
     "text": [
      "Using TensorFlow backend.\n"
     ]
    }
   ],
   "source": [
    "from DQL import *\n",
    "from IPython.display import display, clear_output"
   ]
  },
  {
   "cell_type": "code",
   "execution_count": 2,
   "metadata": {},
   "outputs": [],
   "source": [
    "env = gym.make('LunarLander-v2')\n",
    "dS = env.observation_space.shape[0]\n",
    "nA = env.action_space.n\n",
    "\n",
    "params = {\n",
    "    'batch_size' : 32,\n",
    "    'gamma': 0.99,\n",
    "    'tau': 0.001,\n",
    "    'epsilon': 1,\n",
    "    'epsilon_decay': 0.995,\n",
    "    'lr': 0.0005,\n",
    "}\n",
    "\n",
    "agent = DQL_agent(dS, nA, \n",
    "                  batch_size = params['batch_size'], \n",
    "                  gamma = params['gamma'], \n",
    "                  tau = params['tau'],\n",
    "                  epsilon = params['epsilon'], \n",
    "                  epsilon_decay = params['epsilon_decay'],\n",
    "                  lr = params['lr'],\n",
    "                  dumpfile = \"weights/final_model3\"\n",
    "                )\n",
    "\n",
    "agent.load_model(\"weights/final_model3.h5\")"
   ]
  },
  {
   "cell_type": "code",
   "execution_count": null,
   "metadata": {},
   "outputs": [
    {
     "data": {
      "image/png": "[encoded data removed]",
      "text/plain": [
       "<Figure size 432x288 with 1 Axes>"
      ]
     },
     "metadata": {},
     "output_type": "display_data"
    }
   ],
   "source": [
    "def visualize(agent, env):\n",
    "    img = plt.imshow(env.render(mode='rgb_array'))\n",
    "    for _ in range(5):\n",
    "        s = env.reset()\n",
    "        done = False\n",
    "        while not done:\n",
    "            img.set_data(env.render(mode='rgb_array'))\n",
    "            display(plt.gcf())\n",
    "            clear_output(wait=True)\n",
    "            #print(observation)\n",
    "            a = agent.epsilon_greedy(s, 0)\n",
    "            next_s, r, done, _ = env.step(a)\n",
    "            if done:\n",
    "                break\n",
    "            s = next_s\n",
    "        env.close()\n",
    "\n",
    "\n",
    "visualize(agent, env)"
   ]
  },
  {
   "cell_type": "code",
   "execution_count": null,
   "metadata": {},
   "outputs": [],
   "source": []
  }
 ],
 "metadata": {
  "kernelspec": {
   "display_name": "python3.6",
   "language": "python",
   "name": "python3.6"
  },
  "language_info": {
   "codemirror_mode": {
    "name": "ipython",
    "version": 3
   },
   "file_extension": ".py",
   "mimetype": "text/x-python",
   "name": "python",
   "nbconvert_exporter": "python",
   "pygments_lexer": "ipython3",
   "version": "3.6.5"
  }
 },
 "nbformat": 4,
 "nbformat_minor": 4
}
