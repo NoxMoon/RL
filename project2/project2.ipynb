{
 "cells": [
  {
   "cell_type": "code",
   "execution_count": 36,
   "metadata": {},
   "outputs": [],
   "source": [
    "import numpy as np\n",
    "import gym\n",
    "import random\n",
    "from collections import defaultdict\n",
    "from tqdm import tqdm\n",
    "import matplotlib.pyplot as plt\n",
    "from collections import deque\n",
    "from keras.models import Sequential\n",
    "from keras.layers import Dense, Activation\n",
    "\n",
    "env = gym.make('LunarLander-v2')"
   ]
  },
  {
   "cell_type": "code",
   "execution_count": 165,
   "metadata": {},
   "outputs": [],
   "source": [
    "def Q_model(state_dim, n_action):\n",
    "    model = Sequential()\n",
    "\n",
    "    model.add(Dense(64, input_dim=state_dim, activation='relu'))\n",
    "    model.add(Dense(32, activation='relu'))\n",
    "    model.add(Dense(n_action, activation='linear'))\n",
    "    model.compile(loss='mse', optimizer='adam')\n",
    "    return model\n",
    "\n",
    "\n",
    "        \n",
    "class DQL_agent():\n",
    "    def __init__(self, dS, nA, max_episodes, batch_size, gamma, update_freq, epsilon, epochs=1):\n",
    "        self.dS = dS\n",
    "        self.nA = nA\n",
    "        self.max_episodes = max_episodes\n",
    "        self.batch_size = batch_size\n",
    "        self.gamma = gamma\n",
    "        self.update_freq = update_freq\n",
    "        self.epsilon = epsilon\n",
    "        self.epochs = epochs\n",
    "        \n",
    "        self.model = Q_model(dS, nA)\n",
    "        self.target_model = Q_model(dS, nA)  \n",
    "        self.memory = deque(maxlen=self.batch_size * 10)\n",
    "        \n",
    "        self.copy_weight()\n",
    "        \n",
    "    def epsilon_greedy(self, s):\n",
    "        if np.random.random() < self.epsilon:\n",
    "            return np.random.randint(0, self.nA)\n",
    "        else:\n",
    "            return np.argmax(self.model.predict(np.expand_dims(s, axis=0))[0])\n",
    "        \n",
    "    def update(self):\n",
    "        batch = np.array(random.sample(self.memory, self.batch_size))\n",
    "        s, next_s = np.vstack(batch[:,0]), np.vstack(batch[:,3])\n",
    "        a, r, done = np.array(batch[:,1], dtype='int'), np.array(batch[:,2], dtype='float'), np.array(batch[:,4], dtype='bool')\n",
    "        Q = self.model.predict(s) #current prediction of Q values (n_sample * n_action)\n",
    "        new_Q = r #target prediction of Q values\n",
    "        not_done_idx = np.where(~done)[0]\n",
    "        new_Q[not_done_idx] += self.gamma * np.max(self.target_model.predict(next_s[not_done_idx, :]), axis=1)\n",
    "        Q[range(Q.shape[0]), a] = new_Q #update Q of a to new_Q\n",
    "        self.model.fit(x=s, y=Q, epochs=self.epoches, batch_size=self.batch_size, verbose=0)\n",
    "        \n",
    "    def copy_weight(self):\n",
    "        self.target_model.set_weights(self.model.get_weights())\n",
    "        \n",
    "    def Q_learning(self, env):\n",
    "\n",
    "        i = 0\n",
    "        episode_rewards = []\n",
    "\n",
    "        for n in tqdm(range(self.max_episodes)):\n",
    "            s = env.reset()\n",
    "            \n",
    "            done = False\n",
    "            episode_reward = 0\n",
    "            while not done:\n",
    "                a = self.epsilon_greedy(s)\n",
    "                next_s, r, done, info = env.step(a)\n",
    "                i += 1\n",
    "                self.memory.append([s, int(a), r, next_s, done])\n",
    "                if i % self.batch_size==0:\n",
    "                    self.update()\n",
    "                if i % (self.batch_size*self.update_freq) ==0 :\n",
    "                    self.copy_weight()\n",
    "                    \n",
    "                s = next_s\n",
    "                episode_reward += r\n",
    "            episode_rewards.append(episode_reward)\n",
    "        \n",
    "        return episode_rewards"
   ]
  },
  {
   "cell_type": "markdown",
   "metadata": {},
   "source": [
    "predict_sprime = self.model.predict(np.vstack(minibatch[:, 3]))\n",
    "            predict_sprime_target = self.target_model.predict(np.vstack(minibatch[:, 3]))\n",
    "            \n",
    "            # Non-terminal update rule\n",
    "            y[not_done_indices] += np.multiply(self.gamma, \\\n",
    "                        predict_sprime_target[not_done_indices, \\\n",
    "                        np.argmax(predict_sprime[not_done_indices, :][0], axis=1)][0])"
   ]
  },
  {
   "cell_type": "code",
   "execution_count": 170,
   "metadata": {},
   "outputs": [],
   "source": [
    "env = gym.make('LunarLander-v2')\n",
    "dS = env.observation_space.shape[0]\n",
    "nA = env.action_space.n\n",
    "max_episodes = 1000\n",
    "batch_size = 32\n",
    "gamma = 0.8\n",
    "update_freq = 10\n",
    "epsilon = 0.1\n",
    "agent = DQL_agent(dS, nA, max_episodes, batch_size, gamma, update_freq, epsilon)"
   ]
  },
  {
   "cell_type": "code",
   "execution_count": 171,
   "metadata": {},
   "outputs": [
    {
     "name": "stderr",
     "output_type": "stream",
     "text": [
      "100%|██████████| 1000/1000 [14:17<00:00,  1.17it/s]\n"
     ]
    }
   ],
   "source": [
    "episode_rewards = agent.Q_learning(env)"
   ]
  },
  {
   "cell_type": "code",
   "execution_count": 172,
   "metadata": {},
   "outputs": [
    {
     "data": {
      "text/plain": [
       "[<matplotlib.lines.Line2D at 0x7f323622a6d8>]"
      ]
     },
     "execution_count": 172,
     "metadata": {},
     "output_type": "execute_result"
    },
    {
     "data": {
      "image/png": "[encoded data removed]",
      "text/plain": [
       "<Figure size 432x288 with 1 Axes>"
      ]
     },
     "metadata": {
      "needs_background": "light"
     },
     "output_type": "display_data"
    }
   ],
   "source": [
    "plt.plot(episode_rewards)"
   ]
  },
  {
   "cell_type": "code",
   "execution_count": null,
   "metadata": {},
   "outputs": [],
   "source": []
  }
 ],
 "metadata": {
  "kernelspec": {
   "display_name": "Python 3",
   "language": "python",
   "name": "python3"
  },
  "language_info": {
   "codemirror_mode": {
    "name": "ipython",
    "version": 3
   },
   "file_extension": ".py",
   "mimetype": "text/x-python",
   "name": "python",
   "nbconvert_exporter": "python",
   "pygments_lexer": "ipython3",
   "version": "3.6.8"
  }
 },
 "nbformat": 4,
 "nbformat_minor": 4
}
