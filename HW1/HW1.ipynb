{
 "cells": [
  {
   "cell_type": "code",
   "execution_count": 97,
   "metadata": {},
   "outputs": [],
   "source": [
    "import numpy as np\n",
    "import copy\n",
    "import sys\n",
    "from collections import defaultdict\n",
    "\n",
    "class game():\n",
    "    def __init__(self, N_, isBadSide_):\n",
    "        \n",
    "        assert N_ == len(isBadSide_), \"invalid initialization\"\n",
    "        \n",
    "        self.N = N_\n",
    "        self.isBadSide = isBadSide_\n",
    "        self.p_loss = sum(self.isBadSide)/self.N\n",
    "        #self.s = 0\n",
    "        self.actions = {'play','stop'}\n",
    "        \n",
    "    def R(self, s, s_next):\n",
    "        \"\"\"reward depend on s and s_next\"\"\"\n",
    "        if s=='end' or s=='loss':\n",
    "            return 0\n",
    "        if s_next == 'end':\n",
    "            return 0\n",
    "        elif s_next == 'loss':\n",
    "            return -s\n",
    "        else:\n",
    "            return s_next - s\n",
    "        \n",
    "    def T(self, s, a):\n",
    "        \"\"\"return a dict of {s_next: prob}\"\"\"\n",
    "        if s == 'end' or s=='loss' or a=='stop':\n",
    "            return {'end': 1}\n",
    "        \n",
    "        return {s_next: self.p_loss if s_next=='loss' else 1.0/self.N for s_next in self.possible_next_states(s,a)}\n",
    "        \n",
    "    def possible_next_states(self, s, a):\n",
    "        \"\"\"return possible next states given s and a\"\"\"\n",
    "        if a == 'stop':\n",
    "            return ['end']\n",
    "        else:\n",
    "            return ['loss']+[s+i+1 for i in range(self.N) if self.isBadSide[i]==0]\n",
    "        \n",
    "        \n",
    "        \n",
    "#     def move(self, action):\n",
    "#         R = self.R[self.s]\n",
    "        \n",
    "#         next_s = list(self.T[self.s, action].keys())\n",
    "#         p = list(self.T[self.s, action].values())\n",
    "#         #print(next_s, p)\n",
    "#         i = np.random.choice(len(next_s), p=p)\n",
    "#         self.s = next_s[i]\n",
    "        \n",
    "#         return R\n",
    "    \n",
    "#     def reset_pos(self):\n",
    "#         self.s = list(self.states)[np.random.randint(len(self.states))]"
   ]
  },
  {
   "cell_type": "code",
   "execution_count": 98,
   "metadata": {},
   "outputs": [],
   "source": [
    "g = game(21, [1,1,1,1,0,0,0,0,1,0,1,0,1,1,0,1,0,0,0,1,0])\n",
    "g = game(22, [1,1,1,1,1,1,0,1,0,1,1,0,1,0,1,0,0,1,0,0,1,0])\n",
    "g = game(6, [1, 1, 1, 0, 0, 0])"
   ]
  },
  {
   "cell_type": "code",
   "execution_count": 99,
   "metadata": {},
   "outputs": [
    {
     "name": "stdout",
     "output_type": "stream",
     "text": [
      "value iteration converged at 3\n",
      "2.583333333333333\n"
     ]
    }
   ],
   "source": [
    "V, p = value_iteration(g, max_iteration=1000, beta=1)\n",
    "aws = V[0]\n",
    "print(aws)"
   ]
  },
  {
   "cell_type": "code",
   "execution_count": 100,
   "metadata": {},
   "outputs": [],
   "source": [
    "# The state is the current balance\n",
    "# We don't have a fix number of states in this problem, so we will start from s=0, and adding possible states to Value func dict\n",
    "\n",
    "def value_iteration(game, max_iteration=1000, beta=1):\n",
    "    # initialize\n",
    "    V = defaultdict(int)\n",
    "    V[0] = 0\n",
    "    \n",
    "    for n in range(max_iteration):\n",
    "        V_new = defaultdict(int)\n",
    "        explored_states = list(V.keys())\n",
    "        for s in explored_states:\n",
    "            V_new[s] = max(sum((game.R(s,s_next)+beta*V[s_next])*T for s_next, T in game.T(s,a).items()) for a in game.actions)\n",
    "\n",
    "        if all(abs(V_new[s]-V[s])<1e-8 for s in explored_states):\n",
    "            print(f\"value iteration converged at {n}\")\n",
    "            break\n",
    "        V.update(V_new)\n",
    "        \n",
    "    p = {}\n",
    "    \n",
    "    for s in explored_states:\n",
    "        q = {sum((game.R(s,s_next) + beta*V[s_next])*T for s_next, T in game.T(s,a).items()): a for a in game.actions}\n",
    "        #print(s, q)\n",
    "        p[s] = q[max(q.keys())]\n",
    "    return V, p"
   ]
  },
  {
   "cell_type": "code",
   "execution_count": null,
   "metadata": {},
   "outputs": [],
   "source": []
  }
 ],
 "metadata": {
  "kernelspec": {
   "display_name": "Python 3",
   "language": "python",
   "name": "python3"
  },
  "language_info": {
   "codemirror_mode": {
    "name": "ipython",
    "version": 3
   },
   "file_extension": ".py",
   "mimetype": "text/x-python",
   "name": "python",
   "nbconvert_exporter": "python",
   "pygments_lexer": "ipython3",
   "version": "3.6.5"
  }
 },
 "nbformat": 4,
 "nbformat_minor": 4
}
