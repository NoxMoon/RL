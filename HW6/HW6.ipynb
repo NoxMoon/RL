{
 "cells": [
  {
   "cell_type": "code",
   "execution_count": 1,
   "metadata": {},
   "outputs": [],
   "source": [
    "import cvxopt\n",
    "import numpy as np\n",
    "from cvxopt import matrix, solvers"
   ]
  },
  {
   "cell_type": "markdown",
   "metadata": {},
   "source": [
    "$max_x min_y y^T A x$\n",
    "\n",
    "let $u = min_y y^T A x$, we then minimize $u$, subject to $u \\le y^T A x$ = $e_i^T A x$ (constraint1)\n",
    "\n",
    "We also have constraint $sum(x) = 1$ (constraint2)\n",
    "\n",
    "$x_i >=0 $ (constraint3)\n",
    "\n",
    "LP variables:\n",
    "\\begin{equation}\n",
    "X = \n",
    "\\begin{bmatrix}\n",
    "u \\\\\n",
    "x\n",
    "\\end{bmatrix}\n",
    "\\end{equantion}\n",
    "\n",
    "minimize:\n",
    "\\begin{equation}\n",
    "[-1, 0\\dots0]\n",
    "*\n",
    "\\begin{bmatrix}\n",
    "u \\\\\n",
    "x\n",
    "\\end{bmatrix}\n",
    "\\end{equation}\n",
    "\n",
    "constraint1:\n",
    "\\begin{equation}\n",
    "[1, -A]\n",
    "*\n",
    "\\begin{bmatrix}\n",
    "u \\\\\n",
    "x\n",
    "\\end{bmatrix}\n",
    "\\le 0\n",
    "\\end{equation}\n",
    "\n",
    "\n",
    "constraint2:\n",
    "\\begin{equation}\n",
    "[0, 1\\dots1] * \n",
    "\\begin{bmatrix}\n",
    "u \\\\\n",
    "x\n",
    "\\end{bmatrix}\n",
    "= 1\n",
    "\\end{equation}\n",
    "\n",
    "\n",
    "constraint3:\n",
    "\\begin{equation}\n",
    "[0, -I] * \n",
    "\\begin{bmatrix}\n",
    "u \\\\\n",
    "x\n",
    "\\end{bmatrix}\n",
    "< 0\n",
    "\\end{equation}\n",
    "\n",
    "\n",
    "\n",
    "solver:\n",
    "minimize $c^T X$\n",
    "constraint $G X <= h$, $AX = b$"
   ]
  },
  {
   "cell_type": "code",
   "execution_count": 3,
   "metadata": {},
   "outputs": [],
   "source": [
    "def maxmin(A, solver=\"glpk\"):\n",
    "    num_vars = len(A)\n",
    "    # minimize matrix c\n",
    "    c = [-1] + [0 for i in range(num_vars)]\n",
    "    c = np.array(c, dtype=\"float\")\n",
    "    c = matrix(c)\n",
    "    # constraints G*x <= h\n",
    "    G = np.matrix(A, dtype=\"float\").T # reformat each variable is in a row\n",
    "    G *= -1 # minimization constraint\n",
    "    G = np.vstack([G, np.eye(num_vars) * -1]) # > 0 constraint for all vars\n",
    "    new_col = [1 for i in range(num_vars)] + [0 for i in range(num_vars)]\n",
    "    G = np.insert(G, 0, new_col, axis=1) # insert utility column\n",
    "    G = matrix(G)\n",
    "    #print(\"G\",G)\n",
    "    h = ([0 for i in range(num_vars)] + \n",
    "         [0 for i in range(num_vars)])\n",
    "    h = np.array(h, dtype=\"float\")\n",
    "    h = matrix(h)\n",
    "    #print(\"h\",h)\n",
    "    # contraints Ax = b\n",
    "    A = [0] + [1 for i in range(num_vars)]\n",
    "    A = np.matrix(A, dtype=\"float\")\n",
    "    A = matrix(A)\n",
    "    b = np.matrix(1, dtype=\"float\")\n",
    "    b = matrix(b)\n",
    "    #print(\"A\",A)\n",
    "    #print(\"b\",b)\n",
    "    sol = solvers.lp(c=c, G=G, h=h, A=A, b=b, solver=solver)\n",
    "    return sol"
   ]
  },
  {
   "cell_type": "code",
   "execution_count": 7,
   "metadata": {},
   "outputs": [
    {
     "name": "stdout",
     "output_type": "stream",
     "text": [
      "[ 0.00e+00]\n",
      "[ 6.58e-01]\n",
      "[ 3.42e-01]\n",
      "[ 0.00e+00]\n",
      "\n",
      "0.6578947368421053\n",
      "0.34210526315789475\n",
      "0.0\n"
     ]
    }
   ],
   "source": [
    "A = [[0.0, 0, -0.52], [0, 0.0, 1.0], [0.52, -1.0, 0.0]]\n",
    "#A = [[0, 2, -1], [-2, 0, 1] ,[1, -1, 0]]\n",
    "\n",
    "sol = maxmin(A=A, solver=\"glpk\")\n",
    "probs = sol[\"x\"]\n",
    "print(probs)\n",
    "# [ 1.67e-01]\n",
    "# [ 8.33e-01]\n",
    "# [ 0.00e+00]\n",
    "\n",
    "for p in probs[1:]:\n",
    "    print(p)"
   ]
  },
  {
   "cell_type": "code",
   "execution_count": null,
   "metadata": {},
   "outputs": [],
   "source": [
    "[2,2]\n",
    "[-8,3]"
   ]
  }
 ],
 "metadata": {
  "kernelspec": {
   "display_name": "RL",
   "language": "python",
   "name": "rl"
  },
  "language_info": {
   "codemirror_mode": {
    "name": "ipython",
    "version": 3
   },
   "file_extension": ".py",
   "mimetype": "text/x-python",
   "name": "python",
   "nbconvert_exporter": "python",
   "pygments_lexer": "ipython3",
   "version": "3.6.9"
  }
 },
 "nbformat": 4,
 "nbformat_minor": 4
}
