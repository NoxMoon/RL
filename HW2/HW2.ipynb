{
 "cells": [
  {
   "cell_type": "code",
   "execution_count": 2,
   "metadata": {},
   "outputs": [
    {
     "data": {
      "text/plain": [
       "{1: 13.552999999999999,\n",
       " 2: 6.087000000000002,\n",
       " 3: 35.187000000000005,\n",
       " 4: 27.287000000000003,\n",
       " 5: 16.687000000000005,\n",
       " 6: 16.687000000000005}"
      ]
     },
     "execution_count": 2,
     "metadata": {},
     "output_type": "execute_result"
    }
   ],
   "source": [
    "import numpy as np\n",
    "\n",
    "class mdp():\n",
    "    def __init__(self, prob_, r_):\n",
    "        self.prob = prob_\n",
    "        self.r = r_\n",
    "        \n",
    "    def reward(self, n):\n",
    "        if n==1:\n",
    "            return self.prob*self.r[0] + (1-self.prob)*self.r[1]\n",
    "        elif n==2:\n",
    "            return self.prob*self.r[2] + (1-self.prob)*self.r[3]\n",
    "        elif n<=5:\n",
    "            return self.r[n+1]\n",
    "        else:\n",
    "            raise ValueError(\"invalid n\")\n",
    "        \n",
    "    def delta_E(self, n, V, gamma=1):\n",
    "        \"\"\"\n",
    "        delta_E[n] = (r1 + gamma*r2 + gamma^2*r3 + ... gamma^(n-1)*rn + V[n] - V0)\n",
    "        \"\"\"\n",
    "        error = 0\n",
    "        for i in range(1, min(n+1,6)):\n",
    "            error += self.reward(i) * gamma**(n-1)\n",
    "        if n==1:\n",
    "            error += (self.prob*V[1] + (1-self.prob)*V[2])*gamma**n\n",
    "        elif n<=5:\n",
    "            error += V[n+1]*gamma**n\n",
    "        # for we can imagine there is an absorbing states after n=5, so V[n]=0 for n>=6\n",
    "        error -= V[0]\n",
    "        return error\n",
    "        \n",
    "        \n",
    "probToState = 0.81\n",
    "rewards = [7.9, -5.1, 2.5, -7.2, 9.0, 0.0, 1.6]\n",
    "valueEstimates = [0.0, 4.0, 25.7, 0.0, 20.1, 12.2, 0.0]\n",
    "\n",
    "my_mdp = mdp(probToState, rewards)\n",
    "delta_E = {n: my_mdp.delta_E(n, valueEstimates) for n in range(1,7)}\n",
    "delta_E"
   ]
  },
  {
   "cell_type": "markdown",
   "metadata": {},
   "source": [
    "\\begin{align}\n",
    "\\Delta V(\\lambda) &= \\sum_{k=1}^{\\inf} (1-\\lambda) \\lambda^{k-1} \\Delta E_k \\\\\n",
    "& = (1-\\lambda) \\Delta E_1 + (1-\\lambda)\\lambda \\Delta E_2 + (1-\\lambda)\\lambda^2 \\Delta E_3 + (1-\\lambda)\\lambda^3 \\Delta E_4 + (1-\\lambda)\\lambda^4 \\Delta E_5 + \\sum_{k=6}^{\\inf} (1-\\lambda) \\lambda^{k-1} \\Delta E_6 \\\\\n",
    "& = (1-\\lambda) \\Delta E_1 + (1-\\lambda)\\lambda \\Delta E_2 + (1-\\lambda)\\lambda^2 \\Delta E_3 + (1-\\lambda)\\lambda^3 \\Delta E_4 + (1-\\lambda)\\lambda^4 \\Delta E_5 + \\lambda^5 \\Delta E_6\n",
    "\\end{align}\n",
    "\n",
    "since for $k>=6$, $E_k = E_6$, the infinit sum reduce to $\\lambda^5 \\Delta E_6$\n",
    "\n",
    "\\begin{equation}\n",
    "\\Delta V(1) = \\Delta E_6\n",
    "\\end{equation}\n",
    "\n",
    "solve for $\\Delta V(\\lambda) = \\Delta V(1)$, which becomes a polynomial equation of $\\lambda$"
   ]
  },
  {
   "cell_type": "code",
   "execution_count": 3,
   "metadata": {},
   "outputs": [],
   "source": [
    "def e(lm, delta_E):\n",
    "    return (1-lm)*delta_E[1] + (1-lm)*lm*delta_E[2] + (1-lm)*lm**2*delta_E[3] + (1-lm)*lm**3*delta_E[4] + (1-lm)*lm**4*delta_E[5] +lm**5*delta_E[6] - delta_E[6]"
   ]
  },
  {
   "cell_type": "code",
   "execution_count": 4,
   "metadata": {},
   "outputs": [
    {
     "data": {
      "text/plain": [
       "array([0.6227695])"
      ]
     },
     "execution_count": 4,
     "metadata": {},
     "output_type": "execute_result"
    }
   ],
   "source": [
    "from scipy.optimize import fsolve\n",
    "fsolve(e, x0=0.5, args=delta_E)"
   ]
  },
  {
   "cell_type": "code",
   "execution_count": 5,
   "metadata": {},
   "outputs": [
    {
     "name": "stdout",
     "output_type": "stream",
     "text": [
      "{1: -1.048, 2: 28.326, 3: 22.125999999999998, 4: 14.325999999999999, 5: 23.526, 6: 11.225999999999999}\n"
     ]
    },
    {
     "data": {
      "text/plain": [
       "array([0.49567142])"
      ]
     },
     "execution_count": 5,
     "metadata": {},
     "output_type": "execute_result"
    }
   ],
   "source": [
    "# test case 2\n",
    "probToState = 0.22\n",
    "valueEstimates = [0.0, -5.2, 0.0, 25.4, 10.6, 9.2, 12.3]\n",
    "rewards = [-2.4, 0.8, 4.0, 2.5, 8.6, -6.4, 6.1]\n",
    "my_mdp = mdp(probToState, rewards)\n",
    "delta_E = {n: my_mdp.delta_E(n, valueEstimates) for n in range(1,7)}\n",
    "print(delta_E)\n",
    "fsolve(e, x0=0.5, args=delta_E)"
   ]
  },
  {
   "cell_type": "code",
   "execution_count": 6,
   "metadata": {},
   "outputs": [
    {
     "name": "stdout",
     "output_type": "stream",
     "text": [
      "{1: 7.864, 2: -5.336, 3: 25.864, 4: -11.936, 5: -0.3360000000000003, 6: 6.164}\n"
     ]
    },
    {
     "data": {
      "text/plain": [
       "array([0.20550276])"
      ]
     },
     "execution_count": 6,
     "metadata": {},
     "output_type": "execute_result"
    }
   ],
   "source": [
    "# test case 3\n",
    "probToState = 0.64\n",
    "valueEstimates = [0.0, 4.9, 7.8, -2.3, 25.5, -10.2, -6.5]\n",
    "rewards = [-2.4, 9.6, -7.8, 0.1, 3.4, -2.1, 7.9]\n",
    "my_mdp = mdp(probToState, rewards)\n",
    "delta_E = {n: my_mdp.delta_E(n, valueEstimates) for n in range(1,7)}\n",
    "print(delta_E)\n",
    "fsolve(e, x0=0.5, args=delta_E)"
   ]
  },
  {
   "cell_type": "markdown",
   "metadata": {},
   "source": [
    "### quiz"
   ]
  },
  {
   "cell_type": "code",
   "execution_count": 7,
   "metadata": {},
   "outputs": [
    {
     "data": {
      "text/plain": [
       "array([0.33621109])"
      ]
     },
     "execution_count": 7,
     "metadata": {},
     "output_type": "execute_result"
    }
   ],
   "source": [
    "probToState=0.15\n",
    "valueEstimates=[0.0,0,4.1,17.4,17.4,21.8,5.7]\n",
    "rewards=[4.2,-1.2,1.3,5.9,7.4,-2.1,0.1]\n",
    "my_mdp = mdp(probToState, rewards)\n",
    "delta_E = {n: my_mdp.delta_E(n, valueEstimates) for n in range(1,7)}\n",
    "fsolve(e, x0=0.5, args=delta_E)"
   ]
  },
  {
   "cell_type": "code",
   "execution_count": 8,
   "metadata": {},
   "outputs": [
    {
     "data": {
      "text/plain": [
       "array([0.45006241])"
      ]
     },
     "execution_count": 8,
     "metadata": {},
     "output_type": "execute_result"
    }
   ],
   "source": [
    "probToState=0.31\n",
    "\n",
    "valueEstimates=[0.0,22.1,20.4,8.6,-4.1,0,0.0]\n",
    "\n",
    "rewards=[7.0,3.7,5.2,-0.3,-4.4,7.7,9.3]\n",
    "\n",
    "my_mdp = mdp(probToState, rewards)\n",
    "delta_E = {n: my_mdp.delta_E(n, valueEstimates) for n in range(1,7)}\n",
    "fsolve(e, x0=0.5, args=delta_E)"
   ]
  },
  {
   "cell_type": "code",
   "execution_count": 9,
   "metadata": {},
   "outputs": [
    {
     "data": {
      "text/plain": [
       "array([0.60348186])"
      ]
     },
     "execution_count": 9,
     "metadata": {},
     "output_type": "execute_result"
    }
   ],
   "source": [
    "probToState=0.25\n",
    "\n",
    "valueEstimates=[0.0,14.4,5.5,0,17.2,3.1,22.2]\n",
    "\n",
    "rewards=[-4.7,6.5,-3,8.6,0,6.5,-0.4]\n",
    "\n",
    "my_mdp = mdp(probToState, rewards)\n",
    "delta_E = {n: my_mdp.delta_E(n, valueEstimates) for n in range(1,7)}\n",
    "fsolve(e, x0=0.5, args=delta_E)"
   ]
  },
  {
   "cell_type": "code",
   "execution_count": 10,
   "metadata": {},
   "outputs": [
    {
     "data": {
      "text/plain": [
       "array([0.40813957])"
      ]
     },
     "execution_count": 10,
     "metadata": {},
     "output_type": "execute_result"
    }
   ],
   "source": [
    "probToState=0.79\n",
    "\n",
    "valueEstimates=[0.0,0,3.8,25,0,20.5,16.9]\n",
    "\n",
    "rewards=[6.5,3.1,-0.6,1.6,0,9.3,-1.0]\n",
    "\n",
    "my_mdp = mdp(probToState, rewards)\n",
    "delta_E = {n: my_mdp.delta_E(n, valueEstimates) for n in range(1,7)}\n",
    "fsolve(e, x0=0.5, args=delta_E)"
   ]
  },
  {
   "cell_type": "code",
   "execution_count": 11,
   "metadata": {},
   "outputs": [
    {
     "data": {
      "text/plain": [
       "array([0.18796712])"
      ]
     },
     "execution_count": 11,
     "metadata": {},
     "output_type": "execute_result"
    }
   ],
   "source": [
    "probToState=0.46\n",
    "\n",
    "valueEstimates=[0.0,13,0,24.3,19.3,-3.7,11.7]\n",
    "\n",
    "rewards=[0.9,-2.2,4.2,-1.4,1,0,7.2]\n",
    "\n",
    "my_mdp = mdp(probToState, rewards)\n",
    "delta_E = {n: my_mdp.delta_E(n, valueEstimates) for n in range(1,7)}\n",
    "fsolve(e, x0=0.5, args=delta_E)"
   ]
  },
  {
   "cell_type": "code",
   "execution_count": 12,
   "metadata": {},
   "outputs": [
    {
     "data": {
      "text/plain": [
       "array([0.33153026])"
      ]
     },
     "execution_count": 12,
     "metadata": {},
     "output_type": "execute_result"
    }
   ],
   "source": [
    "probToState=0.55\n",
    "\n",
    "valueEstimates=[0.0,0.2,13,19,22.1,17.5,0.0]\n",
    "\n",
    "rewards=[9.8,0,6.6,5.8,5.7,-0.5,1.5]\n",
    "\n",
    "my_mdp = mdp(probToState, rewards)\n",
    "delta_E = {n: my_mdp.delta_E(n, valueEstimates) for n in range(1,7)}\n",
    "fsolve(e, x0=0.5, args=delta_E)"
   ]
  },
  {
   "cell_type": "code",
   "execution_count": 13,
   "metadata": {},
   "outputs": [
    {
     "data": {
      "text/plain": [
       "array([0.23936997])"
      ]
     },
     "execution_count": 13,
     "metadata": {},
     "output_type": "execute_result"
    }
   ],
   "source": [
    "probToState=1.0\n",
    "\n",
    "valueEstimates=[0.0,0,-2.3,17.1,20.7,0,16.8]\n",
    "\n",
    "rewards=[3.1,-3.9,3.2,9.8,1.1,1.1,-0.5]\n",
    "\n",
    "my_mdp = mdp(probToState, rewards)\n",
    "delta_E = {n: my_mdp.delta_E(n, valueEstimates) for n in range(1,7)}\n",
    "fsolve(e, x0=0.5, args=delta_E)"
   ]
  },
  {
   "cell_type": "code",
   "execution_count": 14,
   "metadata": {},
   "outputs": [
    {
     "data": {
      "text/plain": [
       "array([0.16619674])"
      ]
     },
     "execution_count": 14,
     "metadata": {},
     "output_type": "execute_result"
    }
   ],
   "source": [
    "probToState=0.72\n",
    "valueEstimates=[0.0,14.1,0,-2,15.9,0,3.3]\n",
    "rewards=[-3.5,0.9,-4.8,8.2,-2,6.1,5.4]\n",
    "\n",
    "my_mdp = mdp(probToState, rewards)\n",
    "delta_E = {n: my_mdp.delta_E(n, valueEstimates) for n in range(1,7)}\n",
    "fsolve(e, x0=0.5, args=delta_E)"
   ]
  },
  {
   "cell_type": "code",
   "execution_count": 15,
   "metadata": {},
   "outputs": [
    {
     "data": {
      "text/plain": [
       "array([0.01236561])"
      ]
     },
     "execution_count": 15,
     "metadata": {},
     "output_type": "execute_result"
    }
   ],
   "source": [
    "probToState=0.73\n",
    "valueEstimates=[0.0,12.9,16.7,0,0,-2.3,0.4]\n",
    "rewards=[8.3,-2,-0.1,-2.9,5.1,6.8,2.7]\n",
    "\n",
    "my_mdp = mdp(probToState, rewards)\n",
    "delta_E = {n: my_mdp.delta_E(n, valueEstimates) for n in range(1,7)}\n",
    "fsolve(e, x0=0.5, args=delta_E)"
   ]
  },
  {
   "cell_type": "code",
   "execution_count": 16,
   "metadata": {},
   "outputs": [
    {
     "data": {
      "text/plain": [
       "array([0.31486309])"
      ]
     },
     "execution_count": 16,
     "metadata": {},
     "output_type": "execute_result"
    }
   ],
   "source": [
    "probToState=0.09\n",
    "valueEstimates=[0.0,0,14,4.7,7.9,13.8,19.0]\n",
    "rewards=[-0.4,-1.1,9.7,7.4,1.6,0.5,3.6]\n",
    "\n",
    "my_mdp = mdp(probToState, rewards)\n",
    "delta_E = {n: my_mdp.delta_E(n, valueEstimates) for n in range(1,7)}\n",
    "fsolve(e, x0=0.5, args=delta_E)"
   ]
  },
  {
   "cell_type": "code",
   "execution_count": null,
   "metadata": {},
   "outputs": [],
   "source": []
  }
 ],
 "metadata": {
  "kernelspec": {
   "display_name": "Python 3",
   "language": "python",
   "name": "python3"
  },
  "language_info": {
   "codemirror_mode": {
    "name": "ipython",
    "version": 3
   },
   "file_extension": ".py",
   "mimetype": "text/x-python",
   "name": "python",
   "nbconvert_exporter": "python",
   "pygments_lexer": "ipython3",
   "version": "3.6.5"
  }
 },
 "nbformat": 4,
 "nbformat_minor": 4
}
