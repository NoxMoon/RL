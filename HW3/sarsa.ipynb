{
 "cells": [
  {
   "cell_type": "code",
   "execution_count": 107,
   "metadata": {},
   "outputs": [],
   "source": [
    "import numpy as np\n",
    "import gym\n",
    "import random\n",
    "from collections import defaultdict\n",
    "\n",
    "#env = gym.make('CartPole-v0')\n",
    "\n",
    "from gym.envs.toy_text.frozen_lake import FrozenLakeEnv\n",
    "\n",
    "actions = {0:'<', 1:'v', 2: '>', 3:'∧'}"
   ]
  },
  {
   "cell_type": "code",
   "execution_count": 110,
   "metadata": {},
   "outputs": [],
   "source": [
    "def epsilon_greedy(Q, env, epsilon):\n",
    "    if np.random.random() < epsilon:\n",
    "        return np.random.randint(env.nA)\n",
    "    else:\n",
    "        return np.argmax(Q[env.s, :])\n",
    "\n",
    "def SARSA(env, n_episodes=10000, alpha=1, epsilon=0.05, gamma=1):\n",
    "    \n",
    "    Q = np.zeros([env.nS, env.nA])\n",
    "    #print(Q)\n",
    "    \n",
    "    for i in range(n_episodes):\n",
    "        env.reset()\n",
    "        done = False\n",
    "        while not done:\n",
    "            s = env.s\n",
    "            a = epsilon_greedy(Q, env, epsilon)\n",
    "            next_s, r, done, info = env.step(a)\n",
    "            next_a = epsilon_greedy(Q, env, epsilon)\n",
    "            Q[s,a] = (1-alpha) * Q[s,a] + alpha * (r + gamma * Q[next_s, next_a])\n",
    "\n",
    "    p = np.argmax(Q, axis=1)\n",
    "    return Q, p"
   ]
  },
  {
   "cell_type": "code",
   "execution_count": 113,
   "metadata": {},
   "outputs": [
    {
     "data": {
      "text/plain": [
       "'∧,>,>,>,<,>,>,>,v,v,>,>,v,>,>,<'"
      ]
     },
     "execution_count": 113,
     "metadata": {},
     "output_type": "execute_result"
    }
   ],
   "source": [
    "amap = np.asarray('SFFFHFFFFFFFFFFG', dtype='c').reshape(4,4)\n",
    "#env = FrozenLakeEnv(amap).unwrapped\n",
    "env = gym.make('FrozenLake-v0', desc=amap).unwrapped\n",
    "gamma=1\n",
    "alpha=0.25\n",
    "epsilon=0.29\n",
    "n_episodes=14697\n",
    "seed = 741684\n",
    "np.random.seed(seed)\n",
    "env.seed(seed)\n",
    "random.seed(seed)\n",
    "Q, p = SARSA(env, n_episodes, alpha, epsilon, gamma)\n",
    "','.join([actions[pi] for pi in p])"
   ]
  },
  {
   "cell_type": "code",
   "execution_count": 100,
   "metadata": {},
   "outputs": [
    {
     "data": {
      "text/plain": [
       "'<,<,<,<,<,<,<,<,<,<,<,<,<,<,<,<,<,<,<,<,<,<,<,<,<'"
      ]
     },
     "execution_count": 100,
     "metadata": {},
     "output_type": "execute_result"
    }
   ],
   "source": [
    "amap = np.asarray('SFFFFHFFFFFFFFFFFFFFFFFFG', dtype='c').reshape(5,5)\n",
    "env = gym.make('FrozenLake-v0', desc=amap).unwrapped\n",
    "gamma=0.91\n",
    "alpha=0.12\n",
    "epsilon=0.13\n",
    "n_episodes=42271\n",
    "seed = 983459\n",
    "np.random.seed(seed)\n",
    "env.seed(seed)\n",
    "Q, p = SARSA(env, n_episodes, alpha, epsilon, gamma)\n",
    "','.join([actions[pi] for pi in p])"
   ]
  },
  {
   "cell_type": "code",
   "execution_count": 88,
   "metadata": {},
   "outputs": [
    {
     "data": {
      "text/plain": [
       "'<,<,v,<'"
      ]
     },
     "execution_count": 88,
     "metadata": {},
     "output_type": "execute_result"
    }
   ],
   "source": [
    "amap = np.asarray('SFFG', dtype='c').reshape(2,2)\n",
    "env = FrozenLakeEnv(amap).unwrapped\n",
    "gamma=1\n",
    "alpha=0.24\n",
    "epsilon=0.09\n",
    "n_episodes=49553\n",
    "seed = 202404\n",
    "np.random.seed(seed)\n",
    "env.seed(seed)\n",
    "Q, p = SARSA(env, n_episodes, alpha, epsilon, gamma)\n",
    "','.join([actions[pi] for pi in p])"
   ]
  },
  {
   "cell_type": "code",
   "execution_count": 109,
   "metadata": {},
   "outputs": [
    {
     "name": "stdout",
     "output_type": "stream",
     "text": [
      "  (Left)\n",
      "SFFF\n",
      "\u001b[41mH\u001b[0mFFF\n",
      "FFFF\n",
      "FFFG\n"
     ]
    }
   ],
   "source": [
    "env.render()"
   ]
  },
  {
   "cell_type": "code",
   "execution_count": null,
   "metadata": {},
   "outputs": [],
   "source": []
  }
 ],
 "metadata": {
  "kernelspec": {
   "display_name": "Python 3",
   "language": "python",
   "name": "python3"
  },
  "language_info": {
   "codemirror_mode": {
    "name": "ipython",
    "version": 3
   },
   "file_extension": ".py",
   "mimetype": "text/x-python",
   "name": "python",
   "nbconvert_exporter": "python",
   "pygments_lexer": "ipython3",
   "version": "3.6.8"
  }
 },
 "nbformat": 4,
 "nbformat_minor": 4
}
