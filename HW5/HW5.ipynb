{
 "cells": [
  {
   "cell_type": "code",
   "execution_count": 17,
   "metadata": {},
   "outputs": [],
   "source": [
    "import numpy as np\n",
    "from collections import defaultdict"
   ]
  },
  {
   "cell_type": "code",
   "execution_count": 4,
   "metadata": {},
   "outputs": [],
   "source": [
    "atEstablishment = [[True,True], [True,False], [False,True], [True,True], [False,False], [True,False], [True,True]]\n",
    "fightOccurred = [False, True, False, False, False, True, False]"
   ]
  },
  {
   "cell_type": "code",
   "execution_count": 22,
   "metadata": {},
   "outputs": [],
   "source": [
    "def KWIK_learner(atEstablishment, fightOccurred):\n",
    "    N = len(atEstablishment[0])\n",
    "    \n",
    "    hypothesis = set((i,j) for i in range(N) for j in range(N) if i!=j)\n",
    "    Output = []\n",
    "    \n",
    "    for i, x in enumerate(atEstablishment):\n",
    "        aws = defaultdict(list)\n",
    "        for h in hypothesis:\n",
    "            if x[h[0]] and not x[h[1]]:\n",
    "                aws[True].append(h)\n",
    "            else:\n",
    "                aws[False].append(h)\n",
    "        print(i,x,aws)\n",
    "        if len(aws)>1:\n",
    "            Output.append(-1)\n",
    "            for h_wrong in aws[not fightOccurred[i]]:\n",
    "                hypothesis.remove(h_wrong)\n",
    "        elif True in aws:\n",
    "            Output.append(1)\n",
    "        else:\n",
    "            Output.append(0)\n",
    "            \n",
    "    return Output"
   ]
  },
  {
   "cell_type": "code",
   "execution_count": 51,
   "metadata": {},
   "outputs": [
    {
     "name": "stdout",
     "output_type": "stream",
     "text": [
      "0 [True, True] defaultdict(<class 'list'>, {False: [(0, 1), (1, 0)]})\n",
      "1 [False, True] defaultdict(<class 'list'>, {False: [(0, 1)], True: [(1, 0)]})\n",
      "2 [False, True] defaultdict(<class 'list'>, {True: [(1, 0)]})\n",
      "3 [False, True] defaultdict(<class 'list'>, {True: [(1, 0)]})\n",
      "4 [False, True] defaultdict(<class 'list'>, {True: [(1, 0)]})\n",
      "5 [True, True] defaultdict(<class 'list'>, {False: [(1, 0)]})\n",
      "6 [False, True] defaultdict(<class 'list'>, {True: [(1, 0)]})\n",
      "7 [False, True] defaultdict(<class 'list'>, {True: [(1, 0)]})\n"
     ]
    },
    {
     "data": {
      "text/plain": [
       "'0,-1,1,1,1,0,1,1'"
      ]
     },
     "execution_count": 51,
     "metadata": {},
     "output_type": "execute_result"
    }
   ],
   "source": [
    "atEstablishment = [[1,1],[0,1],[0,1],[0,1],[0,1],[1,1],[0,1],[0,1]]\n",
    "fightOccurred = [0,1,1,1,1,0,1,1]\n",
    "\n",
    "atEstablishment = [[False if i==0 else True for i in p] for p in atEstablishment]\n",
    "fightOccurred = [False if i==0 else True for i in fightOccurred]\n",
    "\n",
    "aws = KWIK_learner(atEstablishment, fightOccurred)\n",
    "','.join(str(i) for i in aws)"
   ]
  },
  {
   "cell_type": "code",
   "execution_count": null,
   "metadata": {},
   "outputs": [],
   "source": []
  }
 ],
 "metadata": {
  "kernelspec": {
   "display_name": "Python 3",
   "language": "python",
   "name": "python3"
  },
  "language_info": {
   "codemirror_mode": {
    "name": "ipython",
    "version": 3
   },
   "file_extension": ".py",
   "mimetype": "text/x-python",
   "name": "python",
   "nbconvert_exporter": "python",
   "pygments_lexer": "ipython3",
   "version": "3.6.5"
  }
 },
 "nbformat": 4,
 "nbformat_minor": 4
}
